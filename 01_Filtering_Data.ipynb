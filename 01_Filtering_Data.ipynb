{
 "cells": [
  {
   "cell_type": "markdown",
   "id": "13539bd2",
   "metadata": {},
   "source": [
    "This jupyter notebook helps partition data. This partitioned data will then be used to train a seperate CTGANs. "
   ]
  },
  {
   "cell_type": "code",
   "execution_count": 1,
   "id": "67912f00-a1f0-4c77-a080-470e4e27a7b4",
   "metadata": {},
   "outputs": [],
   "source": [
    "import pandas as pd\n",
    "df = pd.read_feather(\"raw_incident_data_v2.feather\")"
   ]
  },
  {
   "cell_type": "code",
   "execution_count": 2,
   "id": "bac82ffc-141d-4b73-878d-063285e30a6e",
   "metadata": {},
   "outputs": [],
   "source": [
    "df['service_code_description'].value_counts()\n",
    "df_filtered = df.copy()"
   ]
  },
  {
   "cell_type": "code",
   "execution_count": 3,
   "id": "319e0117-c067-4075-b164-969303932af7",
   "metadata": {},
   "outputs": [],
   "source": [
    "# Which service_code to filter on\n",
    "# df_filtered = df[df['service_code_description'] == \"DOMESTIC INCIDENT\"]\n",
    "# len(df_filtered)"
   ]
  },
  {
   "cell_type": "markdown",
   "id": "1b8f29b2-d9c2-480f-a853-cf6f0e7242aa",
   "metadata": {},
   "source": [
    "### Preprocessing"
   ]
  },
  {
   "cell_type": "code",
   "execution_count": 4,
   "id": "d5652f29-50fd-446f-a3d0-908deba9ed07",
   "metadata": {
    "scrolled": true
   },
   "outputs": [
    {
     "data": {
      "text/html": [
       "<div>\n",
       "<style scoped>\n",
       "    .dataframe tbody tr th:only-of-type {\n",
       "        vertical-align: middle;\n",
       "    }\n",
       "\n",
       "    .dataframe tbody tr th {\n",
       "        vertical-align: top;\n",
       "    }\n",
       "\n",
       "    .dataframe thead th {\n",
       "        text-align: right;\n",
       "    }\n",
       "</style>\n",
       "<table border=\"1\" class=\"dataframe\">\n",
       "  <thead>\n",
       "    <tr style=\"text-align: right;\">\n",
       "      <th></th>\n",
       "      <th>incident_count</th>\n",
       "      <th>date_created</th>\n",
       "      <th>hour_created</th>\n",
       "      <th>max_final_priority</th>\n",
       "      <th>inc_resourced</th>\n",
       "      <th>scrs_crime_inc</th>\n",
       "      <th>datazone</th>\n",
       "      <th>dzone_code</th>\n",
       "      <th>service_code_description</th>\n",
       "      <th>mm_ward_code</th>\n",
       "      <th>multi_member_ward</th>\n",
       "    </tr>\n",
       "  </thead>\n",
       "  <tbody>\n",
       "    <tr>\n",
       "      <th>0</th>\n",
       "      <td>2</td>\n",
       "      <td>2023-05-24</td>\n",
       "      <td>15</td>\n",
       "      <td>STANDARD</td>\n",
       "      <td>False</td>\n",
       "      <td>True</td>\n",
       "      <td>Northfield and Piershill - 01</td>\n",
       "      <td>S01008743</td>\n",
       "      <td>THEFT</td>\n",
       "      <td>S13002932</td>\n",
       "      <td>Craigentinny/Duddingston</td>\n",
       "    </tr>\n",
       "    <tr>\n",
       "      <th>1</th>\n",
       "      <td>2</td>\n",
       "      <td>2023-08-11</td>\n",
       "      <td>7</td>\n",
       "      <td>PROMPT</td>\n",
       "      <td>False</td>\n",
       "      <td>False</td>\n",
       "      <td>Carntyne West and Haghill - 03</td>\n",
       "      <td>S01010244</td>\n",
       "      <td>ROAD TRAFFIC COLLISION</td>\n",
       "      <td>S13002975</td>\n",
       "      <td>Calton</td>\n",
       "    </tr>\n",
       "    <tr>\n",
       "      <th>2</th>\n",
       "      <td>2</td>\n",
       "      <td>2023-02-16</td>\n",
       "      <td>20</td>\n",
       "      <td>PROMPT</td>\n",
       "      <td>True</td>\n",
       "      <td>False</td>\n",
       "      <td>Charleston - 04</td>\n",
       "      <td>S01007848</td>\n",
       "      <td>ASSIST MEMBER OF THE PUBLIC</td>\n",
       "      <td>S13002546</td>\n",
       "      <td>Lochee</td>\n",
       "    </tr>\n",
       "    <tr>\n",
       "      <th>3</th>\n",
       "      <td>1</td>\n",
       "      <td>2023-02-16</td>\n",
       "      <td>21</td>\n",
       "      <td>PROMPT</td>\n",
       "      <td>True</td>\n",
       "      <td>False</td>\n",
       "      <td>Fort William North - 04</td>\n",
       "      <td>S01010513</td>\n",
       "      <td>ASSIST MEMBER OF THE PUBLIC</td>\n",
       "      <td>S13003000</td>\n",
       "      <td>Caol and Mallaig</td>\n",
       "    </tr>\n",
       "    <tr>\n",
       "      <th>4</th>\n",
       "      <td>1</td>\n",
       "      <td>2023-02-16</td>\n",
       "      <td>21</td>\n",
       "      <td>IMMEDIATE</td>\n",
       "      <td>True</td>\n",
       "      <td>False</td>\n",
       "      <td>City Centre - 05</td>\n",
       "      <td>S01007705</td>\n",
       "      <td>ASSIST MEMBER OF THE PUBLIC</td>\n",
       "      <td>S13002549</td>\n",
       "      <td>Maryfield</td>\n",
       "    </tr>\n",
       "  </tbody>\n",
       "</table>\n",
       "</div>"
      ],
      "text/plain": [
       "   incident_count date_created  hour_created max_final_priority  \\\n",
       "0               2   2023-05-24            15           STANDARD   \n",
       "1               2   2023-08-11             7             PROMPT   \n",
       "2               2   2023-02-16            20             PROMPT   \n",
       "3               1   2023-02-16            21             PROMPT   \n",
       "4               1   2023-02-16            21          IMMEDIATE   \n",
       "\n",
       "   inc_resourced  scrs_crime_inc                        datazone dzone_code  \\\n",
       "0          False            True   Northfield and Piershill - 01  S01008743   \n",
       "1          False           False  Carntyne West and Haghill - 03  S01010244   \n",
       "2           True           False                 Charleston - 04  S01007848   \n",
       "3           True           False         Fort William North - 04  S01010513   \n",
       "4           True           False                City Centre - 05  S01007705   \n",
       "\n",
       "      service_code_description mm_ward_code         multi_member_ward  \n",
       "0                        THEFT    S13002932  Craigentinny/Duddingston  \n",
       "1       ROAD TRAFFIC COLLISION    S13002975                    Calton  \n",
       "2  ASSIST MEMBER OF THE PUBLIC    S13002546                    Lochee  \n",
       "3  ASSIST MEMBER OF THE PUBLIC    S13003000          Caol and Mallaig  \n",
       "4  ASSIST MEMBER OF THE PUBLIC    S13002549                 Maryfield  "
      ]
     },
     "execution_count": 4,
     "metadata": {},
     "output_type": "execute_result"
    }
   ],
   "source": [
    "df_filtered.head()"
   ]
  },
  {
   "cell_type": "code",
   "execution_count": 5,
   "id": "337c6d27-0296-4687-badc-65b533df50d2",
   "metadata": {},
   "outputs": [
    {
     "data": {
      "text/plain": [
       "incident_count               int32\n",
       "date_created                object\n",
       "hour_created                 int32\n",
       "max_final_priority          object\n",
       "inc_resourced                 bool\n",
       "scrs_crime_inc                bool\n",
       "datazone                    object\n",
       "dzone_code                  object\n",
       "service_code_description    object\n",
       "mm_ward_code                object\n",
       "multi_member_ward           object\n",
       "dtype: object"
      ]
     },
     "execution_count": 5,
     "metadata": {},
     "output_type": "execute_result"
    }
   ],
   "source": [
    "df_filtered.dtypes"
   ]
  },
  {
   "cell_type": "code",
   "execution_count": 6,
   "id": "7dcb4767-d241-4814-9276-3c4b27a1f28d",
   "metadata": {},
   "outputs": [
    {
     "name": "stderr",
     "output_type": "stream",
     "text": [
      "/tmp/dcs-tmp.u2164966/ipykernel_186554/2146405816.py:3: FutureWarning: Setting an item of incompatible dtype is deprecated and will raise in a future error of pandas. Value '[True, False, False, False, False, ..., True, True, True, True, True]\n",
      "Length: 1340347\n",
      "Categories (2, bool): [False, True]' has dtype incompatible with bool, please explicitly cast to a compatible dtype first.\n",
      "  df_filtered.loc[:, bool_vars] = df_filtered[bool_vars].astype('category')\n",
      "/tmp/dcs-tmp.u2164966/ipykernel_186554/2146405816.py:3: FutureWarning: Setting an item of incompatible dtype is deprecated and will raise in a future error of pandas. Value '[False, False, True, True, True, ..., False, True, False, False, False]\n",
      "Length: 1340347\n",
      "Categories (2, bool): [False, True]' has dtype incompatible with bool, please explicitly cast to a compatible dtype first.\n",
      "  df_filtered.loc[:, bool_vars] = df_filtered[bool_vars].astype('category')\n"
     ]
    }
   ],
   "source": [
    "# covert bool vars to cat\n",
    "bool_vars = ['scrs_crime_inc', 'inc_resourced']\n",
    "df_filtered.loc[:, bool_vars] = df_filtered[bool_vars].astype('category')"
   ]
  },
  {
   "cell_type": "code",
   "execution_count": 8,
   "id": "c687c927-a986-4977-a331-6a63849ba696",
   "metadata": {},
   "outputs": [
    {
     "name": "stdout",
     "output_type": "stream",
     "text": [
      "earliest actual date: 2022-04-01 00:00:00, mapped date at seq 1: 2022-04-01 00:00:00\n",
      " latest actual date: 2024-06-28 00:00:00, mapped date at seq 820: 2024-06-28 00:00:00\n"
     ]
    }
   ],
   "source": [
    "# converting date variable to a number in [startdate, enddate]\n",
    "import pandas as pd\n",
    "\n",
    "# make sure date_created is datetime\n",
    "df_filtered['date_created'] = pd.to_datetime(df_filtered['date_created'])\n",
    "\n",
    "# compute day offset from min date, then +1\n",
    "min_date = df_filtered['date_created'].min()  # 2022-04-01 00:00:00\n",
    "df_filtered['date_seq'] = (df_filtered['date_created'] - min_date).dt.days + 1\n",
    "\n",
    "# compute min/max of each\n",
    "min_date = df_filtered['date_created'].min()\n",
    "max_date = df_filtered['date_created'].max()\n",
    "min_seq  = df_filtered['date_seq'].min()\n",
    "max_seq  = df_filtered['date_seq'].max()\n",
    "\n",
    "# grab the corresponding dates from the mapped column\n",
    "mapped_min_date = df_filtered.loc[df_filtered['date_seq'] == min_seq, 'date_created'].iloc[0]\n",
    "mapped_max_date = df_filtered.loc[df_filtered['date_seq'] == max_seq, 'date_created'].iloc[0]\n",
    "\n",
    "# sanity‐check\n",
    "print(f\"earliest actual date: {min_date}, mapped date at seq {min_seq}: {mapped_min_date}\")\n",
    "print(f\" latest actual date: {max_date}, mapped date at seq {max_seq}: {mapped_max_date}\")"
   ]
  },
  {
   "cell_type": "code",
   "execution_count": 11,
   "id": "5a63f510-5af3-4411-a926-f2266094ceac",
   "metadata": {},
   "outputs": [
    {
     "ename": "NameError",
     "evalue": "name 'lookup' is not defined",
     "output_type": "error",
     "traceback": [
      "\u001b[31m---------------------------------------------------------------------------\u001b[39m",
      "\u001b[31mNameError\u001b[39m                                 Traceback (most recent call last)",
      "\u001b[36mCell\u001b[39m\u001b[36m \u001b[39m\u001b[32mIn[11]\u001b[39m\u001b[32m, line 14\u001b[39m\n\u001b[32m     12\u001b[39m \u001b[38;5;66;03m# Apply to real dataset before training\u001b[39;00m\n\u001b[32m     13\u001b[39m df_filtered[\u001b[33m\"\u001b[39m\u001b[33mmulti_member_ward\u001b[39m\u001b[33m\"\u001b[39m] = df_filtered[\u001b[33m\"\u001b[39m\u001b[33mmulti_member_ward\u001b[39m\u001b[33m\"\u001b[39m].map(normalize_ward_name)\n\u001b[32m---> \u001b[39m\u001b[32m14\u001b[39m lookup[\u001b[33m\"\u001b[39m\u001b[33mMMWard_Name\u001b[39m\u001b[33m\"\u001b[39m] = \u001b[43mlookup\u001b[49m[\u001b[33m\"\u001b[39m\u001b[33mMMWard_Name\u001b[39m\u001b[33m\"\u001b[39m].map(normalize_ward_name)\n",
      "\u001b[31mNameError\u001b[39m: name 'lookup' is not defined"
     ]
    }
   ],
   "source": [
    "import unicodedata\n",
    "\n",
    "# Function to normalize multi_member_ward values\n",
    "def normalize_ward_name(name):\n",
    "    if pd.isnull(name):\n",
    "        return name\n",
    "    name = unicodedata.normalize(\"NFKD\", name).encode(\"ascii\", \"ignore\").decode(\"utf-8\")\n",
    "    name = name.replace(\"&\", \"and\").replace(\"/\", \",\").replace(\"'\", \"\").strip()\n",
    "    name = ' '.join(name.split())  # remove extra internal spaces\n",
    "    return name.lower()  # optional: lowercase for consistency\n",
    "\n",
    "# Apply to real dataset before training\n",
    "df_filtered[\"multi_member_ward\"] = df_filtered[\"multi_member_ward\"].map(normalize_ward_name)\n",
    "lookup[\"MMWard_Name\"] = lookup[\"MMWard_Name\"].map(normalize_ward_name)"
   ]
  },
  {
   "cell_type": "code",
   "execution_count": 13,
   "id": "03e07eca-80cf-43a3-8444-fe83430a30a6",
   "metadata": {
    "scrolled": true
   },
   "outputs": [
    {
     "ename": "NameError",
     "evalue": "name 'lookup' is not defined",
     "output_type": "error",
     "traceback": [
      "\u001b[31m---------------------------------------------------------------------------\u001b[39m",
      "\u001b[31mNameError\u001b[39m                                 Traceback (most recent call last)",
      "\u001b[36mCell\u001b[39m\u001b[36m \u001b[39m\u001b[32mIn[13]\u001b[39m\u001b[32m, line 3\u001b[39m\n\u001b[32m      1\u001b[39m \u001b[38;5;66;03m# Checking difference between the lookup and df multi_ward_member names\u001b[39;00m\n\u001b[32m      2\u001b[39m df_set = \u001b[38;5;28mset\u001b[39m(df_filtered[\u001b[33m\"\u001b[39m\u001b[33mmulti_member_ward\u001b[39m\u001b[33m\"\u001b[39m])\n\u001b[32m----> \u001b[39m\u001b[32m3\u001b[39m lookup_set = \u001b[38;5;28mset\u001b[39m(\u001b[43mlookup\u001b[49m[\u001b[33m'\u001b[39m\u001b[33mMMWard_Name\u001b[39m\u001b[33m'\u001b[39m])\n\u001b[32m      5\u001b[39m \u001b[38;5;28mprint\u001b[39m(lookup_set-df_set) \u001b[38;5;66;03m# this might be a location where a theft was not recorded in the recent years\u001b[39;00m\n",
      "\u001b[31mNameError\u001b[39m: name 'lookup' is not defined"
     ]
    }
   ],
   "source": [
    "# Checking difference between the lookup and df multi_ward_member names\n",
    "df_set = set(df_filtered[\"multi_member_ward\"])\n",
    "lookup_set = set(lookup['MMWard_Name'])\n",
    "\n",
    "print(lookup_set-df_set) # this might be a location where a theft was not recorded in the recent years"
   ]
  },
  {
   "cell_type": "code",
   "execution_count": 15,
   "id": "bdeb8535-4379-46e5-9d46-838a370fa1f8",
   "metadata": {},
   "outputs": [],
   "source": [
    "# Removing unnecessary columns\n",
    "df_filtered = df_filtered.drop(['incident_count','datazone', 'dzone_code'], axis=1)"
   ]
  },
  {
   "cell_type": "code",
   "execution_count": 16,
   "id": "404d5348-6999-4c7c-a4af-3e44ebbe7133",
   "metadata": {},
   "outputs": [],
   "source": [
    "df_filtered = df_filtered.drop('mm_ward_code', axis=1)"
   ]
  },
  {
   "cell_type": "code",
   "execution_count": 17,
   "id": "ccbc9327-bd6f-40a6-a523-37822190eec1",
   "metadata": {},
   "outputs": [],
   "source": [
    "from sdv.metadata import Metadata\n",
    "\n",
    "cat_cols  = [\"max_final_priority\", \"service_code_description\", 'scrs_crime_inc', 'inc_resourced', 'multi_member_ward']\n",
    "df_filtered[cat_cols] = df_filtered[cat_cols].astype('object')"
   ]
  },
  {
   "cell_type": "markdown",
   "id": "82421686-a541-49f0-a22b-8ca122c68710",
   "metadata": {},
   "source": [
    "## Saving the filtered data into a pickle file"
   ]
  },
  {
   "cell_type": "code",
   "execution_count": 18,
   "id": "fb0fca52-0dad-438c-9892-6838a3f0cd4a",
   "metadata": {},
   "outputs": [],
   "source": [
    "df_filtered.to_pickle(\"filtered_data/df_v2_filtered.pkl\")"
   ]
  },
  {
   "cell_type": "code",
   "execution_count": null,
   "id": "2a4bf39d-9948-4e98-834a-248f0c7e5a81",
   "metadata": {},
   "outputs": [],
   "source": []
  },
  {
   "cell_type": "code",
   "execution_count": null,
   "id": "2a8e529c-46cd-4e5e-a21b-a7dace99e796",
   "metadata": {},
   "outputs": [],
   "source": []
  }
 ],
 "metadata": {
  "kernelspec": {
   "display_name": "Python 3 (ipykernel)",
   "language": "python",
   "name": "python3"
  },
  "language_info": {
   "codemirror_mode": {
    "name": "ipython",
    "version": 3
   },
   "file_extension": ".py",
   "mimetype": "text/x-python",
   "name": "python",
   "nbconvert_exporter": "python",
   "pygments_lexer": "ipython3",
   "version": "3.12.11"
  }
 },
 "nbformat": 4,
 "nbformat_minor": 5
}
