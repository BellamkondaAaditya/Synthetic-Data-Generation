{
 "cells": [
  {
   "cell_type": "markdown",
   "id": "f80818a1",
   "metadata": {},
   "source": [
    "In this jupyter notebook we explore DP CTGAN implementation on incident data."
   ]
  },
  {
   "cell_type": "markdown",
   "id": "2154e7c4-b9d4-479f-aefa-ba8fb4f58082",
   "metadata": {},
   "source": [
    "# DP CTGAN"
   ]
  },
  {
   "cell_type": "code",
   "execution_count": 1,
   "id": "d09fe695-2700-4b99-86b0-942651beff12",
   "metadata": {},
   "outputs": [
    {
     "name": "stdout",
     "output_type": "stream",
     "text": [
      "3.11.0 (main, Nov 17 2022, 11:48:18) [GCC 8.5.0 20210514 (Red Hat 8.5.0-10)]\n"
     ]
    }
   ],
   "source": [
    "import sys\n",
    "print(sys.version)"
   ]
  },
  {
   "cell_type": "markdown",
   "id": "27b20327-e899-4871-9fea-8b7da0bc45e8",
   "metadata": {},
   "source": [
    "## Setup"
   ]
  },
  {
   "cell_type": "code",
   "execution_count": 3,
   "id": "675b26ba-4663-49f3-aafa-23dd692ba410",
   "metadata": {
    "collapsed": true,
    "jupyter": {
     "outputs_hidden": true
    },
    "scrolled": true
   },
   "outputs": [
    {
     "name": "stdout",
     "output_type": "stream",
     "text": [
      "Collecting dp_cgans\n",
      "  Using cached dp_cgans-0.0.6-py3-none-any.whl.metadata (15 kB)\n",
      "Collecting copulas (from dp_cgans)\n",
      "  Using cached copulas-0.12.3-py3-none-any.whl.metadata (9.5 kB)\n",
      "Collecting graphviz (from dp_cgans)\n",
      "  Using cached graphviz-0.21-py3-none-any.whl.metadata (12 kB)\n",
      "Collecting numpy (from dp_cgans)\n",
      "  Downloading numpy-2.3.2-cp311-cp311-manylinux_2_27_x86_64.manylinux_2_28_x86_64.whl.metadata (62 kB)\n",
      "Collecting pandas (from dp_cgans)\n",
      "  Downloading pandas-2.3.1-cp311-cp311-manylinux_2_17_x86_64.manylinux2014_x86_64.whl.metadata (91 kB)\n",
      "Collecting pyreadstat (from dp_cgans)\n",
      "  Downloading pyreadstat-1.3.0-cp311-cp311-manylinux2014_x86_64.manylinux_2_17_x86_64.whl.metadata (1.3 kB)\n",
      "Collecting rdt (from dp_cgans)\n",
      "  Using cached rdt-1.17.1-py3-none-any.whl.metadata (10 kB)\n",
      "Collecting scikit-learn (from dp_cgans)\n",
      "  Downloading scikit_learn-1.7.1-cp311-cp311-manylinux2014_x86_64.manylinux_2_17_x86_64.whl.metadata (11 kB)\n",
      "Collecting scipy (from dp_cgans)\n",
      "  Downloading scipy-1.16.1-cp311-cp311-manylinux2014_x86_64.manylinux_2_17_x86_64.whl.metadata (61 kB)\n",
      "Collecting sdv>=1.5.0 (from dp_cgans)\n",
      "  Downloading sdv-1.25.0-py3-none-any.whl.metadata (14 kB)\n",
      "Collecting torch (from dp_cgans)\n",
      "  Downloading torch-2.8.0-cp311-cp311-manylinux_2_28_x86_64.whl.metadata (30 kB)\n",
      "Collecting typed-ast (from dp_cgans)\n",
      "  Downloading typed_ast-1.5.5-cp311-cp311-manylinux_2_17_x86_64.manylinux2014_x86_64.whl.metadata (1.7 kB)\n",
      "Collecting typer (from dp_cgans)\n",
      "  Using cached typer-0.16.0-py3-none-any.whl.metadata (15 kB)\n",
      "Collecting wandb (from dp_cgans)\n",
      "  Using cached wandb-0.21.1-py3-none-manylinux_2_17_x86_64.manylinux2014_x86_64.whl.metadata (10 kB)\n",
      "Collecting boto3<2.0.0,>=1.28 (from sdv>=1.5.0->dp_cgans)\n",
      "  Downloading boto3-1.40.8-py3-none-any.whl.metadata (6.7 kB)\n",
      "Collecting botocore<2.0.0,>=1.31 (from sdv>=1.5.0->dp_cgans)\n",
      "  Downloading botocore-1.40.8-py3-none-any.whl.metadata (5.7 kB)\n",
      "Collecting cloudpickle>=2.1.0 (from sdv>=1.5.0->dp_cgans)\n",
      "  Using cached cloudpickle-3.1.1-py3-none-any.whl.metadata (7.1 kB)\n",
      "Collecting tqdm>=4.29 (from sdv>=1.5.0->dp_cgans)\n",
      "  Downloading tqdm-4.67.1-py3-none-any.whl.metadata (57 kB)\n",
      "Collecting ctgan>=0.11.0 (from sdv>=1.5.0->dp_cgans)\n",
      "  Using cached ctgan-0.11.0-py3-none-any.whl.metadata (10 kB)\n",
      "Collecting deepecho>=0.7.0 (from sdv>=1.5.0->dp_cgans)\n",
      "  Using cached deepecho-0.7.0-py3-none-any.whl.metadata (10 kB)\n",
      "Collecting sdmetrics>=0.21.0 (from sdv>=1.5.0->dp_cgans)\n",
      "  Using cached sdmetrics-0.22.0-py3-none-any.whl.metadata (9.4 kB)\n",
      "Requirement already satisfied: platformdirs>=4.0 in ./myenv311/lib/python3.11/site-packages (from sdv>=1.5.0->dp_cgans) (4.3.8)\n",
      "Requirement already satisfied: pyyaml>=6.0.1 in ./myenv311/lib/python3.11/site-packages (from sdv>=1.5.0->dp_cgans) (6.0.2)\n",
      "Collecting jmespath<2.0.0,>=0.7.1 (from boto3<2.0.0,>=1.28->sdv>=1.5.0->dp_cgans)\n",
      "  Using cached jmespath-1.0.1-py3-none-any.whl.metadata (7.6 kB)\n",
      "Collecting s3transfer<0.14.0,>=0.13.0 (from boto3<2.0.0,>=1.28->sdv>=1.5.0->dp_cgans)\n",
      "  Downloading s3transfer-0.13.1-py3-none-any.whl.metadata (1.7 kB)\n",
      "Requirement already satisfied: python-dateutil<3.0.0,>=2.1 in ./myenv311/lib/python3.11/site-packages (from botocore<2.0.0,>=1.31->sdv>=1.5.0->dp_cgans) (2.9.0.post0)\n",
      "Requirement already satisfied: urllib3!=2.2.0,<3,>=1.25.4 in ./myenv311/lib/python3.11/site-packages (from botocore<2.0.0,>=1.31->sdv>=1.5.0->dp_cgans) (2.5.0)\n",
      "Requirement already satisfied: six>=1.5 in ./myenv311/lib/python3.11/site-packages (from python-dateutil<3.0.0,>=2.1->botocore<2.0.0,>=1.31->sdv>=1.5.0->dp_cgans) (1.17.0)\n",
      "Collecting plotly>=5.10.0 (from copulas->dp_cgans)\n",
      "  Downloading plotly-6.3.0-py3-none-any.whl.metadata (8.5 kB)\n",
      "Collecting pytz>=2020.1 (from pandas->dp_cgans)\n",
      "  Using cached pytz-2025.2-py2.py3-none-any.whl.metadata (22 kB)\n",
      "Collecting tzdata>=2022.7 (from pandas->dp_cgans)\n",
      "  Using cached tzdata-2025.2-py2.py3-none-any.whl.metadata (1.4 kB)\n",
      "Collecting narwhals>=1.15.1 (from plotly>=5.10.0->copulas->dp_cgans)\n",
      "  Downloading narwhals-2.1.1-py3-none-any.whl.metadata (11 kB)\n",
      "Requirement already satisfied: packaging in ./myenv311/lib/python3.11/site-packages (from plotly>=5.10.0->copulas->dp_cgans) (25.0)\n",
      "Collecting Faker>=17 (from rdt->dp_cgans)\n",
      "  Downloading faker-37.5.3-py3-none-any.whl.metadata (15 kB)\n",
      "Collecting joblib>=1.2.0 (from scikit-learn->dp_cgans)\n",
      "  Downloading joblib-1.5.1-py3-none-any.whl.metadata (5.6 kB)\n",
      "Collecting threadpoolctl>=3.1.0 (from scikit-learn->dp_cgans)\n",
      "  Downloading threadpoolctl-3.6.0-py3-none-any.whl.metadata (13 kB)\n",
      "Collecting filelock (from torch->dp_cgans)\n",
      "  Using cached filelock-3.18.0-py3-none-any.whl.metadata (2.9 kB)\n",
      "Requirement already satisfied: typing-extensions>=4.10.0 in ./myenv311/lib/python3.11/site-packages (from torch->dp_cgans) (4.14.1)\n",
      "Collecting sympy>=1.13.3 (from torch->dp_cgans)\n",
      "  Using cached sympy-1.14.0-py3-none-any.whl.metadata (12 kB)\n",
      "Collecting networkx (from torch->dp_cgans)\n",
      "  Downloading networkx-3.5-py3-none-any.whl.metadata (6.3 kB)\n",
      "Requirement already satisfied: jinja2 in ./myenv311/lib/python3.11/site-packages (from torch->dp_cgans) (3.1.6)\n",
      "Collecting fsspec (from torch->dp_cgans)\n",
      "  Downloading fsspec-2025.7.0-py3-none-any.whl.metadata (12 kB)\n",
      "Collecting nvidia-cuda-nvrtc-cu12==12.8.93 (from torch->dp_cgans)\n",
      "  Downloading nvidia_cuda_nvrtc_cu12-12.8.93-py3-none-manylinux2010_x86_64.manylinux_2_12_x86_64.whl.metadata (1.7 kB)\n",
      "Collecting nvidia-cuda-runtime-cu12==12.8.90 (from torch->dp_cgans)\n",
      "  Downloading nvidia_cuda_runtime_cu12-12.8.90-py3-none-manylinux2014_x86_64.manylinux_2_17_x86_64.whl.metadata (1.7 kB)\n",
      "Collecting nvidia-cuda-cupti-cu12==12.8.90 (from torch->dp_cgans)\n",
      "  Downloading nvidia_cuda_cupti_cu12-12.8.90-py3-none-manylinux2014_x86_64.manylinux_2_17_x86_64.whl.metadata (1.7 kB)\n",
      "Collecting nvidia-cudnn-cu12==9.10.2.21 (from torch->dp_cgans)\n",
      "  Downloading nvidia_cudnn_cu12-9.10.2.21-py3-none-manylinux_2_27_x86_64.whl.metadata (1.8 kB)\n",
      "Collecting nvidia-cublas-cu12==12.8.4.1 (from torch->dp_cgans)\n",
      "  Downloading nvidia_cublas_cu12-12.8.4.1-py3-none-manylinux_2_27_x86_64.whl.metadata (1.7 kB)\n",
      "Collecting nvidia-cufft-cu12==11.3.3.83 (from torch->dp_cgans)\n",
      "  Downloading nvidia_cufft_cu12-11.3.3.83-py3-none-manylinux2014_x86_64.manylinux_2_17_x86_64.whl.metadata (1.7 kB)\n",
      "Collecting nvidia-curand-cu12==10.3.9.90 (from torch->dp_cgans)\n",
      "  Downloading nvidia_curand_cu12-10.3.9.90-py3-none-manylinux_2_27_x86_64.whl.metadata (1.7 kB)\n",
      "Collecting nvidia-cusolver-cu12==11.7.3.90 (from torch->dp_cgans)\n",
      "  Downloading nvidia_cusolver_cu12-11.7.3.90-py3-none-manylinux_2_27_x86_64.whl.metadata (1.8 kB)\n",
      "Collecting nvidia-cusparse-cu12==12.5.8.93 (from torch->dp_cgans)\n",
      "  Downloading nvidia_cusparse_cu12-12.5.8.93-py3-none-manylinux2014_x86_64.manylinux_2_17_x86_64.whl.metadata (1.8 kB)\n",
      "Collecting nvidia-cusparselt-cu12==0.7.1 (from torch->dp_cgans)\n",
      "  Downloading nvidia_cusparselt_cu12-0.7.1-py3-none-manylinux2014_x86_64.whl.metadata (7.0 kB)\n",
      "Collecting nvidia-nccl-cu12==2.27.3 (from torch->dp_cgans)\n",
      "  Downloading nvidia_nccl_cu12-2.27.3-py3-none-manylinux2014_x86_64.manylinux_2_17_x86_64.whl.metadata (2.0 kB)\n",
      "Collecting nvidia-nvtx-cu12==12.8.90 (from torch->dp_cgans)\n",
      "  Downloading nvidia_nvtx_cu12-12.8.90-py3-none-manylinux2014_x86_64.manylinux_2_17_x86_64.whl.metadata (1.8 kB)\n",
      "Collecting nvidia-nvjitlink-cu12==12.8.93 (from torch->dp_cgans)\n",
      "  Downloading nvidia_nvjitlink_cu12-12.8.93-py3-none-manylinux2010_x86_64.manylinux_2_12_x86_64.whl.metadata (1.7 kB)\n",
      "Collecting nvidia-cufile-cu12==1.13.1.3 (from torch->dp_cgans)\n",
      "  Downloading nvidia_cufile_cu12-1.13.1.3-py3-none-manylinux2014_x86_64.manylinux_2_17_x86_64.whl.metadata (1.7 kB)\n",
      "Collecting triton==3.4.0 (from torch->dp_cgans)\n",
      "  Downloading triton-3.4.0-cp311-cp311-manylinux_2_27_x86_64.manylinux_2_28_x86_64.whl.metadata (1.7 kB)\n",
      "Requirement already satisfied: setuptools>=40.8.0 in ./myenv311/lib/python3.11/site-packages (from triton==3.4.0->torch->dp_cgans) (65.5.0)\n",
      "Collecting mpmath<1.4,>=1.1.0 (from sympy>=1.13.3->torch->dp_cgans)\n",
      "  Using cached mpmath-1.3.0-py3-none-any.whl.metadata (8.6 kB)\n",
      "Requirement already satisfied: MarkupSafe>=2.0 in ./myenv311/lib/python3.11/site-packages (from jinja2->torch->dp_cgans) (3.0.2)\n",
      "Collecting click>=8.0.0 (from typer->dp_cgans)\n",
      "  Using cached click-8.2.1-py3-none-any.whl.metadata (2.5 kB)\n",
      "Collecting shellingham>=1.3.0 (from typer->dp_cgans)\n",
      "  Using cached shellingham-1.5.4-py2.py3-none-any.whl.metadata (3.5 kB)\n",
      "Collecting rich>=10.11.0 (from typer->dp_cgans)\n",
      "  Using cached rich-14.1.0-py3-none-any.whl.metadata (18 kB)\n",
      "Collecting markdown-it-py>=2.2.0 (from rich>=10.11.0->typer->dp_cgans)\n",
      "  Using cached markdown_it_py-4.0.0-py3-none-any.whl.metadata (7.3 kB)\n",
      "Requirement already satisfied: pygments<3.0.0,>=2.13.0 in ./myenv311/lib/python3.11/site-packages (from rich>=10.11.0->typer->dp_cgans) (2.19.2)\n",
      "Collecting mdurl~=0.1 (from markdown-it-py>=2.2.0->rich>=10.11.0->typer->dp_cgans)\n",
      "  Using cached mdurl-0.1.2-py3-none-any.whl.metadata (1.6 kB)\n",
      "Collecting gitpython!=3.1.29,>=1.0.0 (from wandb->dp_cgans)\n",
      "  Using cached gitpython-3.1.45-py3-none-any.whl.metadata (13 kB)\n",
      "Collecting protobuf!=4.21.0,!=5.28.0,<7,>=3.19.0 (from wandb->dp_cgans)\n",
      "  Using cached protobuf-6.31.1-cp39-abi3-manylinux2014_x86_64.whl.metadata (593 bytes)\n",
      "Collecting pydantic<3 (from wandb->dp_cgans)\n",
      "  Using cached pydantic-2.11.7-py3-none-any.whl.metadata (67 kB)\n",
      "Requirement already satisfied: requests<3,>=2.0.0 in ./myenv311/lib/python3.11/site-packages (from wandb->dp_cgans) (2.32.4)\n",
      "Collecting sentry-sdk>=2.0.0 (from wandb->dp_cgans)\n",
      "  Using cached sentry_sdk-2.34.1-py2.py3-none-any.whl.metadata (10 kB)\n",
      "Collecting annotated-types>=0.6.0 (from pydantic<3->wandb->dp_cgans)\n",
      "  Using cached annotated_types-0.7.0-py3-none-any.whl.metadata (15 kB)\n",
      "Collecting pydantic-core==2.33.2 (from pydantic<3->wandb->dp_cgans)\n",
      "  Downloading pydantic_core-2.33.2-cp311-cp311-manylinux_2_17_x86_64.manylinux2014_x86_64.whl.metadata (6.8 kB)\n",
      "Collecting typing-inspection>=0.4.0 (from pydantic<3->wandb->dp_cgans)\n",
      "  Using cached typing_inspection-0.4.1-py3-none-any.whl.metadata (2.6 kB)\n",
      "Requirement already satisfied: charset_normalizer<4,>=2 in ./myenv311/lib/python3.11/site-packages (from requests<3,>=2.0.0->wandb->dp_cgans) (3.4.3)\n",
      "Requirement already satisfied: idna<4,>=2.5 in ./myenv311/lib/python3.11/site-packages (from requests<3,>=2.0.0->wandb->dp_cgans) (3.10)\n",
      "Requirement already satisfied: certifi>=2017.4.17 in ./myenv311/lib/python3.11/site-packages (from requests<3,>=2.0.0->wandb->dp_cgans) (2025.8.3)\n",
      "Collecting gitdb<5,>=4.0.1 (from gitpython!=3.1.29,>=1.0.0->wandb->dp_cgans)\n",
      "  Using cached gitdb-4.0.12-py3-none-any.whl.metadata (1.2 kB)\n",
      "Collecting smmap<6,>=3.0.1 (from gitdb<5,>=4.0.1->gitpython!=3.1.29,>=1.0.0->wandb->dp_cgans)\n",
      "  Using cached smmap-5.0.2-py3-none-any.whl.metadata (4.3 kB)\n",
      "Using cached dp_cgans-0.0.6-py3-none-any.whl (72 kB)\n",
      "Downloading sdv-1.25.0-py3-none-any.whl (185 kB)\n",
      "Downloading boto3-1.40.8-py3-none-any.whl (140 kB)\n",
      "Downloading botocore-1.40.8-py3-none-any.whl (14.0 MB)\n",
      "\u001b[2K   \u001b[90m━━━━━━━━━━━━━━━━━━━━━━━━━━━━━━━━━━━━━━━━\u001b[0m \u001b[32m14.0/14.0 MB\u001b[0m \u001b[31m45.6 MB/s\u001b[0m  \u001b[33m0:00:00\u001b[0m6m0:00:01\u001b[0m\n",
      "\u001b[?25hUsing cached jmespath-1.0.1-py3-none-any.whl (20 kB)\n",
      "Downloading s3transfer-0.13.1-py3-none-any.whl (85 kB)\n",
      "Using cached cloudpickle-3.1.1-py3-none-any.whl (20 kB)\n",
      "Using cached copulas-0.12.3-py3-none-any.whl (52 kB)\n",
      "Using cached ctgan-0.11.0-py3-none-any.whl (24 kB)\n",
      "Downloading tqdm-4.67.1-py3-none-any.whl (78 kB)\n",
      "Using cached deepecho-0.7.0-py3-none-any.whl (27 kB)\n",
      "Using cached graphviz-0.21-py3-none-any.whl (47 kB)\n",
      "Downloading numpy-2.3.2-cp311-cp311-manylinux_2_27_x86_64.manylinux_2_28_x86_64.whl (16.9 MB)\n",
      "\u001b[2K   \u001b[90m━━━━━━━━━━━━━━━━━━━━━━━━━━━━━━━━━━━━━━━━\u001b[0m \u001b[32m16.9/16.9 MB\u001b[0m \u001b[31m44.7 MB/s\u001b[0m  \u001b[33m0:00:00\u001b[0m6m0:00:01\u001b[0m\n",
      "\u001b[?25hDownloading pandas-2.3.1-cp311-cp311-manylinux_2_17_x86_64.manylinux2014_x86_64.whl (12.4 MB)\n",
      "\u001b[2K   \u001b[90m━━━━━━━━━━━━━━━━━━━━━━━━━━━━━━━━━━━━━━━━\u001b[0m \u001b[32m12.4/12.4 MB\u001b[0m \u001b[31m43.8 MB/s\u001b[0m  \u001b[33m0:00:00\u001b[0mm0:00:01\u001b[0m\n",
      "\u001b[?25hDownloading plotly-6.3.0-py3-none-any.whl (9.8 MB)\n",
      "\u001b[2K   \u001b[90m━━━━━━━━━━━━━━━━━━━━━━━━━━━━━━━━━━━━━━━━\u001b[0m \u001b[32m9.8/9.8 MB\u001b[0m \u001b[31m44.1 MB/s\u001b[0m  \u001b[33m0:00:00\u001b[0m6m0:00:01\u001b[0m\n",
      "\u001b[?25hDownloading narwhals-2.1.1-py3-none-any.whl (389 kB)\n",
      "Using cached pytz-2025.2-py2.py3-none-any.whl (509 kB)\n",
      "Using cached rdt-1.17.1-py3-none-any.whl (73 kB)\n",
      "Downloading faker-37.5.3-py3-none-any.whl (1.9 MB)\n",
      "\u001b[2K   \u001b[90m━━━━━━━━━━━━━━━━━━━━━━━━━━━━━━━━━━━━━━━━\u001b[0m \u001b[32m1.9/1.9 MB\u001b[0m \u001b[31m28.8 MB/s\u001b[0m  \u001b[33m0:00:00\u001b[0m\n",
      "\u001b[?25hDownloading scikit_learn-1.7.1-cp311-cp311-manylinux2014_x86_64.manylinux_2_17_x86_64.whl (9.7 MB)\n",
      "\u001b[2K   \u001b[90m━━━━━━━━━━━━━━━━━━━━━━━━━━━━━━━━━━━━━━━━\u001b[0m \u001b[32m9.7/9.7 MB\u001b[0m \u001b[31m44.3 MB/s\u001b[0m  \u001b[33m0:00:00\u001b[0m6m0:00:01\u001b[0m\n",
      "\u001b[?25hDownloading joblib-1.5.1-py3-none-any.whl (307 kB)\n",
      "Downloading scipy-1.16.1-cp311-cp311-manylinux2014_x86_64.manylinux_2_17_x86_64.whl (35.4 MB)\n",
      "\u001b[2K   \u001b[90m━━━━━━━━━━━━━━━━━━━━━━━━━━━━━━━━━━━━━━━━\u001b[0m \u001b[32m35.4/35.4 MB\u001b[0m \u001b[31m45.6 MB/s\u001b[0m  \u001b[33m0:00:00\u001b[0m6m0:00:01\u001b[0m00:01\u001b[0m\n",
      "\u001b[?25hUsing cached sdmetrics-0.22.0-py3-none-any.whl (198 kB)\n",
      "Downloading threadpoolctl-3.6.0-py3-none-any.whl (18 kB)\n",
      "Downloading torch-2.8.0-cp311-cp311-manylinux_2_28_x86_64.whl (888.1 MB)\n",
      "\u001b[2K   \u001b[90m━━━━━━━━━━━━━━━━━━━━━━━━━━━━━━━━━━━━━━━━\u001b[0m \u001b[32m888.1/888.1 MB\u001b[0m \u001b[31m20.9 MB/s\u001b[0m  \u001b[33m0:00:19\u001b[0mm0:00:01\u001b[0m00:01\u001b[0m\n",
      "\u001b[?25hDownloading nvidia_cublas_cu12-12.8.4.1-py3-none-manylinux_2_27_x86_64.whl (594.3 MB)\n",
      "\u001b[2K   \u001b[90m━━━━━━━━━━━━━━━━━━━━━━━━━━━━━━━━━━━━━━━━\u001b[0m \u001b[32m594.3/594.3 MB\u001b[0m \u001b[31m28.6 MB/s\u001b[0m  \u001b[33m0:00:12\u001b[0mm0:00:01\u001b[0m00:01\u001b[0m\n",
      "\u001b[?25hDownloading nvidia_cuda_cupti_cu12-12.8.90-py3-none-manylinux2014_x86_64.manylinux_2_17_x86_64.whl (10.2 MB)\n",
      "\u001b[2K   \u001b[90m━━━━━━━━━━━━━━━━━━━━━━━━━━━━━━━━━━━━━━━━\u001b[0m \u001b[32m10.2/10.2 MB\u001b[0m \u001b[31m44.5 MB/s\u001b[0m  \u001b[33m0:00:00\u001b[0m6m0:00:01\u001b[0m\n",
      "\u001b[?25hDownloading nvidia_cuda_nvrtc_cu12-12.8.93-py3-none-manylinux2010_x86_64.manylinux_2_12_x86_64.whl (88.0 MB)\n",
      "\u001b[2K   \u001b[90m━━━━━━━━━━━━━━━━━━━━━━━━━━━━━━━━━━━━━━━━\u001b[0m \u001b[32m88.0/88.0 MB\u001b[0m \u001b[31m44.5 MB/s\u001b[0m  \u001b[33m0:00:01\u001b[0mm0:00:01\u001b[0m00:01\u001b[0m\n",
      "\u001b[?25hDownloading nvidia_cuda_runtime_cu12-12.8.90-py3-none-manylinux2014_x86_64.manylinux_2_17_x86_64.whl (954 kB)\n",
      "\u001b[2K   \u001b[90m━━━━━━━━━━━━━━━━━━━━━━━━━━━━━━━━━━━━━━━━\u001b[0m \u001b[32m954.8/954.8 kB\u001b[0m \u001b[31m20.5 MB/s\u001b[0m  \u001b[33m0:00:00\u001b[0m\n",
      "\u001b[?25hDownloading nvidia_cudnn_cu12-9.10.2.21-py3-none-manylinux_2_27_x86_64.whl (706.8 MB)\n",
      "\u001b[2K   \u001b[90m━━━━━━━━━━━━━━━━━━━━━━━━━━━━━━━━━━━━━━━━\u001b[0m \u001b[32m706.8/706.8 MB\u001b[0m \u001b[31m27.6 MB/s\u001b[0m  \u001b[33m0:00:13\u001b[0mm0:00:01\u001b[0m00:01\u001b[0m\n",
      "\u001b[?25hDownloading nvidia_cufft_cu12-11.3.3.83-py3-none-manylinux2014_x86_64.manylinux_2_17_x86_64.whl (193.1 MB)\n",
      "\u001b[2K   \u001b[90m━━━━━━━━━━━━━━━━━━━━━━━━━━━━━━━━━━━━━━━━\u001b[0m \u001b[32m193.1/193.1 MB\u001b[0m \u001b[31m54.7 MB/s\u001b[0m  \u001b[33m0:00:03\u001b[0mm0:00:01\u001b[0m00:01\u001b[0m\n",
      "\u001b[?25hDownloading nvidia_cufile_cu12-1.13.1.3-py3-none-manylinux2014_x86_64.manylinux_2_17_x86_64.whl (1.2 MB)\n",
      "\u001b[2K   \u001b[90m━━━━━━━━━━━━━━━━━━━━━━━━━━━━━━━━━━━━━━━━\u001b[0m \u001b[32m1.2/1.2 MB\u001b[0m \u001b[31m27.2 MB/s\u001b[0m  \u001b[33m0:00:00\u001b[0m\n",
      "\u001b[?25hDownloading nvidia_curand_cu12-10.3.9.90-py3-none-manylinux_2_27_x86_64.whl (63.6 MB)\n",
      "\u001b[2K   \u001b[90m━━━━━━━━━━━━━━━━━━━━━━━━━━━━━━━━━━━━━━━━\u001b[0m \u001b[32m63.6/63.6 MB\u001b[0m \u001b[31m54.4 MB/s\u001b[0m  \u001b[33m0:00:01\u001b[0m6m0:00:01\u001b[0m00:01\u001b[0m\n",
      "\u001b[?25hDownloading nvidia_cusolver_cu12-11.7.3.90-py3-none-manylinux_2_27_x86_64.whl (267.5 MB)\n",
      "\u001b[2K   \u001b[90m━━━━━━━━━━━━━━━━━━━━━━━━━━━━━━━━━━━━━━━━\u001b[0m \u001b[32m267.5/267.5 MB\u001b[0m \u001b[31m55.1 MB/s\u001b[0m  \u001b[33m0:00:04\u001b[0mm0:00:01\u001b[0m00:01\u001b[0m\n",
      "\u001b[?25hDownloading nvidia_cusparse_cu12-12.5.8.93-py3-none-manylinux2014_x86_64.manylinux_2_17_x86_64.whl (288.2 MB)\n",
      "\u001b[2K   \u001b[90m━━━━━━━━━━━━━━━━━━━━━━━━━━━━━━━━━━━━━━━━\u001b[0m \u001b[32m288.2/288.2 MB\u001b[0m \u001b[31m48.8 MB/s\u001b[0m  \u001b[33m0:00:05\u001b[0mm0:00:01\u001b[0m00:01\u001b[0m\n",
      "\u001b[?25hDownloading nvidia_cusparselt_cu12-0.7.1-py3-none-manylinux2014_x86_64.whl (287.2 MB)\n",
      "\u001b[2K   \u001b[90m━━━━━━━━━━━━━━━━━━━━━━━━━━━━━━━━━━━━━━━━\u001b[0m \u001b[32m287.2/287.2 MB\u001b[0m \u001b[31m49.3 MB/s\u001b[0m  \u001b[33m0:00:05\u001b[0mm0:00:01\u001b[0m00:01\u001b[0m\n",
      "\u001b[?25hDownloading nvidia_nccl_cu12-2.27.3-py3-none-manylinux2014_x86_64.manylinux_2_17_x86_64.whl (322.4 MB)\n",
      "\u001b[2K   \u001b[90m━━━━━━━━━━━━━━━━━━━━━━━━━━━━━━━━━━━━━━━━\u001b[0m \u001b[32m322.4/322.4 MB\u001b[0m \u001b[31m50.1 MB/s\u001b[0m  \u001b[33m0:00:05\u001b[0mm0:00:01\u001b[0m00:01\u001b[0m\n",
      "\u001b[?25hDownloading nvidia_nvjitlink_cu12-12.8.93-py3-none-manylinux2010_x86_64.manylinux_2_12_x86_64.whl (39.3 MB)\n",
      "\u001b[2K   \u001b[90m━━━━━━━━━━━━━━━━━━━━━━━━━━━━━━━━━━━━━━━━\u001b[0m \u001b[32m39.3/39.3 MB\u001b[0m \u001b[31m53.3 MB/s\u001b[0m  \u001b[33m0:00:00\u001b[0m6m0:00:01\u001b[0m00:01\u001b[0m\n",
      "\u001b[?25hDownloading nvidia_nvtx_cu12-12.8.90-py3-none-manylinux2014_x86_64.manylinux_2_17_x86_64.whl (89 kB)\n",
      "Downloading triton-3.4.0-cp311-cp311-manylinux_2_27_x86_64.manylinux_2_28_x86_64.whl (155.5 MB)\n",
      "\u001b[2K   \u001b[90m━━━━━━━━━━━━━━━━━━━━━━━━━━━━━━━━━━━━━━━━\u001b[0m \u001b[32m155.5/155.5 MB\u001b[0m \u001b[31m54.4 MB/s\u001b[0m  \u001b[33m0:00:02\u001b[0mm0:00:01\u001b[0m00:01\u001b[0m\n",
      "\u001b[?25hUsing cached sympy-1.14.0-py3-none-any.whl (6.3 MB)\n",
      "Using cached mpmath-1.3.0-py3-none-any.whl (536 kB)\n",
      "Using cached tzdata-2025.2-py2.py3-none-any.whl (347 kB)\n",
      "Using cached filelock-3.18.0-py3-none-any.whl (16 kB)\n",
      "Downloading fsspec-2025.7.0-py3-none-any.whl (199 kB)\n",
      "Downloading networkx-3.5-py3-none-any.whl (2.0 MB)\n",
      "\u001b[2K   \u001b[90m━━━━━━━━━━━━━━━━━━━━━━━━━━━━━━━━━━━━━━━━\u001b[0m \u001b[32m2.0/2.0 MB\u001b[0m \u001b[31m30.3 MB/s\u001b[0m  \u001b[33m0:00:00\u001b[0m\n",
      "\u001b[?25hDownloading pyreadstat-1.3.0-cp311-cp311-manylinux2014_x86_64.manylinux_2_17_x86_64.whl (620 kB)\n",
      "\u001b[2K   \u001b[90m━━━━━━━━━━━━━━━━━━━━━━━━━━━━━━━━━━━━━━━━\u001b[0m \u001b[32m620.1/620.1 kB\u001b[0m \u001b[31m14.7 MB/s\u001b[0m  \u001b[33m0:00:00\u001b[0m\n",
      "\u001b[?25hDownloading typed_ast-1.5.5-cp311-cp311-manylinux_2_17_x86_64.manylinux2014_x86_64.whl (860 kB)\n",
      "\u001b[2K   \u001b[90m━━━━━━━━━━━━━━━━━━━━━━━━━━━━━━━━━━━━━━━━\u001b[0m \u001b[32m860.3/860.3 kB\u001b[0m \u001b[31m19.0 MB/s\u001b[0m  \u001b[33m0:00:00\u001b[0m\n",
      "\u001b[?25hUsing cached typer-0.16.0-py3-none-any.whl (46 kB)\n",
      "Using cached click-8.2.1-py3-none-any.whl (102 kB)\n",
      "Using cached rich-14.1.0-py3-none-any.whl (243 kB)\n",
      "Using cached markdown_it_py-4.0.0-py3-none-any.whl (87 kB)\n",
      "Using cached mdurl-0.1.2-py3-none-any.whl (10.0 kB)\n",
      "Using cached shellingham-1.5.4-py2.py3-none-any.whl (9.8 kB)\n",
      "Using cached wandb-0.21.1-py3-none-manylinux_2_17_x86_64.manylinux2014_x86_64.whl (22.4 MB)\n",
      "Using cached protobuf-6.31.1-cp39-abi3-manylinux2014_x86_64.whl (321 kB)\n",
      "Using cached pydantic-2.11.7-py3-none-any.whl (444 kB)\n",
      "Downloading pydantic_core-2.33.2-cp311-cp311-manylinux_2_17_x86_64.manylinux2014_x86_64.whl (2.0 MB)\n",
      "\u001b[2K   \u001b[90m━━━━━━━━━━━━━━━━━━━━━━━━━━━━━━━━━━━━━━━━\u001b[0m \u001b[32m2.0/2.0 MB\u001b[0m \u001b[31m25.7 MB/s\u001b[0m  \u001b[33m0:00:00\u001b[0m\n",
      "\u001b[?25hUsing cached annotated_types-0.7.0-py3-none-any.whl (13 kB)\n",
      "Using cached gitpython-3.1.45-py3-none-any.whl (208 kB)\n",
      "Using cached gitdb-4.0.12-py3-none-any.whl (62 kB)\n",
      "Using cached smmap-5.0.2-py3-none-any.whl (24 kB)\n",
      "Using cached sentry_sdk-2.34.1-py2.py3-none-any.whl (357 kB)\n",
      "Using cached typing_inspection-0.4.1-py3-none-any.whl (14 kB)\n",
      "Installing collected packages: pytz, nvidia-cusparselt-cu12, mpmath, tzdata, typing-inspection, typed-ast, triton, tqdm, threadpoolctl, sympy, smmap, shellingham, sentry-sdk, pydantic-core, protobuf, nvidia-nvtx-cu12, nvidia-nvjitlink-cu12, nvidia-nccl-cu12, nvidia-curand-cu12, nvidia-cufile-cu12, nvidia-cuda-runtime-cu12, nvidia-cuda-nvrtc-cu12, nvidia-cuda-cupti-cu12, nvidia-cublas-cu12, numpy, networkx, narwhals, mdurl, joblib, jmespath, graphviz, fsspec, filelock, cloudpickle, click, annotated-types, scipy, pydantic, plotly, pandas, nvidia-cusparse-cu12, nvidia-cufft-cu12, nvidia-cudnn-cu12, markdown-it-py, gitdb, Faker, botocore, scikit-learn, s3transfer, rich, pyreadstat, nvidia-cusolver-cu12, gitpython, copulas, wandb, typer, torch, sdmetrics, rdt, boto3, deepecho, ctgan, sdv, dp_cgans\n",
      "\u001b[2K   \u001b[90m━━━━━━━━━━━━━━━━━━━━━━━━━━━━━━━━━━━━━━━━\u001b[0m \u001b[32m64/64\u001b[0m [dp_cgans]dp_cgans]sdv]n]ics]olver-cu12]2]2]\n",
      "\u001b[1A\u001b[2KSuccessfully installed Faker-37.5.3 annotated-types-0.7.0 boto3-1.40.8 botocore-1.40.8 click-8.2.1 cloudpickle-3.1.1 copulas-0.12.3 ctgan-0.11.0 deepecho-0.7.0 dp_cgans-0.0.6 filelock-3.18.0 fsspec-2025.7.0 gitdb-4.0.12 gitpython-3.1.45 graphviz-0.21 jmespath-1.0.1 joblib-1.5.1 markdown-it-py-4.0.0 mdurl-0.1.2 mpmath-1.3.0 narwhals-2.1.1 networkx-3.5 numpy-2.3.2 nvidia-cublas-cu12-12.8.4.1 nvidia-cuda-cupti-cu12-12.8.90 nvidia-cuda-nvrtc-cu12-12.8.93 nvidia-cuda-runtime-cu12-12.8.90 nvidia-cudnn-cu12-9.10.2.21 nvidia-cufft-cu12-11.3.3.83 nvidia-cufile-cu12-1.13.1.3 nvidia-curand-cu12-10.3.9.90 nvidia-cusolver-cu12-11.7.3.90 nvidia-cusparse-cu12-12.5.8.93 nvidia-cusparselt-cu12-0.7.1 nvidia-nccl-cu12-2.27.3 nvidia-nvjitlink-cu12-12.8.93 nvidia-nvtx-cu12-12.8.90 pandas-2.3.1 plotly-6.3.0 protobuf-6.31.1 pydantic-2.11.7 pydantic-core-2.33.2 pyreadstat-1.3.0 pytz-2025.2 rdt-1.17.1 rich-14.1.0 s3transfer-0.13.1 scikit-learn-1.7.1 scipy-1.16.1 sdmetrics-0.22.0 sdv-1.25.0 sentry-sdk-2.34.1 shellingham-1.5.4 smmap-5.0.2 sympy-1.14.0 threadpoolctl-3.6.0 torch-2.8.0 tqdm-4.67.1 triton-3.4.0 typed-ast-1.5.5 typer-0.16.0 typing-inspection-0.4.1 tzdata-2025.2 wandb-0.21.1\n",
      "Note: you may need to restart the kernel to use updated packages.\n"
     ]
    }
   ],
   "source": [
    "pip install --no-user dp_cgans"
   ]
  },
  {
   "cell_type": "code",
   "execution_count": 6,
   "id": "5a2565a7-1e6c-475a-8de9-69bfd1153484",
   "metadata": {
    "collapsed": true,
    "jupyter": {
     "outputs_hidden": true
    },
    "scrolled": true
   },
   "outputs": [
    {
     "name": "stdout",
     "output_type": "stream",
     "text": [
      "Collecting matplotlib\n",
      "  Downloading matplotlib-3.10.5-cp311-cp311-manylinux2014_x86_64.manylinux_2_17_x86_64.whl.metadata (11 kB)\n",
      "Collecting contourpy>=1.0.1 (from matplotlib)\n",
      "  Downloading contourpy-1.3.3-cp311-cp311-manylinux_2_27_x86_64.manylinux_2_28_x86_64.whl.metadata (5.5 kB)\n",
      "Collecting cycler>=0.10 (from matplotlib)\n",
      "  Downloading cycler-0.12.1-py3-none-any.whl.metadata (3.8 kB)\n",
      "Collecting fonttools>=4.22.0 (from matplotlib)\n",
      "  Downloading fonttools-4.59.0-cp311-cp311-manylinux2014_x86_64.manylinux_2_17_x86_64.whl.metadata (107 kB)\n",
      "Collecting kiwisolver>=1.3.1 (from matplotlib)\n",
      "  Downloading kiwisolver-1.4.9-cp311-cp311-manylinux2014_x86_64.manylinux_2_17_x86_64.whl.metadata (6.3 kB)\n",
      "Requirement already satisfied: numpy>=1.23 in ./myenv311/lib/python3.11/site-packages (from matplotlib) (2.3.2)\n",
      "Requirement already satisfied: packaging>=20.0 in ./myenv311/lib/python3.11/site-packages (from matplotlib) (25.0)\n",
      "Collecting pillow>=8 (from matplotlib)\n",
      "  Downloading pillow-11.3.0-cp311-cp311-manylinux_2_27_x86_64.manylinux_2_28_x86_64.whl.metadata (9.0 kB)\n",
      "Collecting pyparsing>=2.3.1 (from matplotlib)\n",
      "  Downloading pyparsing-3.2.3-py3-none-any.whl.metadata (5.0 kB)\n",
      "Requirement already satisfied: python-dateutil>=2.7 in ./myenv311/lib/python3.11/site-packages (from matplotlib) (2.9.0.post0)\n",
      "Requirement already satisfied: six>=1.5 in ./myenv311/lib/python3.11/site-packages (from python-dateutil>=2.7->matplotlib) (1.17.0)\n",
      "Downloading matplotlib-3.10.5-cp311-cp311-manylinux2014_x86_64.manylinux_2_17_x86_64.whl (8.7 MB)\n",
      "\u001b[2K   \u001b[90m━━━━━━━━━━━━━━━━━━━━━━━━━━━━━━━━━━━━━━━━\u001b[0m \u001b[32m8.7/8.7 MB\u001b[0m \u001b[31m43.0 MB/s\u001b[0m  \u001b[33m0:00:00\u001b[0m6m0:00:01\u001b[0m\n",
      "\u001b[?25hDownloading contourpy-1.3.3-cp311-cp311-manylinux_2_27_x86_64.manylinux_2_28_x86_64.whl (355 kB)\n",
      "Downloading cycler-0.12.1-py3-none-any.whl (8.3 kB)\n",
      "Downloading fonttools-4.59.0-cp311-cp311-manylinux2014_x86_64.manylinux_2_17_x86_64.whl (5.0 MB)\n",
      "\u001b[2K   \u001b[90m━━━━━━━━━━━━━━━━━━━━━━━━━━━━━━━━━━━━━━━━\u001b[0m \u001b[32m5.0/5.0 MB\u001b[0m \u001b[31m40.6 MB/s\u001b[0m  \u001b[33m0:00:00\u001b[0m\n",
      "\u001b[?25hDownloading kiwisolver-1.4.9-cp311-cp311-manylinux2014_x86_64.manylinux_2_17_x86_64.whl (1.4 MB)\n",
      "\u001b[2K   \u001b[90m━━━━━━━━━━━━━━━━━━━━━━━━━━━━━━━━━━━━━━━━\u001b[0m \u001b[32m1.4/1.4 MB\u001b[0m \u001b[31m28.4 MB/s\u001b[0m  \u001b[33m0:00:00\u001b[0m\n",
      "\u001b[?25hDownloading pillow-11.3.0-cp311-cp311-manylinux_2_27_x86_64.manylinux_2_28_x86_64.whl (6.6 MB)\n",
      "\u001b[2K   \u001b[90m━━━━━━━━━━━━━━━━━━━━━━━━━━━━━━━━━━━━━━━━\u001b[0m \u001b[32m6.6/6.6 MB\u001b[0m \u001b[31m37.1 MB/s\u001b[0m  \u001b[33m0:00:00\u001b[0m\n",
      "\u001b[?25hDownloading pyparsing-3.2.3-py3-none-any.whl (111 kB)\n",
      "Installing collected packages: pyparsing, pillow, kiwisolver, fonttools, cycler, contourpy, matplotlib\n",
      "\u001b[2K   \u001b[90m━━━━━━━━━━━━━━━━━━━━━━━━━━━━━━━━━━━━━━━━\u001b[0m \u001b[32m7/7\u001b[0m [matplotlib]7\u001b[0m [matplotlib]\n",
      "\u001b[1A\u001b[2KSuccessfully installed contourpy-1.3.3 cycler-0.12.1 fonttools-4.59.0 kiwisolver-1.4.9 matplotlib-3.10.5 pillow-11.3.0 pyparsing-3.2.3\n",
      "Note: you may need to restart the kernel to use updated packages.\n"
     ]
    }
   ],
   "source": [
    "pip install --no-user matplotlib"
   ]
  },
  {
   "cell_type": "code",
   "execution_count": 2,
   "id": "53789a93-5581-40b2-ae59-c6526ce4f65a",
   "metadata": {
    "collapsed": true,
    "jupyter": {
     "outputs_hidden": true
    }
   },
   "outputs": [
    {
     "name": "stdout",
     "output_type": "stream",
     "text": [
      "Requirement already satisfied: setuptools in ./myenv311/lib/python3.11/site-packages (65.5.0)\n",
      "Collecting setuptools\n",
      "  Using cached setuptools-80.9.0-py3-none-any.whl.metadata (6.6 kB)\n",
      "Using cached setuptools-80.9.0-py3-none-any.whl (1.2 MB)\n",
      "Installing collected packages: setuptools\n",
      "  Attempting uninstall: setuptools\n",
      "    Found existing installation: setuptools 65.5.0\n",
      "    Uninstalling setuptools-65.5.0:\n",
      "      Successfully uninstalled setuptools-65.5.0\n",
      "Successfully installed setuptools-80.9.0\n",
      "Note: you may need to restart the kernel to use updated packages.\n"
     ]
    }
   ],
   "source": [
    "pip install --upgrade --no-user setuptools"
   ]
  },
  {
   "cell_type": "code",
   "execution_count": 2,
   "id": "7b6fc829-d3c7-49aa-abe7-367ac2887583",
   "metadata": {
    "collapsed": true,
    "jupyter": {
     "outputs_hidden": true
    }
   },
   "outputs": [
    {
     "name": "stdout",
     "output_type": "stream",
     "text": [
      "Requirement already satisfied: rdt==1.9.0 in ./myenv311/lib/python3.11/site-packages (1.9.0)\n",
      "Requirement already satisfied: Faker<20,>=17 in ./myenv311/lib/python3.11/site-packages (from rdt==1.9.0) (19.13.0)\n",
      "Requirement already satisfied: numpy<2,>=1.23.3 in ./myenv311/lib/python3.11/site-packages (from rdt==1.9.0) (1.26.4)\n",
      "Requirement already satisfied: scipy<2,>=1.9.2 in ./myenv311/lib/python3.11/site-packages (from rdt==1.9.0) (1.16.1)\n",
      "Requirement already satisfied: scikit-learn<2,>=1.1.3 in ./myenv311/lib/python3.11/site-packages (from rdt==1.9.0) (1.7.1)\n",
      "Requirement already satisfied: pandas>=1.5.0 in ./myenv311/lib/python3.11/site-packages (from rdt==1.9.0) (2.3.1)\n",
      "Requirement already satisfied: python-dateutil>=2.4 in ./myenv311/lib/python3.11/site-packages (from Faker<20,>=17->rdt==1.9.0) (2.9.0.post0)\n",
      "Requirement already satisfied: joblib>=1.2.0 in ./myenv311/lib/python3.11/site-packages (from scikit-learn<2,>=1.1.3->rdt==1.9.0) (1.5.1)\n",
      "Requirement already satisfied: threadpoolctl>=3.1.0 in ./myenv311/lib/python3.11/site-packages (from scikit-learn<2,>=1.1.3->rdt==1.9.0) (3.6.0)\n",
      "Requirement already satisfied: pytz>=2020.1 in ./myenv311/lib/python3.11/site-packages (from pandas>=1.5.0->rdt==1.9.0) (2025.2)\n",
      "Requirement already satisfied: tzdata>=2022.7 in ./myenv311/lib/python3.11/site-packages (from pandas>=1.5.0->rdt==1.9.0) (2025.2)\n",
      "Requirement already satisfied: six>=1.5 in ./myenv311/lib/python3.11/site-packages (from python-dateutil>=2.4->Faker<20,>=17->rdt==1.9.0) (1.17.0)\n",
      "Note: you may need to restart the kernel to use updated packages.\n"
     ]
    }
   ],
   "source": [
    "pip install --no-user sdv==1.6.0"
   ]
  },
  {
   "cell_type": "code",
   "execution_count": 1,
   "id": "eb354659-9095-47ff-8d8a-64f7f806e546",
   "metadata": {
    "collapsed": true,
    "jupyter": {
     "outputs_hidden": true
    }
   },
   "outputs": [
    {
     "name": "stdout",
     "output_type": "stream",
     "text": [
      "Collecting rdt==1.9.0\n",
      "  Using cached rdt-1.9.0-py2.py3-none-any.whl.metadata (63 kB)\n",
      "Requirement already satisfied: Faker<20,>=17 in ./myenv311/lib/python3.11/site-packages (from rdt==1.9.0) (19.13.0)\n",
      "Requirement already satisfied: numpy<2,>=1.23.3 in ./myenv311/lib/python3.11/site-packages (from rdt==1.9.0) (1.26.4)\n",
      "Requirement already satisfied: scipy<2,>=1.9.2 in ./myenv311/lib/python3.11/site-packages (from rdt==1.9.0) (1.16.1)\n",
      "Requirement already satisfied: scikit-learn<2,>=1.1.3 in ./myenv311/lib/python3.11/site-packages (from rdt==1.9.0) (1.7.1)\n",
      "Requirement already satisfied: pandas>=1.5.0 in ./myenv311/lib/python3.11/site-packages (from rdt==1.9.0) (2.3.1)\n",
      "Requirement already satisfied: python-dateutil>=2.4 in ./myenv311/lib/python3.11/site-packages (from Faker<20,>=17->rdt==1.9.0) (2.9.0.post0)\n",
      "Requirement already satisfied: joblib>=1.2.0 in ./myenv311/lib/python3.11/site-packages (from scikit-learn<2,>=1.1.3->rdt==1.9.0) (1.5.1)\n",
      "Requirement already satisfied: threadpoolctl>=3.1.0 in ./myenv311/lib/python3.11/site-packages (from scikit-learn<2,>=1.1.3->rdt==1.9.0) (3.6.0)\n",
      "Requirement already satisfied: pytz>=2020.1 in ./myenv311/lib/python3.11/site-packages (from pandas>=1.5.0->rdt==1.9.0) (2025.2)\n",
      "Requirement already satisfied: tzdata>=2022.7 in ./myenv311/lib/python3.11/site-packages (from pandas>=1.5.0->rdt==1.9.0) (2025.2)\n",
      "Requirement already satisfied: six>=1.5 in ./myenv311/lib/python3.11/site-packages (from python-dateutil>=2.4->Faker<20,>=17->rdt==1.9.0) (1.17.0)\n",
      "Using cached rdt-1.9.0-py2.py3-none-any.whl (74 kB)\n",
      "Installing collected packages: rdt\n",
      "Successfully installed rdt-1.9.0\n",
      "Note: you may need to restart the kernel to use updated packages.\n"
     ]
    }
   ],
   "source": [
    "pip install --no-user rdt==1.9.0"
   ]
  },
  {
   "cell_type": "code",
   "execution_count": 1,
   "id": "5e6e9861-d738-45f5-829b-59b23cd57456",
   "metadata": {},
   "outputs": [
    {
     "name": "stderr",
     "output_type": "stream",
     "text": [
      "/dcs/large/u2164966/MSc_Dissertation/myenv311/lib/python3.11/site-packages/copulas/__init__.py:18: UserWarning: pkg_resources is deprecated as an API. See https://setuptools.pypa.io/en/latest/pkg_resources.html. The pkg_resources package is slated for removal as early as 2025-11-30. Refrain from using this package or pin to Setuptools<81.\n",
      "  from pkg_resources import iter_entry_points\n"
     ]
    },
    {
     "name": "stdout",
     "output_type": "stream",
     "text": [
      "dp-cgans version: 0.0.6\n",
      "rdt version: 1.9.0\n",
      "torch version: 2.8.0+cu128\n"
     ]
    }
   ],
   "source": [
    "import dp_cgans\n",
    "import rdt\n",
    "import torch\n",
    "\n",
    "print(\"dp-cgans version:\", dp_cgans.__version__)\n",
    "print(\"rdt version:\", rdt.__version__)\n",
    "print(\"torch version:\", torch.__version__)"
   ]
  },
  {
   "cell_type": "markdown",
   "id": "04da8d7f-caa9-420c-9c9f-e4d06359a206",
   "metadata": {},
   "source": [
    "## CODE"
   ]
  },
  {
   "cell_type": "code",
   "execution_count": 1,
   "id": "6ee673fe-9740-40cd-b5bc-e17d7cf38202",
   "metadata": {},
   "outputs": [],
   "source": [
    "import pandas as pd\n",
    "\n",
    "pd.options.display.max_rows = 4000\n",
    "\n",
    "# Load your filtered dataset from pickle\n",
    "DATA_PATH = \"filtered_data/df_v2_filtered.pkl\"\n",
    "\n",
    "df = pd.read_pickle(DATA_PATH)"
   ]
  },
  {
   "cell_type": "code",
   "execution_count": null,
   "id": "8e5735fc-5a21-45f7-b4d9-83a022629f59",
   "metadata": {
    "scrolled": true
   },
   "outputs": [
    {
     "name": "stdout",
     "output_type": "stream",
     "text": [
      "service_code_description\n",
      "ASSIST MEMBER OF THE PUBLIC    169406\n",
      "CONCERN FOR PERSON             121876\n",
      "DISTURBANCE                     90395\n",
      "THEFT                           87517\n",
      "DOMESTIC INCIDENT               79291\n",
      "ROAD TRAFFIC MATTER             75033\n",
      "PUBLIC NUISANCE                 59037\n",
      "ROAD TRAFFIC COLLISION          58259\n",
      "OTHER                           44717\n",
      "ABANDONED/SILENT 999 CALL       41102\n",
      "EXTERNAL AGENCY REQUEST         40557\n",
      "ASSAULT                         39608\n",
      "NOISE                           36849\n",
      "DAMAGE                          33240\n",
      "NEIGHBOUR DISPUTE               30507\n",
      "FALSE CALL                      30413\n",
      "COMMUNICATIONS                  29706\n",
      "MISSING PERSON/ABSCONDER        27140\n",
      "SUSPECT PERSONS                 25141\n",
      "POLICE INFORMATION              20941\n",
      "FRAUD INCIDENT                  20360\n",
      "ROAD TRAFFIC OFFENCE            18563\n",
      "CHILD PROTECTION                17091\n",
      "DRUGS/SUBSTANCE MISUSE          16948\n",
      "VEHICLE CRIME                   15139\n",
      "DOMESTIC BAIL CHECK             15002\n",
      "TASK INCIDENT                   13296\n",
      "SUDDEN DEATH                    12499\n",
      "POLICE GENERATED ACTIVITY       12498\n",
      "HOUSEBREAKING                   12065\n",
      "ANIMALS                         10139\n",
      "BAIL/CURFEW/ADDRESS CHECKS      10069\n",
      "SEXUAL OFFENCE                   8471\n",
      "FIRES                            6129\n",
      "HATE CRIME                       5983\n",
      "ABANDONED VEHICLES               5360\n",
      "Name: count, dtype: int64\n"
     ]
    }
   ],
   "source": [
    "import pandas as pd\n",
    "\n",
    "cutoff = 5000\n",
    "\n",
    "# Identify categories below the cutoff\n",
    "counts = df['service_code_description'].value_counts()\n",
    "low_categories = counts[counts < cutoff].index\n",
    "\n",
    "# Replace low-frequency categories with \"OTHER\"\n",
    "df['service_code_description'] = df['service_code_description'].replace(low_categories, 'OTHER')\n",
    "\n",
    "# check new distribution\n",
    "print(df['service_code_description'].value_counts().sort_values(ascending=False))"
   ]
  },
  {
   "cell_type": "code",
   "execution_count": null,
   "id": "7274c30a-354d-454b-b943-66d315304e88",
   "metadata": {
    "scrolled": true
   },
   "outputs": [
    {
     "name": "stdout",
     "output_type": "stream",
     "text": [
      "Using GPU: NVIDIA GeForce RTX 2080 Ti\n",
      "Launching DP-CTGAN training for 36 slices sequentially...\n",
      "Training DP-CGAN for slice: ASSIST MEMBER OF THE PUBLIC\n"
     ]
    },
    {
     "name": "stderr",
     "output_type": "stream",
     "text": [
      "/dcs/large/u2164966/MSc_Dissertation/myenv311/lib/python3.11/site-packages/sklearn/mixture/_base.py:275: ConvergenceWarning: Best performing initialization did not converge. Try different init parameters, or increase max_iter, tol, or check for degenerate data.\n",
      "  warnings.warn(\n"
     ]
    }
   ],
   "source": [
    "from pathlib import Path\n",
    "import pandas as pd\n",
    "import torch\n",
    "from dp_cgans import DP_CGAN\n",
    "\n",
    "def sanitize_filename(name: str) -> str:\n",
    "    \"\"\"Replace illegal filename characters with underscores.\"\"\"\n",
    "    return name.replace(\"/\", \"*\").replace(\"\\\\\", \"*\")\n",
    "                                         \n",
    "def train_dp_ctgan(df_slice: pd.DataFrame, service_code: str, epochs: int, outdir: Path) -> Path:\n",
    "    \"\"\"Train a DP-CTGAN model on one slice of data and save it.\"\"\"\n",
    "    outdir.mkdir(parents=True, exist_ok=True)\n",
    "    model = DP_CGAN(\n",
    "        epochs=epochs,\n",
    "        batch_size=1024,\n",
    "        generator_dim=(128, 128, 128),\n",
    "        discriminator_dim=(128, 128, 128),\n",
    "        generator_lr=2e-4,\n",
    "        discriminator_lr=2e-4,\n",
    "        discriminator_steps=1,\n",
    "        verbose=True,\n",
    "        private=True,   # Enable Differential Privacy\n",
    "    )\n",
    "    print(f\"Training DP-CGAN for slice: {service_code}\")\n",
    "    model.fit(df_slice)\n",
    "    safe_name = sanitize_filename(service_code)\n",
    "    model_path = outdir / f\"{safe_name}_dp_ctgan.pkl\"\n",
    "    model.save(str(model_path))\n",
    "    \n",
    "    # GPU memory cleanup\n",
    "    if torch.cuda.is_available():\n",
    "        torch.cuda.empty_cache()\n",
    "    \n",
    "    return model_path\n",
    "\n",
    "if __name__ == \"__main__\":\n",
    "    CATEGORY_COL = \"service_code_description\"\n",
    "    EPOCHS = 200\n",
    "    OUTDIR = Path(\"DPCTGAN/models\")\n",
    "    \n",
    "    # Check GPU availability\n",
    "    if torch.cuda.is_available():\n",
    "        torch.cuda.set_device(0)\n",
    "        print(f\"Using GPU: {torch.cuda.get_device_name(0)}\")\n",
    "    else:\n",
    "        print(\"⚠ No GPU detected — training will run on CPU.\")\n",
    "    categories = df[CATEGORY_COL].value_counts().index.tolist()\n",
    "    print(f\"Launching DP-CTGAN training for {len(categories)} slices sequentially...\")\n",
    "    for code in categories:\n",
    "        slice_df = df[df[CATEGORY_COL] == code].copy()\n",
    "        model_path = train_dp_ctgan(slice_df, code, EPOCHS, OUTDIR)\n",
    "        print(f\"✅ Saved model: {model_path}\")"
   ]
  },
  {
   "cell_type": "code",
   "execution_count": null,
   "id": "1ffc53a4-0526-4c2d-91cf-45287031e76d",
   "metadata": {},
   "outputs": [],
   "source": []
  },
  {
   "cell_type": "code",
   "execution_count": null,
   "id": "6d159701-bbe9-483e-b473-d3a98b47fda3",
   "metadata": {},
   "outputs": [],
   "source": []
  }
 ],
 "metadata": {
  "kernelspec": {
   "display_name": "Python 3 (ipykernel)",
   "language": "python",
   "name": "python3"
  },
  "language_info": {
   "codemirror_mode": {
    "name": "ipython",
    "version": 3
   },
   "file_extension": ".py",
   "mimetype": "text/x-python",
   "name": "python",
   "nbconvert_exporter": "python",
   "pygments_lexer": "ipython3",
   "version": "3.11.0"
  }
 },
 "nbformat": 4,
 "nbformat_minor": 5
}
