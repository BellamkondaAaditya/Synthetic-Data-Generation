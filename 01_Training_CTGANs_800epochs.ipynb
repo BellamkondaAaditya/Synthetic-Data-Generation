{
 "cells": [
  {
   "cell_type": "code",
   "execution_count": null,
   "id": "28c2026d-d516-4d6a-8298-4ad1774b8482",
   "metadata": {},
   "outputs": [
    {
     "name": "stdout",
     "output_type": "stream",
     "text": [
      "\n",
      "🛠️  Training CTGAN for ASSIST MEMBER OF THE PUBLIC — rows: 169,406\n"
     ]
    },
    {
     "data": {
      "application/vnd.jupyter.widget-view+json": {
       "model_id": "1ca26c9d18dc4fc7beab7aad1d6a36eb",
       "version_major": 2,
       "version_minor": 0
      },
      "text/plain": [
       "CTGAN [ASSIST MEMBER OF THE PUBLIC]:   0%|          | 0/800 [00:00<?, ?epoch/s]"
      ]
     },
     "metadata": {},
     "output_type": "display_data"
    },
    {
     "name": "stderr",
     "output_type": "stream",
     "text": [
      "/dcs/large/u2164966/MSc_Dissertation/myenv/lib64/python3.12/site-packages/sdv/single_table/base.py:128: UserWarning:\n",
      "\n",
      "We strongly recommend saving the metadata using 'save_to_json' for replicability in future SDV versions.\n",
      "\n",
      "/dcs/large/u2164966/MSc_Dissertation/myenv/lib64/python3.12/site-packages/sdv/single_table/ctgan.py:252: FutureWarning:\n",
      "\n",
      "Downcasting object dtype arrays on .fillna, .ffill, .bfill is deprecated and will change in a future version. Call result.infer_objects(copy=False) instead. To opt-in to the future behavior, set `pd.set_option('future.no_silent_downcasting', True)`\n",
      "\n"
     ]
    }
   ],
   "source": [
    "# ╔══════════ 0 · Imports ───────────────────────────────────────────╗\n",
    "from pathlib import Path\n",
    "import pandas as pd\n",
    "from tqdm.auto import tqdm\n",
    "import torch\n",
    "\n",
    "from sdv.single_table import CTGANSynthesizer\n",
    "from sdv.metadata import Metadata\n",
    "\n",
    "# ╔══════════ 1 · Fixed-epoch trainer (800 epochs) ──────────────────╗\n",
    "def train_ctgan_800(\n",
    "    df_slice: pd.DataFrame,\n",
    "    *,\n",
    "    service_code: str,\n",
    "    total_epochs: int = 800,     # ← fixed budget\n",
    "    step: int = 50,              # epochs per fit() call\n",
    "    outdir: Path = Path(\"checkpoints_3/models\"),\n",
    "):\n",
    "    \"\"\"Train a CTGAN for exactly 800 epochs and save the model.\"\"\"\n",
    "    outdir.mkdir(parents=True, exist_ok=True)\n",
    "    metadata = Metadata.detect_from_dataframes({\"table\": df_slice})\n",
    "\n",
    "    done = 0\n",
    "    bar = tqdm(total=total_epochs, desc=f\"CTGAN [{service_code}]\",\n",
    "               unit=\"epoch\", dynamic_ncols=True)\n",
    "\n",
    "    while done < total_epochs:\n",
    "        this_step = min(step, total_epochs - done)\n",
    "        synth = CTGANSynthesizer(\n",
    "            metadata,\n",
    "            epochs=1200,\n",
    "            batch_size=1024,\n",
    "            pac=8,\n",
    "            embedding_dim=128,\n",
    "            generator_dim=(256, 256),\n",
    "            discriminator_dim=(256, 256),\n",
    "            generator_lr=2e-4,\n",
    "            discriminator_lr=2e-4,\n",
    "            cuda=True,\n",
    "            verbose=True\n",
    "        )\n",
    "        synth.fit(df_slice)\n",
    "        done += this_step\n",
    "        bar.update(this_step)\n",
    "\n",
    "    bar.close()\n",
    "\n",
    "    path = outdir / f\"{service_code}_ep{total_epochs}.pkl\"\n",
    "    synth.save(path)\n",
    "    return path\n",
    "\n",
    "# ╔══════════ 2 · Data loading & loop over top-5 codes ──────────────╗\n",
    "DATA_PATH = \"filtered_data/df_v2_filtered.pkl\"\n",
    "TOP_K     = 5\n",
    "\n",
    "df = pd.read_pickle(DATA_PATH)\n",
    "codes = df[\"service_code_description\"].value_counts().head(TOP_K).index.tolist()\n",
    "\n",
    "for code in codes:\n",
    "    slice_df = df[df[\"service_code_description\"] == code].copy()\n",
    "    print(f\"\\n🛠️  Training CTGAN for {code} — rows: {len(slice_df):,}\")\n",
    "    model_path = train_ctgan_800(slice_df, service_code=code)\n",
    "    print(f\"✅  Saved model → {model_path}\")\n",
    "\n",
    "# optional GPU tidy-up\n",
    "if torch.cuda.is_available():\n",
    "    torch.cuda.empty_cache()\n"
   ]
  },
  {
   "cell_type": "code",
   "execution_count": null,
   "id": "8614b267-4ba8-42bd-b6b4-721242c1f942",
   "metadata": {},
   "outputs": [],
   "source": []
  },
  {
   "cell_type": "code",
   "execution_count": null,
   "id": "8dfc0c0c-1b50-4ea1-92ef-d61ff83269fa",
   "metadata": {},
   "outputs": [],
   "source": []
  }
 ],
 "metadata": {
  "kernelspec": {
   "display_name": "Python 3 (ipykernel)",
   "language": "python",
   "name": "python3"
  },
  "language_info": {
   "codemirror_mode": {
    "name": "ipython",
    "version": 3
   },
   "file_extension": ".py",
   "mimetype": "text/x-python",
   "name": "python",
   "nbconvert_exporter": "python",
   "pygments_lexer": "ipython3",
   "version": "3.12.11"
  }
 },
 "nbformat": 4,
 "nbformat_minor": 5
}
