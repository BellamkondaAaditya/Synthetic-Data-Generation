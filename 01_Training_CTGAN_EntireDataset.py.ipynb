{
 "cells": [
  {
   "cell_type": "code",
   "execution_count": 1,
   "metadata": {},
   "outputs": [
    {
     "name": "stderr",
     "output_type": "stream",
     "text": [
      "/tmp/dcs-tmp.u2164966/ipykernel_81677/1179451061.py:12: DeprecationWarning: numpy.core.numeric is deprecated and has been renamed to numpy._core.numeric. The numpy._core namespace contains private NumPy internals and its use is discouraged, as NumPy internals can change without warning in any release. In practice, most real-world usage of numpy.core is to access functionality in the public NumPy API. If that is the case, use the public NumPy API. If not, you are using NumPy internals. If you would still like to access an internal attribute, use numpy._core.numeric._frombuffer.\n",
      "  df = pickle.load(f)\n"
     ]
    }
   ],
   "source": [
    "import sys\n",
    "import numpy.core.numeric as core_numeric\n",
    "import types\n",
    "\n",
    "# Create a dummy module named \"numpy._core.numeric\"\n",
    "shim = types.ModuleType(\"numpy._core.numeric\")\n",
    "shim.__dict__.update(core_numeric.__dict__)\n",
    "sys.modules[\"numpy._core.numeric\"] = shim\n",
    "\n",
    "import pickle\n",
    "with open('processed_data_v1.pkl', 'rb') as f:\n",
    "    df = pickle.load(f)"
   ]
  },
  {
   "cell_type": "code",
   "execution_count": 2,
   "metadata": {
    "jupyter": {
     "source_hidden": true
    },
    "scrolled": true
   },
   "outputs": [
    {
     "data": {
      "text/html": [
       "<div>\n",
       "<style scoped>\n",
       "    .dataframe tbody tr th:only-of-type {\n",
       "        vertical-align: middle;\n",
       "    }\n",
       "\n",
       "    .dataframe tbody tr th {\n",
       "        vertical-align: top;\n",
       "    }\n",
       "\n",
       "    .dataframe thead th {\n",
       "        text-align: right;\n",
       "    }\n",
       "</style>\n",
       "<table border=\"1\" class=\"dataframe\">\n",
       "  <thead>\n",
       "    <tr style=\"text-align: right;\">\n",
       "      <th></th>\n",
       "      <th>incident_count</th>\n",
       "      <th>date_created</th>\n",
       "      <th>hour_created</th>\n",
       "      <th>max_final_priority</th>\n",
       "      <th>inc_resourced</th>\n",
       "      <th>scrs_crime_inc</th>\n",
       "      <th>multi_member_ward</th>\n",
       "      <th>datazone</th>\n",
       "      <th>dzone_code</th>\n",
       "      <th>service_code_description</th>\n",
       "    </tr>\n",
       "  </thead>\n",
       "  <tbody>\n",
       "    <tr>\n",
       "      <th>0</th>\n",
       "      <td>2</td>\n",
       "      <td>2023-08-11</td>\n",
       "      <td>7</td>\n",
       "      <td>PROMPT</td>\n",
       "      <td>False</td>\n",
       "      <td>False</td>\n",
       "      <td>Dennistoun</td>\n",
       "      <td>Carntyne West and Haghill - 03</td>\n",
       "      <td>S01010244</td>\n",
       "      <td>ROAD TRAFFIC COLLISION</td>\n",
       "    </tr>\n",
       "    <tr>\n",
       "      <th>1</th>\n",
       "      <td>2</td>\n",
       "      <td>2023-02-16</td>\n",
       "      <td>20</td>\n",
       "      <td>PROMPT</td>\n",
       "      <td>True</td>\n",
       "      <td>False</td>\n",
       "      <td>Lochee</td>\n",
       "      <td>Charleston - 04</td>\n",
       "      <td>S01007848</td>\n",
       "      <td>ASSIST MEMBER OF THE PUBLIC</td>\n",
       "    </tr>\n",
       "    <tr>\n",
       "      <th>2</th>\n",
       "      <td>2</td>\n",
       "      <td>2024-09-05</td>\n",
       "      <td>0</td>\n",
       "      <td>STANDARD</td>\n",
       "      <td>False</td>\n",
       "      <td>True</td>\n",
       "      <td>Leith Walk</td>\n",
       "      <td>South Leith - 05</td>\n",
       "      <td>S01008796</td>\n",
       "      <td>THEFT</td>\n",
       "    </tr>\n",
       "    <tr>\n",
       "      <th>3</th>\n",
       "      <td>2</td>\n",
       "      <td>2024-09-02</td>\n",
       "      <td>14</td>\n",
       "      <td>PROMPT</td>\n",
       "      <td>True</td>\n",
       "      <td>False</td>\n",
       "      <td>Almond</td>\n",
       "      <td>Ratho, Ingliston and Gogar - 01</td>\n",
       "      <td>S01008993</td>\n",
       "      <td>EXTERNAL AGENCY REQUEST</td>\n",
       "    </tr>\n",
       "    <tr>\n",
       "      <th>4</th>\n",
       "      <td>2</td>\n",
       "      <td>2022-04-12</td>\n",
       "      <td>19</td>\n",
       "      <td>PROMPT</td>\n",
       "      <td>True</td>\n",
       "      <td>False</td>\n",
       "      <td>Paisley North West</td>\n",
       "      <td>Paisley North - 06</td>\n",
       "      <td>S01012158</td>\n",
       "      <td>EXTERNAL AGENCY REQUEST</td>\n",
       "    </tr>\n",
       "  </tbody>\n",
       "</table>\n",
       "</div>"
      ],
      "text/plain": [
       "   incident_count date_created  hour_created max_final_priority  \\\n",
       "0               2   2023-08-11             7             PROMPT   \n",
       "1               2   2023-02-16            20             PROMPT   \n",
       "2               2   2024-09-05             0           STANDARD   \n",
       "3               2   2024-09-02            14             PROMPT   \n",
       "4               2   2022-04-12            19             PROMPT   \n",
       "\n",
       "   inc_resourced  scrs_crime_inc   multi_member_ward  \\\n",
       "0          False           False          Dennistoun   \n",
       "1           True           False              Lochee   \n",
       "2          False            True          Leith Walk   \n",
       "3           True           False              Almond   \n",
       "4           True           False  Paisley North West   \n",
       "\n",
       "                          datazone dzone_code     service_code_description  \n",
       "0   Carntyne West and Haghill - 03  S01010244       ROAD TRAFFIC COLLISION  \n",
       "1                  Charleston - 04  S01007848  ASSIST MEMBER OF THE PUBLIC  \n",
       "2                 South Leith - 05  S01008796                        THEFT  \n",
       "3  Ratho, Ingliston and Gogar - 01  S01008993      EXTERNAL AGENCY REQUEST  \n",
       "4               Paisley North - 06  S01012158      EXTERNAL AGENCY REQUEST  "
      ]
     },
     "execution_count": 2,
     "metadata": {},
     "output_type": "execute_result"
    }
   ],
   "source": [
    "df.head()"
   ]
  },
  {
   "cell_type": "code",
   "execution_count": 3,
   "metadata": {},
   "outputs": [
    {
     "data": {
      "text/plain": [
       "Index(['date_created', 'hour_created', 'max_final_priority', 'inc_resourced',\n",
       "       'scrs_crime_inc', 'multi_member_ward', 'service_code_description'],\n",
       "      dtype='object')"
      ]
     },
     "execution_count": 3,
     "metadata": {},
     "output_type": "execute_result"
    }
   ],
   "source": [
    "# drop tables that are not required\n",
    "df = df.drop(columns=['incident_count', 'datazone', 'dzone_code'])\n",
    "df.columns"
   ]
  },
  {
   "cell_type": "markdown",
   "metadata": {},
   "source": [
    "## Preprocessing"
   ]
  },
  {
   "cell_type": "code",
   "execution_count": 4,
   "metadata": {},
   "outputs": [],
   "source": [
    "import pandas as pd\n",
    "\n",
    "# make sure date_created is datetime\n",
    "df['date_created'] = pd.to_datetime(df['date_created'])\n",
    "\n",
    "# compute day offset from min date, then +1\n",
    "min_date = df['date_created'].min()  # 2022-04-01 00:00:00\n",
    "df['date_seq'] = (df['date_created'] - min_date).dt.days + 1"
   ]
  },
  {
   "cell_type": "code",
   "execution_count": 5,
   "metadata": {},
   "outputs": [
    {
     "name": "stdout",
     "output_type": "stream",
     "text": [
      "earliest actual date: 2022-04-01 00:00:00, mapped date at seq 1: 2022-04-01 00:00:00\n",
      " latest actual date: 2025-03-31 00:00:00, mapped date at seq 1096: 2025-03-31 00:00:00\n",
      "✔️  Date‐sequence mapping looks good!\n"
     ]
    }
   ],
   "source": [
    "# compute min/max of each\n",
    "min_date = df['date_created'].min()\n",
    "max_date = df['date_created'].max()\n",
    "min_seq  = df['date_seq'].min()\n",
    "max_seq  = df['date_seq'].max()\n",
    "\n",
    "# grab the corresponding dates from the mapped column\n",
    "mapped_min_date = df.loc[df['date_seq'] == min_seq, 'date_created'].iloc[0]\n",
    "mapped_max_date = df.loc[df['date_seq'] == max_seq, 'date_created'].iloc[0]\n",
    "\n",
    "# sanity‐check\n",
    "print(f\"earliest actual date: {min_date}, mapped date at seq {min_seq}: {mapped_min_date}\")\n",
    "print(f\" latest actual date: {max_date}, mapped date at seq {max_seq}: {mapped_max_date}\")\n",
    "\n",
    "assert mapped_min_date == min_date, \"Min sequence does NOT map to the earliest date!\"\n",
    "assert mapped_max_date == max_date, \"Max sequence does NOT map to the latest date!\"\n",
    "\n",
    "print(\"✔️  Date‐sequence mapping looks good!\")\n"
   ]
  },
  {
   "cell_type": "code",
   "execution_count": 6,
   "metadata": {},
   "outputs": [],
   "source": [
    "# dropping date_created column\n",
    "df = df.drop(\"date_created\", axis=1)"
   ]
  },
  {
   "cell_type": "code",
   "execution_count": 7,
   "metadata": {},
   "outputs": [
    {
     "data": {
      "text/plain": [
       "hour_created                   int32\n",
       "max_final_priority          category\n",
       "inc_resourced                   bool\n",
       "scrs_crime_inc                  bool\n",
       "multi_member_ward           category\n",
       "service_code_description    category\n",
       "date_seq                       int64\n",
       "dtype: object"
      ]
     },
     "execution_count": 7,
     "metadata": {},
     "output_type": "execute_result"
    }
   ],
   "source": [
    "df.dtypes"
   ]
  },
  {
   "cell_type": "markdown",
   "metadata": {},
   "source": [
    "## CTGAN"
   ]
  },
  {
   "cell_type": "code",
   "execution_count": 8,
   "metadata": {
    "scrolled": true
   },
   "outputs": [
    {
     "name": "stdout",
     "output_type": "stream",
     "text": [
      "Requirement already satisfied: sdv in ./myenv/lib64/python3.12/site-packages (1.23.0)\n",
      "Requirement already satisfied: boto3<2.0.0,>=1.28 in ./myenv/lib64/python3.12/site-packages (from sdv) (1.38.46)\n",
      "Requirement already satisfied: botocore<2.0.0,>=1.31 in ./myenv/lib64/python3.12/site-packages (from sdv) (1.38.46)\n",
      "Requirement already satisfied: cloudpickle>=2.1.0 in ./myenv/lib64/python3.12/site-packages (from sdv) (3.1.1)\n",
      "Requirement already satisfied: graphviz>=0.13.2 in ./myenv/lib64/python3.12/site-packages (from sdv) (0.21)\n",
      "Requirement already satisfied: numpy>=1.26.0 in ./myenv/lib64/python3.12/site-packages (from sdv) (2.3.1)\n",
      "Requirement already satisfied: pandas>=2.1.1 in ./myenv/lib64/python3.12/site-packages (from sdv) (2.3.0)\n",
      "Requirement already satisfied: tqdm>=4.29 in ./myenv/lib64/python3.12/site-packages (from sdv) (4.67.1)\n",
      "Requirement already satisfied: copulas>=0.12.1 in ./myenv/lib64/python3.12/site-packages (from sdv) (0.12.3)\n",
      "Requirement already satisfied: ctgan>=0.11.0 in ./myenv/lib64/python3.12/site-packages (from sdv) (0.11.0)\n",
      "Requirement already satisfied: deepecho>=0.7.0 in ./myenv/lib64/python3.12/site-packages (from sdv) (0.7.0)\n",
      "Requirement already satisfied: rdt>=1.17.0 in ./myenv/lib64/python3.12/site-packages (from sdv) (1.17.1)\n",
      "Requirement already satisfied: sdmetrics>=0.21.0 in ./myenv/lib64/python3.12/site-packages (from sdv) (0.21.0)\n",
      "Requirement already satisfied: platformdirs>=4.0 in ./myenv/lib64/python3.12/site-packages (from sdv) (4.3.8)\n",
      "Requirement already satisfied: pyyaml>=6.0.1 in ./myenv/lib64/python3.12/site-packages (from sdv) (6.0.2)\n",
      "Requirement already satisfied: jmespath<2.0.0,>=0.7.1 in ./myenv/lib64/python3.12/site-packages (from boto3<2.0.0,>=1.28->sdv) (1.0.1)\n",
      "Requirement already satisfied: s3transfer<0.14.0,>=0.13.0 in ./myenv/lib64/python3.12/site-packages (from boto3<2.0.0,>=1.28->sdv) (0.13.0)\n",
      "Requirement already satisfied: python-dateutil<3.0.0,>=2.1 in ./myenv/lib64/python3.12/site-packages (from botocore<2.0.0,>=1.31->sdv) (2.9.0.post0)\n",
      "Requirement already satisfied: urllib3!=2.2.0,<3,>=1.25.4 in ./myenv/lib64/python3.12/site-packages (from botocore<2.0.0,>=1.31->sdv) (2.5.0)\n",
      "Requirement already satisfied: plotly>=5.10.0 in ./myenv/lib64/python3.12/site-packages (from copulas>=0.12.1->sdv) (6.2.0)\n",
      "Requirement already satisfied: scipy>=1.12.0 in ./myenv/lib64/python3.12/site-packages (from copulas>=0.12.1->sdv) (1.16.0)\n",
      "Requirement already satisfied: torch>=2.2.0 in ./myenv/lib64/python3.12/site-packages (from ctgan>=0.11.0->sdv) (2.7.1)\n",
      "Requirement already satisfied: pytz>=2020.1 in ./myenv/lib64/python3.12/site-packages (from pandas>=2.1.1->sdv) (2025.2)\n",
      "Requirement already satisfied: tzdata>=2022.7 in ./myenv/lib64/python3.12/site-packages (from pandas>=2.1.1->sdv) (2025.2)\n",
      "Requirement already satisfied: scikit-learn>=1.3.1 in ./myenv/lib64/python3.12/site-packages (from rdt>=1.17.0->sdv) (1.7.0)\n",
      "Requirement already satisfied: Faker>=17 in ./myenv/lib64/python3.12/site-packages (from rdt>=1.17.0->sdv) (37.4.0)\n",
      "Requirement already satisfied: narwhals>=1.15.1 in ./myenv/lib64/python3.12/site-packages (from plotly>=5.10.0->copulas>=0.12.1->sdv) (1.44.0)\n",
      "Requirement already satisfied: packaging in ./myenv/lib64/python3.12/site-packages (from plotly>=5.10.0->copulas>=0.12.1->sdv) (25.0)\n",
      "Requirement already satisfied: six>=1.5 in ./myenv/lib64/python3.12/site-packages (from python-dateutil<3.0.0,>=2.1->botocore<2.0.0,>=1.31->sdv) (1.17.0)\n",
      "Requirement already satisfied: joblib>=1.2.0 in ./myenv/lib64/python3.12/site-packages (from scikit-learn>=1.3.1->rdt>=1.17.0->sdv) (1.5.1)\n",
      "Requirement already satisfied: threadpoolctl>=3.1.0 in ./myenv/lib64/python3.12/site-packages (from scikit-learn>=1.3.1->rdt>=1.17.0->sdv) (3.6.0)\n",
      "Requirement already satisfied: filelock in ./myenv/lib64/python3.12/site-packages (from torch>=2.2.0->ctgan>=0.11.0->sdv) (3.18.0)\n",
      "Requirement already satisfied: typing-extensions>=4.10.0 in ./myenv/lib64/python3.12/site-packages (from torch>=2.2.0->ctgan>=0.11.0->sdv) (4.14.0)\n",
      "Requirement already satisfied: setuptools in ./myenv/lib64/python3.12/site-packages (from torch>=2.2.0->ctgan>=0.11.0->sdv) (80.9.0)\n",
      "Requirement already satisfied: sympy>=1.13.3 in ./myenv/lib64/python3.12/site-packages (from torch>=2.2.0->ctgan>=0.11.0->sdv) (1.14.0)\n",
      "Requirement already satisfied: networkx in ./myenv/lib64/python3.12/site-packages (from torch>=2.2.0->ctgan>=0.11.0->sdv) (3.5)\n",
      "Requirement already satisfied: jinja2 in ./myenv/lib64/python3.12/site-packages (from torch>=2.2.0->ctgan>=0.11.0->sdv) (3.1.6)\n",
      "Requirement already satisfied: fsspec in ./myenv/lib64/python3.12/site-packages (from torch>=2.2.0->ctgan>=0.11.0->sdv) (2025.5.1)\n",
      "Requirement already satisfied: nvidia-cuda-nvrtc-cu12==12.6.77 in ./myenv/lib64/python3.12/site-packages (from torch>=2.2.0->ctgan>=0.11.0->sdv) (12.6.77)\n",
      "Requirement already satisfied: nvidia-cuda-runtime-cu12==12.6.77 in ./myenv/lib64/python3.12/site-packages (from torch>=2.2.0->ctgan>=0.11.0->sdv) (12.6.77)\n",
      "Requirement already satisfied: nvidia-cuda-cupti-cu12==12.6.80 in ./myenv/lib64/python3.12/site-packages (from torch>=2.2.0->ctgan>=0.11.0->sdv) (12.6.80)\n",
      "Requirement already satisfied: nvidia-cudnn-cu12==9.5.1.17 in ./myenv/lib64/python3.12/site-packages (from torch>=2.2.0->ctgan>=0.11.0->sdv) (9.5.1.17)\n",
      "Requirement already satisfied: nvidia-cublas-cu12==12.6.4.1 in ./myenv/lib64/python3.12/site-packages (from torch>=2.2.0->ctgan>=0.11.0->sdv) (12.6.4.1)\n",
      "Requirement already satisfied: nvidia-cufft-cu12==11.3.0.4 in ./myenv/lib64/python3.12/site-packages (from torch>=2.2.0->ctgan>=0.11.0->sdv) (11.3.0.4)\n",
      "Requirement already satisfied: nvidia-curand-cu12==10.3.7.77 in ./myenv/lib64/python3.12/site-packages (from torch>=2.2.0->ctgan>=0.11.0->sdv) (10.3.7.77)\n",
      "Requirement already satisfied: nvidia-cusolver-cu12==11.7.1.2 in ./myenv/lib64/python3.12/site-packages (from torch>=2.2.0->ctgan>=0.11.0->sdv) (11.7.1.2)\n",
      "Requirement already satisfied: nvidia-cusparse-cu12==12.5.4.2 in ./myenv/lib64/python3.12/site-packages (from torch>=2.2.0->ctgan>=0.11.0->sdv) (12.5.4.2)\n",
      "Requirement already satisfied: nvidia-cusparselt-cu12==0.6.3 in ./myenv/lib64/python3.12/site-packages (from torch>=2.2.0->ctgan>=0.11.0->sdv) (0.6.3)\n",
      "Requirement already satisfied: nvidia-nccl-cu12==2.26.2 in ./myenv/lib64/python3.12/site-packages (from torch>=2.2.0->ctgan>=0.11.0->sdv) (2.26.2)\n",
      "Requirement already satisfied: nvidia-nvtx-cu12==12.6.77 in ./myenv/lib64/python3.12/site-packages (from torch>=2.2.0->ctgan>=0.11.0->sdv) (12.6.77)\n",
      "Requirement already satisfied: nvidia-nvjitlink-cu12==12.6.85 in ./myenv/lib64/python3.12/site-packages (from torch>=2.2.0->ctgan>=0.11.0->sdv) (12.6.85)\n",
      "Requirement already satisfied: nvidia-cufile-cu12==1.11.1.6 in ./myenv/lib64/python3.12/site-packages (from torch>=2.2.0->ctgan>=0.11.0->sdv) (1.11.1.6)\n",
      "Requirement already satisfied: triton==3.3.1 in ./myenv/lib64/python3.12/site-packages (from torch>=2.2.0->ctgan>=0.11.0->sdv) (3.3.1)\n",
      "Requirement already satisfied: mpmath<1.4,>=1.1.0 in ./myenv/lib64/python3.12/site-packages (from sympy>=1.13.3->torch>=2.2.0->ctgan>=0.11.0->sdv) (1.3.0)\n",
      "Requirement already satisfied: MarkupSafe>=2.0 in ./myenv/lib64/python3.12/site-packages (from jinja2->torch>=2.2.0->ctgan>=0.11.0->sdv) (3.0.2)\n",
      "Note: you may need to restart the kernel to use updated packages.\n"
     ]
    }
   ],
   "source": [
    "pip install --no-user sdv"
   ]
  },
  {
   "cell_type": "code",
   "execution_count": 9,
   "metadata": {
    "collapsed": true,
    "jupyter": {
     "outputs_hidden": true
    }
   },
   "outputs": [
    {
     "name": "stdout",
     "output_type": "stream",
     "text": [
      "Name: sdv\n",
      "Version: 1.23.0\n",
      "Summary: Generate synthetic data for single table, multi table and sequential data\n",
      "Home-page: \n",
      "Author: \n",
      "Author-email: \"DataCebo, Inc.\" <info@sdv.dev>\n",
      "License: BSL-1.1\n",
      "Location: /dcs/large/u2164966/MSc_Dissertation/myenv/lib64/python3.12/site-packages\n",
      "Requires: boto3, botocore, cloudpickle, copulas, ctgan, deepecho, graphviz, numpy, pandas, platformdirs, pyyaml, rdt, sdmetrics, tqdm\n",
      "Required-by: \n"
     ]
    }
   ],
   "source": [
    "!pip show sdv"
   ]
  },
  {
   "cell_type": "code",
   "execution_count": 8,
   "metadata": {},
   "outputs": [],
   "source": [
    "from sdv.metadata import SingleTableMetadata\n",
    "\n",
    "bool_cols = [\"inc_resourced\", \"scrs_crime_inc\"]\n",
    "cat_cols  = [\"max_final_priority\", \"multi_member_ward\", \"service_code_description\"]\n",
    "\n",
    "df[bool_cols] = df[bool_cols].astype(bool)                  # force clean bool\n",
    "df[cat_cols]  = df[cat_cols].astype(str)                    # cast category→object\n",
    "\n",
    "# good practice: keep numerics int\n",
    "num_cols = [\"hour_created\", \"date_seq\"]\n",
    "df[num_cols] = df[num_cols].astype({\"hour_created\": \"int32\",\n",
    "                                    \"date_seq\": \"int64\"})\n",
    "\n",
    "metadata = SingleTableMetadata()\n",
    "metadata.detect_from_dataframe(df)    # auto detecting the metadata information from the df"
   ]
  },
  {
   "cell_type": "code",
   "execution_count": 9,
   "metadata": {},
   "outputs": [
    {
     "data": {
      "text/plain": [
       "{\n",
       "    \"METADATA_SPEC_VERSION\": \"SINGLE_TABLE_V1\",\n",
       "    \"columns\": {\n",
       "        \"hour_created\": {\n",
       "            \"sdtype\": \"numerical\"\n",
       "        },\n",
       "        \"max_final_priority\": {\n",
       "            \"sdtype\": \"categorical\"\n",
       "        },\n",
       "        \"inc_resourced\": {\n",
       "            \"sdtype\": \"categorical\"\n",
       "        },\n",
       "        \"scrs_crime_inc\": {\n",
       "            \"sdtype\": \"categorical\"\n",
       "        },\n",
       "        \"multi_member_ward\": {\n",
       "            \"sdtype\": \"categorical\"\n",
       "        },\n",
       "        \"service_code_description\": {\n",
       "            \"sdtype\": \"categorical\"\n",
       "        },\n",
       "        \"date_seq\": {\n",
       "            \"sdtype\": \"numerical\"\n",
       "        }\n",
       "    }\n",
       "}"
      ]
     },
     "execution_count": 9,
     "metadata": {},
     "output_type": "execute_result"
    }
   ],
   "source": [
    "metadata"
   ]
  },
  {
   "cell_type": "code",
   "execution_count": 10,
   "metadata": {},
   "outputs": [
    {
     "name": "stderr",
     "output_type": "stream",
     "text": [
      "/dcs/large/u2164966/MSc_Dissertation/myenv/lib64/python3.12/site-packages/sdv/single_table/base.py:162: FutureWarning:\n",
      "\n",
      "The 'SingleTableMetadata' is deprecated. Please use the new 'Metadata' class for synthesizers.\n",
      "\n",
      "/dcs/large/u2164966/MSc_Dissertation/myenv/lib64/python3.12/site-packages/sdv/single_table/base.py:128: UserWarning:\n",
      "\n",
      "We strongly recommend saving the metadata using 'save_to_json' for replicability in future SDV versions.\n",
      "\n"
     ]
    }
   ],
   "source": [
    "from sdv.single_table import CTGANSynthesizer\n",
    "ctgan = CTGANSynthesizer(\n",
    "    metadata,\n",
    "    epochs=300,\n",
    "    batch_size=1024,\n",
    "    pac=8,\n",
    "    embedding_dim=128,\n",
    "    generator_dim=(256, 256),\n",
    "    discriminator_dim=(256, 256),\n",
    "    generator_lr=2e-4,\n",
    "    discriminator_lr=2e-4,\n",
    "    cuda=True,\n",
    "    verbose=True\n",
    ")"
   ]
  },
  {
   "cell_type": "code",
   "execution_count": 11,
   "metadata": {},
   "outputs": [
    {
     "name": "stderr",
     "output_type": "stream",
     "text": [
      "Gen. (0.71) | Discrim. (-0.05): 100%|██████████| 300/300 [5:53:29<00:00, 70.70s/it]   \n"
     ]
    }
   ],
   "source": [
    "ctgan.fit(\n",
    "    data=df,\n",
    ")"
   ]
  },
  {
   "cell_type": "code",
   "execution_count": 12,
   "metadata": {},
   "outputs": [
    {
     "name": "stdout",
     "output_type": "stream",
     "text": [
      "   Epoch  Generator Loss  Discriminator Loss\n",
      "0      0       -0.393512           -0.045384\n",
      "1      1       -0.325351           -0.004594\n",
      "2      2       -0.177901           -0.038435\n",
      "3      3       -0.244282           -0.061916\n",
      "4      4       -0.106887           -0.024772\n"
     ]
    }
   ],
   "source": [
    "loss_df = ctgan.get_loss_values()\n",
    "print(loss_df.head())"
   ]
  },
  {
   "cell_type": "code",
   "execution_count": 14,
   "metadata": {},
   "outputs": [
    {
     "data": {
      "image/png": "[encoded data removed]",
      "text/plain": [
       "<Figure size 640x480 with 1 Axes>"
      ]
     },
     "metadata": {},
     "output_type": "display_data"
    }
   ],
   "source": [
    "import matplotlib.pyplot as plt\n",
    "plt.plot(loss_df['Epoch'], loss_df['Generator Loss'], label='Generator Loss')\n",
    "plt.plot(loss_df['Epoch'], loss_df['Discriminator Loss'], label='Discriminator Loss')\n",
    "plt.xlabel('Epoch')\n",
    "plt.ylabel('Loss')\n",
    "plt.title('CTGAN Generator & Discriminator Loss')\n",
    "plt.legend()\n",
    "plt.tight_layout()\n",
    "plt.show()"
   ]
  },
  {
   "cell_type": "code",
   "execution_count": 15,
   "metadata": {},
   "outputs": [
    {
     "name": "stdout",
     "output_type": "stream",
     "text": [
      "Model saved to ctgan_model.pkl\n"
     ]
    }
   ],
   "source": [
    "# saving the model to a pickle file\n",
    "with open('ctgan_model.pkl', 'wb') as f:\n",
    "    pickle.dump(ctgan, f)\n",
    "print(\"Model saved to ctgan_model.pkl\")"
   ]
  },
  {
   "cell_type": "markdown",
   "metadata": {
    "jp-MarkdownHeadingCollapsed": true
   },
   "source": [
    "## Loading the pickle file"
   ]
  },
  {
   "cell_type": "code",
   "execution_count": 22,
   "metadata": {},
   "outputs": [],
   "source": [
    "# loading the model\n",
    "import pickle\n",
    "with open('ctgan_model.pkl', 'rb') as file:\n",
    "    ctgan = pickle.load(file)"
   ]
  },
  {
   "cell_type": "code",
   "execution_count": 23,
   "metadata": {},
   "outputs": [],
   "source": [
    "# a sample of 1000 data points\n",
    "synthetic_df = ctgan.sample(1000)"
   ]
  },
  {
   "cell_type": "code",
   "execution_count": 24,
   "metadata": {},
   "outputs": [
    {
     "data": {
      "text/html": [
       "<div>\n",
       "<style scoped>\n",
       "    .dataframe tbody tr th:only-of-type {\n",
       "        vertical-align: middle;\n",
       "    }\n",
       "\n",
       "    .dataframe tbody tr th {\n",
       "        vertical-align: top;\n",
       "    }\n",
       "\n",
       "    .dataframe thead th {\n",
       "        text-align: right;\n",
       "    }\n",
       "</style>\n",
       "<table border=\"1\" class=\"dataframe\">\n",
       "  <thead>\n",
       "    <tr style=\"text-align: right;\">\n",
       "      <th></th>\n",
       "      <th>hour_created</th>\n",
       "      <th>max_final_priority</th>\n",
       "      <th>inc_resourced</th>\n",
       "      <th>scrs_crime_inc</th>\n",
       "      <th>multi_member_ward</th>\n",
       "      <th>service_code_description</th>\n",
       "      <th>date_seq</th>\n",
       "    </tr>\n",
       "  </thead>\n",
       "  <tbody>\n",
       "    <tr>\n",
       "      <th>0</th>\n",
       "      <td>11</td>\n",
       "      <td>STANDARD</td>\n",
       "      <td>True</td>\n",
       "      <td>False</td>\n",
       "      <td>Airdrie South</td>\n",
       "      <td>ASSIST MEMBER OF THE PUBLIC</td>\n",
       "      <td>595</td>\n",
       "    </tr>\n",
       "    <tr>\n",
       "      <th>1</th>\n",
       "      <td>19</td>\n",
       "      <td>STANDARD</td>\n",
       "      <td>False</td>\n",
       "      <td>True</td>\n",
       "      <td>Greater Pollok</td>\n",
       "      <td>THEFT</td>\n",
       "      <td>456</td>\n",
       "    </tr>\n",
       "    <tr>\n",
       "      <th>2</th>\n",
       "      <td>7</td>\n",
       "      <td>STANDARD</td>\n",
       "      <td>True</td>\n",
       "      <td>True</td>\n",
       "      <td>Dunfermline North</td>\n",
       "      <td>DAMAGE</td>\n",
       "      <td>584</td>\n",
       "    </tr>\n",
       "    <tr>\n",
       "      <th>3</th>\n",
       "      <td>9</td>\n",
       "      <td>PROMPT</td>\n",
       "      <td>False</td>\n",
       "      <td>False</td>\n",
       "      <td>Irvine West</td>\n",
       "      <td>ABANDONED/SILENT 999 CALL</td>\n",
       "      <td>238</td>\n",
       "    </tr>\n",
       "    <tr>\n",
       "      <th>4</th>\n",
       "      <td>17</td>\n",
       "      <td>STANDARD</td>\n",
       "      <td>False</td>\n",
       "      <td>True</td>\n",
       "      <td>Kincorth/Nigg/Cove</td>\n",
       "      <td>THEFT</td>\n",
       "      <td>544</td>\n",
       "    </tr>\n",
       "  </tbody>\n",
       "</table>\n",
       "</div>"
      ],
      "text/plain": [
       "   hour_created max_final_priority  inc_resourced  scrs_crime_inc  \\\n",
       "0            11           STANDARD           True           False   \n",
       "1            19           STANDARD          False            True   \n",
       "2             7           STANDARD           True            True   \n",
       "3             9             PROMPT          False           False   \n",
       "4            17           STANDARD          False            True   \n",
       "\n",
       "    multi_member_ward     service_code_description  date_seq  \n",
       "0       Airdrie South  ASSIST MEMBER OF THE PUBLIC       595  \n",
       "1      Greater Pollok                        THEFT       456  \n",
       "2   Dunfermline North                       DAMAGE       584  \n",
       "3         Irvine West    ABANDONED/SILENT 999 CALL       238  \n",
       "4  Kincorth/Nigg/Cove                        THEFT       544  "
      ]
     },
     "execution_count": 24,
     "metadata": {},
     "output_type": "execute_result"
    }
   ],
   "source": [
    "synthetic_df.head()"
   ]
  },
  {
   "cell_type": "markdown",
   "metadata": {},
   "source": [
    "## Testing the similarity of the synthetic data with the real data (Initial approach)"
   ]
  },
  {
   "cell_type": "code",
   "execution_count": 25,
   "metadata": {},
   "outputs": [
    {
     "data": {
      "text/plain": [
       "2843693"
      ]
     },
     "execution_count": 25,
     "metadata": {},
     "output_type": "execute_result"
    }
   ],
   "source": [
    "len(df)"
   ]
  },
  {
   "cell_type": "code",
   "execution_count": 26,
   "metadata": {},
   "outputs": [],
   "source": [
    "# Generating the same number of synthetic data points as real\n",
    "synthetic_df = ctgan.sample(2843693)"
   ]
  },
  {
   "cell_type": "code",
   "execution_count": 27,
   "metadata": {},
   "outputs": [
    {
     "data": {
      "text/plain": [
       "2843693"
      ]
     },
     "execution_count": 27,
     "metadata": {},
     "output_type": "execute_result"
    }
   ],
   "source": [
    "# length of the synthetic data\n",
    "len(synthetic_df)"
   ]
  },
  {
   "cell_type": "code",
   "execution_count": 28,
   "metadata": {},
   "outputs": [],
   "source": [
    "%matplotlib inline\n",
    "import pandas as pd\n",
    "import matplotlib.pyplot as plt"
   ]
  },
  {
   "cell_type": "code",
   "execution_count": 33,
   "metadata": {},
   "outputs": [
    {
     "data": {
      "text/plain": [
       "hour_created                 int32\n",
       "max_final_priority          object\n",
       "inc_resourced                 bool\n",
       "scrs_crime_inc                bool\n",
       "multi_member_ward           object\n",
       "service_code_description    object\n",
       "date_seq                     int64\n",
       "dtype: object"
      ]
     },
     "execution_count": 33,
     "metadata": {},
     "output_type": "execute_result"
    }
   ],
   "source": [
    "synthetic_df.dtypes"
   ]
  },
  {
   "cell_type": "code",
   "execution_count": 31,
   "metadata": {},
   "outputs": [
    {
     "data": {
      "text/plain": [
       "1096"
      ]
     },
     "execution_count": 31,
     "metadata": {},
     "output_type": "execute_result"
    }
   ],
   "source": [
    "# Number of dates in synthetic data\n",
    "len(synthetic_df['date_seq'].unique())"
   ]
  },
  {
   "cell_type": "code",
   "execution_count": 32,
   "metadata": {},
   "outputs": [
    {
     "data": {
      "text/plain": [
       "1096"
      ]
     },
     "execution_count": 32,
     "metadata": {},
     "output_type": "execute_result"
    }
   ],
   "source": [
    "# Number of dates in real data\n",
    "len(df['date_seq'].unique())"
   ]
  },
  {
   "cell_type": "markdown",
   "metadata": {},
   "source": [
    "### Univariate analysis"
   ]
  },
  {
   "cell_type": "code",
   "execution_count": 36,
   "metadata": {},
   "outputs": [],
   "source": [
    "import pandas as pd\n",
    "import numpy as np\n",
    "from scipy.spatial.distance import euclidean\n",
    "import matplotlib.pyplot as plt"
   ]
  },
  {
   "cell_type": "code",
   "execution_count": 37,
   "metadata": {},
   "outputs": [],
   "source": [
    "def hellinger_distance(p, q, bins=20):\n",
    "    \"\"\"\n",
    "    Compute Hellinger distance between two 1-D distributions.\n",
    "\n",
    "    Parameters\n",
    "    ----------\n",
    "    p, q : 1-D arrays or pd.Series\n",
    "        Samples from the real and synthetic data.\n",
    "    bins : int or array-like\n",
    "        If int, uses equal-width bins (good default for continuous vars).\n",
    "        If you pass an explicit bin-edge array, the same edges are reused\n",
    "        for both p and q.\n",
    "\n",
    "    Returns\n",
    "    -------\n",
    "    float in [0, 1]\n",
    "        0   → identical distributions  \n",
    "        1   → maximally different\n",
    "    \"\"\"\n",
    "    # Choose common bin edges\n",
    "    if np.isscalar(bins):\n",
    "        edges = np.histogram_bin_edges(np.concatenate((p, q)), bins=bins)\n",
    "    else:\n",
    "        edges = bins\n",
    "\n",
    "    # Normalised histograms ⇒ empirical PMFs\n",
    "    p_hist, _ = np.histogram(p, bins=edges, density=True)\n",
    "    q_hist, _ = np.histogram(q, bins=edges, density=True)\n",
    "\n",
    "    # Replace nans that can appear if column is constant\n",
    "    p_hist = np.nan_to_num(p_hist)\n",
    "    q_hist = np.nan_to_num(q_hist)\n",
    "\n",
    "    return np.sqrt(0.5 * np.sum((np.sqrt(p_hist) - np.sqrt(q_hist))**2))\n"
   ]
  },
  {
   "cell_type": "code",
   "execution_count": 38,
   "metadata": {},
   "outputs": [],
   "source": [
    "def hellinger_categorical(p, q):\n",
    "    # aligned on the union of category labels\n",
    "    all_cats = sorted(set(p).union(q))\n",
    "    p_probs = np.array(p.value_counts(normalize=True).reindex(all_cats, fill_value=0))\n",
    "    q_probs = np.array(q.value_counts(normalize=True).reindex(all_cats, fill_value=0))\n",
    "    return np.sqrt(0.5 * np.sum((np.sqrt(p_probs) - np.sqrt(q_probs))**2))"
   ]
  },
  {
   "cell_type": "code",
   "execution_count": 39,
   "metadata": {},
   "outputs": [
    {
     "name": "stderr",
     "output_type": "stream",
     "text": [
      "/tmp/dcs-tmp.u2164966/ipykernel_46307/37115541.py:22: RuntimeWarning:\n",
      "\n",
      "Converting input from bool to <class 'numpy.uint8'> for compatibility.\n",
      "\n",
      "/tmp/dcs-tmp.u2164966/ipykernel_46307/37115541.py:27: RuntimeWarning:\n",
      "\n",
      "Converting input from bool to <class 'numpy.uint8'> for compatibility.\n",
      "\n",
      "/tmp/dcs-tmp.u2164966/ipykernel_46307/37115541.py:28: RuntimeWarning:\n",
      "\n",
      "Converting input from bool to <class 'numpy.uint8'> for compatibility.\n",
      "\n"
     ]
    }
   ],
   "source": [
    "distances = {}\n",
    "\n",
    "for col in df.columns:\n",
    "    real_col = df[col].dropna()\n",
    "    synth_col = synthetic_df[col].dropna()\n",
    "\n",
    "    if pd.api.types.is_numeric_dtype(real_col):\n",
    "        d = hellinger_distance(real_col, synth_col, bins=20)\n",
    "    else:\n",
    "        d = hellinger_categorical(real_col, synth_col)\n",
    "\n",
    "    distances[col] = d\n",
    "\n",
    "hellinger_series = pd.Series(distances).sort_values()\n"
   ]
  },
  {
   "cell_type": "code",
   "execution_count": 41,
   "metadata": {},
   "outputs": [
    {
     "data": {
      "text/plain": [
       "date_seq                    0.004423\n",
       "max_final_priority          0.052552\n",
       "hour_created                0.074809\n",
       "multi_member_ward           0.101205\n",
       "service_code_description    0.158553\n",
       "scrs_crime_inc              0.210121\n",
       "inc_resourced               0.306412\n",
       "dtype: float64"
      ]
     },
     "execution_count": 41,
     "metadata": {},
     "output_type": "execute_result"
    }
   ],
   "source": [
    "# Hellinger diatances for each column\n",
    "hellinger_series"
   ]
  },
  {
   "cell_type": "code",
   "execution_count": 50,
   "metadata": {},
   "outputs": [
    {
     "data": {
      "image/png": "[encoded data removed]",
      "text/plain": [
       "<Figure size 600x800 with 1 Axes>"
      ]
     },
     "metadata": {},
     "output_type": "display_data"
    }
   ],
   "source": [
    "import numpy as np\n",
    "import seaborn as sns\n",
    "import matplotlib.pyplot as plt\n",
    "\n",
    "# assume hellinger_series is a pandas Series of distances\n",
    "values = hellinger_series.values\n",
    "\n",
    "# compute quartiles\n",
    "q1, med, q3 = np.quantile(values, [0.25, 0.5, 0.75])\n",
    "\n",
    "# set a clean white background\n",
    "sns.set_style(\"whitegrid\")\n",
    "\n",
    "fig, ax = plt.subplots(figsize=(6, 8))\n",
    "\n",
    "# boxplot with colored median\n",
    "sns.boxplot(\n",
    "    y=values,\n",
    "    width=0.6,\n",
    "    showcaps=True,\n",
    "    fliersize=0,\n",
    "    boxprops={\"facecolor\": \"white\"},\n",
    "    medianprops={\"color\": \"crimson\", \"linewidth\": 2},\n",
    "    whiskerprops={\"color\": \"black\"},\n",
    "    capprops={\"color\": \"black\"},\n",
    "    ax=ax\n",
    ")\n",
    "\n",
    "# annotate the quartiles\n",
    "x_pos = 1.0  # box is centered at x=1\n",
    "offset = 0.04 * (ax.get_ylim()[1] - ax.get_ylim()[0])  # small vertical offset for text\n",
    "\n",
    "ax.text(x_pos + 0.1, q1, f\"Q1: {q1:.3f}\", va='center')\n",
    "ax.text(x_pos + 0.1, med, f\"Median: {med:.3f}\", va='center', color='crimson')\n",
    "ax.text(x_pos + 0.1, q3, f\"Q3: {q3:.3f}\", va='center')\n",
    "\n",
    "# clean up axes\n",
    "ax.set_xticks([])  \n",
    "ax.set_ylabel(\"Hellinger distance (0 = perfect match)\")\n",
    "ax.set_title(\"Univariate similarity between real and CTGAN-synthetic data\")\n",
    "\n",
    "plt.tight_layout()\n",
    "plt.show()"
   ]
  },
  {
   "cell_type": "markdown",
   "metadata": {},
   "source": [
    "### Bivariate analysis"
   ]
  },
  {
   "cell_type": "code",
   "execution_count": 62,
   "metadata": {},
   "outputs": [
    {
     "name": "stderr",
     "output_type": "stream",
     "text": [
      "/dcs/large/u2164966/MSc_Dissertation/myenv/lib64/python3.12/site-packages/sklearn/preprocessing/_discretization.py:296: FutureWarning:\n",
      "\n",
      "The current default behavior, quantile_method='linear', will be changed to quantile_method='averaged_inverted_cdf' in scikit-learn version 1.9 to naturally support sample weight equivalence properties by default. Pass quantile_method='averaged_inverted_cdf' explicitly to silence this warning.\n",
      "\n",
      "/dcs/large/u2164966/MSc_Dissertation/myenv/lib64/python3.12/site-packages/sklearn/preprocessing/_discretization.py:296: FutureWarning:\n",
      "\n",
      "The current default behavior, quantile_method='linear', will be changed to quantile_method='averaged_inverted_cdf' in scikit-learn version 1.9 to naturally support sample weight equivalence properties by default. Pass quantile_method='averaged_inverted_cdf' explicitly to silence this warning.\n",
      "\n",
      "/dcs/large/u2164966/MSc_Dissertation/myenv/lib64/python3.12/site-packages/sklearn/preprocessing/_discretization.py:296: FutureWarning:\n",
      "\n",
      "The current default behavior, quantile_method='linear', will be changed to quantile_method='averaged_inverted_cdf' in scikit-learn version 1.9 to naturally support sample weight equivalence properties by default. Pass quantile_method='averaged_inverted_cdf' explicitly to silence this warning.\n",
      "\n",
      "/dcs/large/u2164966/MSc_Dissertation/myenv/lib64/python3.12/site-packages/sklearn/preprocessing/_discretization.py:296: FutureWarning:\n",
      "\n",
      "The current default behavior, quantile_method='linear', will be changed to quantile_method='averaged_inverted_cdf' in scikit-learn version 1.9 to naturally support sample weight equivalence properties by default. Pass quantile_method='averaged_inverted_cdf' explicitly to silence this warning.\n",
      "\n",
      "/dcs/large/u2164966/MSc_Dissertation/myenv/lib64/python3.12/site-packages/sklearn/preprocessing/_discretization.py:296: FutureWarning:\n",
      "\n",
      "The current default behavior, quantile_method='linear', will be changed to quantile_method='averaged_inverted_cdf' in scikit-learn version 1.9 to naturally support sample weight equivalence properties by default. Pass quantile_method='averaged_inverted_cdf' explicitly to silence this warning.\n",
      "\n",
      "/dcs/large/u2164966/MSc_Dissertation/myenv/lib64/python3.12/site-packages/sklearn/preprocessing/_discretization.py:296: FutureWarning:\n",
      "\n",
      "The current default behavior, quantile_method='linear', will be changed to quantile_method='averaged_inverted_cdf' in scikit-learn version 1.9 to naturally support sample weight equivalence properties by default. Pass quantile_method='averaged_inverted_cdf' explicitly to silence this warning.\n",
      "\n",
      "/dcs/large/u2164966/MSc_Dissertation/myenv/lib64/python3.12/site-packages/sklearn/preprocessing/_discretization.py:296: FutureWarning:\n",
      "\n",
      "The current default behavior, quantile_method='linear', will be changed to quantile_method='averaged_inverted_cdf' in scikit-learn version 1.9 to naturally support sample weight equivalence properties by default. Pass quantile_method='averaged_inverted_cdf' explicitly to silence this warning.\n",
      "\n",
      "/dcs/large/u2164966/MSc_Dissertation/myenv/lib64/python3.12/site-packages/sklearn/preprocessing/_discretization.py:296: FutureWarning:\n",
      "\n",
      "The current default behavior, quantile_method='linear', will be changed to quantile_method='averaged_inverted_cdf' in scikit-learn version 1.9 to naturally support sample weight equivalence properties by default. Pass quantile_method='averaged_inverted_cdf' explicitly to silence this warning.\n",
      "\n",
      "/dcs/large/u2164966/MSc_Dissertation/myenv/lib64/python3.12/site-packages/sklearn/preprocessing/_discretization.py:296: FutureWarning:\n",
      "\n",
      "The current default behavior, quantile_method='linear', will be changed to quantile_method='averaged_inverted_cdf' in scikit-learn version 1.9 to naturally support sample weight equivalence properties by default. Pass quantile_method='averaged_inverted_cdf' explicitly to silence this warning.\n",
      "\n",
      "/dcs/large/u2164966/MSc_Dissertation/myenv/lib64/python3.12/site-packages/sklearn/preprocessing/_discretization.py:296: FutureWarning:\n",
      "\n",
      "The current default behavior, quantile_method='linear', will be changed to quantile_method='averaged_inverted_cdf' in scikit-learn version 1.9 to naturally support sample weight equivalence properties by default. Pass quantile_method='averaged_inverted_cdf' explicitly to silence this warning.\n",
      "\n",
      "/dcs/large/u2164966/MSc_Dissertation/myenv/lib64/python3.12/site-packages/sklearn/preprocessing/_discretization.py:296: FutureWarning:\n",
      "\n",
      "The current default behavior, quantile_method='linear', will be changed to quantile_method='averaged_inverted_cdf' in scikit-learn version 1.9 to naturally support sample weight equivalence properties by default. Pass quantile_method='averaged_inverted_cdf' explicitly to silence this warning.\n",
      "\n",
      "/dcs/large/u2164966/MSc_Dissertation/myenv/lib64/python3.12/site-packages/sklearn/preprocessing/_discretization.py:296: FutureWarning:\n",
      "\n",
      "The current default behavior, quantile_method='linear', will be changed to quantile_method='averaged_inverted_cdf' in scikit-learn version 1.9 to naturally support sample weight equivalence properties by default. Pass quantile_method='averaged_inverted_cdf' explicitly to silence this warning.\n",
      "\n"
     ]
    },
    {
     "data": {
      "image/png": "[encoded data removed]",
      "text/plain": [
       "<Figure size 1000x800 with 2 Axes>"
      ]
     },
     "metadata": {},
     "output_type": "display_data"
    }
   ],
   "source": [
    "import itertools\n",
    "import numpy as np\n",
    "import pandas as pd\n",
    "from scipy.stats import pearsonr, pointbiserialr, chi2_contingency\n",
    "from sklearn.preprocessing import KBinsDiscretizer\n",
    "from sklearn.metrics import normalized_mutual_info_score\n",
    "import matplotlib.pyplot as plt\n",
    "\n",
    "\n",
    "# 1.  Variable-type helpers\n",
    "def _is_binary(s):\n",
    "    if pd.api.types.is_bool_dtype(s):\n",
    "        return True\n",
    "    if pd.api.types.is_numeric_dtype(s):\n",
    "        u = s.dropna().unique()\n",
    "        return len(u) <= 2 and set(u).issubset({0, 1})\n",
    "    return False\n",
    "\n",
    "def _var_type(s):\n",
    "    if _is_binary(s):\n",
    "        return \"binary\"\n",
    "    if pd.api.types.is_numeric_dtype(s):\n",
    "        return \"continuous\"\n",
    "    return \"categorical\"           # object or category\n",
    "\n",
    "# 2.  Association measuresdef _cramers_v(a, b):\n",
    "    tbl  = pd.crosstab(a, b)\n",
    "    chi2 = chi2_contingency(tbl, correction=False)[0]\n",
    "    n    = tbl.values.sum()\n",
    "    k, r = tbl.shape\n",
    "    return np.sqrt(chi2 / (n * (min(k - 1, r - 1))))\n",
    "\n",
    "def _mutual_info_cat_cont(cat, cont, n_bins=10, strategy=\"quantile\"):\n",
    "    \"\"\"Normalized mutual information between a categorical and a continuous variable.\"\"\"\n",
    "    mask = cat.notna() & cont.notna()\n",
    "    if mask.sum() == 0:\n",
    "        return np.nan\n",
    "    cat_codes = pd.Categorical(cat[mask]).codes                # discrete 0…K-1\n",
    "    cont_binned = (\n",
    "        KBinsDiscretizer(n_bins=n_bins, encode=\"ordinal\", strategy=strategy)\n",
    "        .fit_transform(cont[mask].to_numpy().reshape(-1, 1))\n",
    "        .astype(int)\n",
    "        .ravel()\n",
    "    )\n",
    "    # NMI is symmetricscaled to [0,1]; we use the ‘min’ normalisation\n",
    "    return normalized_mutual_info_score(cat_codes, cont_binned, average_method=\"min\")\n",
    "\n",
    "def _association(x, y, xtype, ytype):\n",
    "    # continuous × continuous  → Pearson\n",
    "    if xtype == ytype == \"continuous\":\n",
    "        return pearsonr(x, y)[0]\n",
    "\n",
    "    # one continuous & one binary  → point-biserial\n",
    "    if {\"binary\", \"continuous\"} <= {xtype, ytype} and \"categorical\" not in {xtype, ytype}:\n",
    "        return pointbiserialr(x, y)[0]\n",
    "\n",
    "    # binary × binary  → φ (Pearson on 0/1 dummies)\n",
    "    if xtype == ytype == \"binary\":\n",
    "        return pearsonr(x, y)[0]\n",
    "\n",
    "    # categorical × binary  → Cramér’s V\n",
    "    if {\"categorical\", \"binary\"} <= {xtype, ytype}:\n",
    "        return _cramers_v(x, y)\n",
    "\n",
    "    # categorical × categorical  → Cramér’s V\n",
    "    if xtype == ytype == \"categorical\":\n",
    "        return _cramers_v(x, y)\n",
    "\n",
    "    # categorical × continuous  → Normalised Mutual Information \n",
    "    if {\"categorical\", \"continuous\"} <= {xtype, ytype}:\n",
    "        cat, cont = (x, y) if xtype == \"categorical\" else (y, x)\n",
    "        return _mutual_info_cat_cont(cat, cont)\n",
    "\n",
    "    raise NotImplementedError(f\"No association for {xtype} × {ytype}\")\n",
    "\n",
    "\n",
    "# 3.  Absolute Δ-correlation / association matrix\n",
    "def bivariate_abs_diff(real_df, synth_df):\n",
    "    cols  = [c for c in real_df.columns if c in synth_df.columns]\n",
    "    types = {c: _var_type(real_df[c]) for c in cols}\n",
    "\n",
    "    diff = pd.DataFrame(np.nan, index=cols, columns=cols)\n",
    "\n",
    "    for a, b in itertools.combinations(cols, 2):\n",
    "        at, bt = types[a], types[b]\n",
    "\n",
    "        r_real = _association(real_df[a].dropna(),  real_df[b].dropna(),  at, bt)\n",
    "        r_syn  = _association(synth_df[a].dropna(), synth_df[b].dropna(), at, bt)\n",
    "\n",
    "        d = abs(r_real - r_syn)\n",
    "        diff.loc[a, b] = d\n",
    "        diff.loc[b, a] = d\n",
    "\n",
    "    np.fill_diagonal(diff.values, 0.0)\n",
    "    return diff\n",
    "\n",
    "\n",
    "# 4.  Heat-map\n",
    "def plot_abs_diff_heatmap(diff_matrix, figsize=(10, 8), cmap=\"Reds\"):\n",
    "    fig, ax = plt.subplots(figsize=figsize)\n",
    "\n",
    "    # draw the image ----------------------------------------------------------\n",
    "    im = ax.imshow(diff_matrix.values,\n",
    "                   cmap=cmap,\n",
    "                   interpolation='none')      # no smoothing\n",
    "\n",
    "    # major ticks – centre of the squares -------------------------------------\n",
    "    ax.set_xticks(np.arange(diff_matrix.shape[1]))\n",
    "    ax.set_yticks(np.arange(diff_matrix.shape[0]))\n",
    "    ax.set_xticklabels(diff_matrix.columns, rotation=90)\n",
    "    ax.set_yticklabels(diff_matrix.index)\n",
    "\n",
    "    # minor ticks – exactly on the square *edges* -----------------------------\n",
    "    ax.set_xticks(np.arange(-.5, diff_matrix.shape[1], 1), minor=True)\n",
    "    ax.set_yticks(np.arange(-.5, diff_matrix.shape[0], 1), minor=True)\n",
    "\n",
    "    # switch off the default grid and draw our own\n",
    "    ax.grid(False)                                              # kill major grid\n",
    "    ax.grid(which='minor', color='white', linestyle='-', linewidth=2)\n",
    "    ax.tick_params(which='minor', length=0)                     # hide the ticks\n",
    "\n",
    "    # colour-bar & title ------------------------------------------------------\n",
    "    plt.colorbar(im, ax=ax, label=\"|Δ association|\")\n",
    "    plt.title(\"Absolute difference in pairwise associations\\n(real vs. synthetic)\")\n",
    "    plt.tight_layout()\n",
    "    plt.show()\n",
    "\n",
    "diff = bivariate_abs_diff(df, synthetic_df)\n",
    "plot_abs_diff_heatmap(diff)\n"
   ]
  },
  {
   "cell_type": "markdown",
   "metadata": {},
   "source": [
    "### Multivariate analysis"
   ]
  },
  {
   "cell_type": "code",
   "execution_count": 69,
   "metadata": {
    "collapsed": true,
    "jupyter": {
     "outputs_hidden": true
    }
   },
   "outputs": [
    {
     "name": "stderr",
     "output_type": "stream",
     "text": [
      "/tmp/dcs-tmp.u2164966/ipykernel_46307/1019303191.py:9: DeprecationWarning:\n",
      "\n",
      "is_categorical_dtype is deprecated and will be removed in a future version. Use isinstance(dtype, pd.CategoricalDtype) instead\n",
      "\n",
      "/tmp/dcs-tmp.u2164966/ipykernel_46307/1019303191.py:9: DeprecationWarning:\n",
      "\n",
      "is_categorical_dtype is deprecated and will be removed in a future version. Use isinstance(dtype, pd.CategoricalDtype) instead\n",
      "\n",
      "/tmp/dcs-tmp.u2164966/ipykernel_46307/1019303191.py:9: DeprecationWarning:\n",
      "\n",
      "is_categorical_dtype is deprecated and will be removed in a future version. Use isinstance(dtype, pd.CategoricalDtype) instead\n",
      "\n",
      "/tmp/dcs-tmp.u2164966/ipykernel_46307/1019303191.py:9: DeprecationWarning:\n",
      "\n",
      "is_categorical_dtype is deprecated and will be removed in a future version. Use isinstance(dtype, pd.CategoricalDtype) instead\n",
      "\n"
     ]
    },
    {
     "data": {
      "text/plain": [
       "(         hour_created max_final_priority  inc_resourced  scrs_crime_inc  \\\n",
       " 0                   7             PROMPT          False           False   \n",
       " 1                  20             PROMPT           True           False   \n",
       " 2                   0           STANDARD          False            True   \n",
       " 3                  14             PROMPT           True           False   \n",
       " 4                  19             PROMPT           True           False   \n",
       " ...               ...                ...            ...             ...   \n",
       " 2843688            14             PROMPT           True            True   \n",
       " 2843689            14          IMMEDIATE           True            True   \n",
       " 2843690             1          IMMEDIATE           True            True   \n",
       " 2843691             0          IMMEDIATE           True           False   \n",
       " 2843692            14             PROMPT           True           False   \n",
       " \n",
       "           multi_member_ward     service_code_description  date_seq  \n",
       " 0                Dennistoun       ROAD TRAFFIC COLLISION       498  \n",
       " 1                    Lochee  ASSIST MEMBER OF THE PUBLIC       322  \n",
       " 2                Leith Walk                        THEFT       889  \n",
       " 3                    Almond      EXTERNAL AGENCY REQUEST       886  \n",
       " 4        Paisley North West      EXTERNAL AGENCY REQUEST        12  \n",
       " ...                     ...                          ...       ...  \n",
       " 2843688              Wishaw                VEHICLE CRIME       963  \n",
       " 2843689              Wishaw              VEHICLE PURSUIT         9  \n",
       " 2843690              Wishaw              VEHICLE PURSUIT       292  \n",
       " 2843691              Wishaw                      WEATHER       309  \n",
       " 2843692              Wishaw               WILDLIFE CRIME       978  \n",
       " \n",
       " [2843693 rows x 7 columns],\n",
       "          hour_created max_final_priority  inc_resourced  scrs_crime_inc  \\\n",
       " 0                  14          IMMEDIATE           True           False   \n",
       " 1                  14             PROMPT          False           False   \n",
       " 2                  15             PROMPT           True            True   \n",
       " 3                   2             PROMPT           True           False   \n",
       " 4                   2             PROMPT           True           False   \n",
       " ...               ...                ...            ...             ...   \n",
       " 2843688            13             PROMPT          False           False   \n",
       " 2843689            18             PROMPT           True           False   \n",
       " 2843690            13           STANDARD          False           False   \n",
       " 2843691             8             PROMPT          False           False   \n",
       " 2843692            23          IMMEDIATE           True            True   \n",
       " \n",
       "                              multi_member_ward  \\\n",
       " 0                             North Kincardine   \n",
       " 1             Lochgelly, Cardenden and Benarty   \n",
       " 2                 Kilmarnock East and Hurlford   \n",
       " 3                      Anderston/City/Yorkhill   \n",
       " 4                             Coatbridge North   \n",
       " ...                                        ...   \n",
       " 2843688           Stonehaven and Lower Deeside   \n",
       " 2843689  Buckhaven, Methil and Wemyss Villages   \n",
       " 2843690                                 Calton   \n",
       " 2843691                              Dumbarton   \n",
       " 2843692                     East Kilbride East   \n",
       " \n",
       "                service_code_description  date_seq  \n",
       " 0                           DISTURBANCE       648  \n",
       " 1           ASSIST MEMBER OF THE PUBLIC        67  \n",
       " 2        ABDUCTION/EXTORTION/SEXTORTION       867  \n",
       " 3                                 NOISE       370  \n",
       " 4                                 NOISE       660  \n",
       " ...                                 ...       ...  \n",
       " 2843688              CONCERN FOR PERSON        51  \n",
       " 2843689              ABANDONED VEHICLES       698  \n",
       " 2843690         EXTERNAL AGENCY REQUEST        30  \n",
       " 2843691     ASSIST MEMBER OF THE PUBLIC       269  \n",
       " 2843692                   HOUSEBREAKING       414  \n",
       " \n",
       " [2843693 rows x 7 columns])"
      ]
     },
     "execution_count": 69,
     "metadata": {},
     "output_type": "execute_result"
    }
   ],
   "source": [
    "# Code to change to aling the data types of synthetic and real data\n",
    "import pandas as pd\n",
    "\n",
    "def harmonise_categories(real_df, synth_df):\n",
    "    \"\"\"\n",
    "    Make every categorical / object column in `synth_df` have the same\n",
    "    CategoricalDtype (same level set, same ordering) as `real_df`.\n",
    "    \"\"\"\n",
    "    for col in real_df.columns:\n",
    "        if pd.api.types.is_object_dtype(real_df[col]) or pd.api.types.is_categorical_dtype(real_df[col]):\n",
    "            # collect *all* categories seen in either data set\n",
    "            all_levels = pd.concat([real_df[col], synth_df[col]]).dropna().unique()\n",
    "            cat_dtype  = pd.CategoricalDtype(categories=all_levels, ordered=False)\n",
    "\n",
    "            real_df[col]   = real_df[col].astype(cat_dtype)\n",
    "            synth_df[col]  = synth_df[col].astype(cat_dtype)\n",
    "\n",
    "    return real_df, synth_df\n",
    "\n",
    "harmonise_categories(df, synthetic_df)"
   ]
  },
  {
   "cell_type": "code",
   "execution_count": 75,
   "metadata": {},
   "outputs": [
    {
     "data": {
      "text/plain": [
       "hour_created                   int32\n",
       "max_final_priority          category\n",
       "inc_resourced                   bool\n",
       "scrs_crime_inc                  bool\n",
       "multi_member_ward           category\n",
       "service_code_description    category\n",
       "date_seq                       int64\n",
       "dtype: object"
      ]
     },
     "execution_count": 75,
     "metadata": {},
     "output_type": "execute_result"
    }
   ],
   "source": [
    "df.dtypes"
   ]
  },
  {
   "cell_type": "code",
   "execution_count": null,
   "metadata": {},
   "outputs": [],
   "source": []
  }
 ],
 "metadata": {
  "kernelspec": {
   "display_name": "Python 3 (ipykernel)",
   "language": "python",
   "name": "python3"
  },
  "language_info": {
   "codemirror_mode": {
    "name": "ipython",
    "version": 3
   },
   "file_extension": ".py",
   "mimetype": "text/x-python",
   "name": "python",
   "nbconvert_exporter": "python",
   "pygments_lexer": "ipython3",
   "version": "3.12.11"
  }
 },
 "nbformat": 4,
 "nbformat_minor": 4
}
