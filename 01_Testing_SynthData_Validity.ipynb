{
 "cells": [
  {
   "cell_type": "markdown",
   "id": "106cac1f",
   "metadata": {},
   "source": [
    "This Jupyter notebook presents the initial exploration of evaluation framework used to validate the quality and privacy of synthetically generated data."
   ]
  },
  {
   "cell_type": "markdown",
   "id": "026a3957-e37b-4f58-a33e-5fe33a1741da",
   "metadata": {},
   "source": [
    "## Testing Synthetic Data Validity"
   ]
  },
  {
   "cell_type": "markdown",
   "id": "333c0314-2570-4f58-8377-08a029fb822d",
   "metadata": {},
   "source": [
    "Three elements to evaluate\n",
    "    1) Utility\n",
    "    2) Fidelity\n",
    "    3) Privacy"
   ]
  },
  {
   "cell_type": "code",
   "execution_count": 15,
   "id": "d17c8841-080a-4d83-a1e0-b6775682132e",
   "metadata": {
    "collapsed": true,
    "jupyter": {
     "outputs_hidden": true
    },
    "scrolled": true
   },
   "outputs": [
    {
     "name": "stdout",
     "output_type": "stream",
     "text": [
      "Requirement already satisfied: sdv==1.23 in ./myenv/lib/python3.11/site-packages (1.23.0)\n",
      "Collecting numpy==1.26.0\n",
      "  Downloading numpy-1.26.0-cp311-cp311-manylinux_2_17_x86_64.manylinux2014_x86_64.whl (18.2 MB)\n",
      "\u001b[2K     \u001b[90m━━━━━━━━━━━━━━━━━━━━━━━━━━━━━━━━━━━━━━━━\u001b[0m \u001b[32m18.2/18.2 MB\u001b[0m \u001b[31m32.3 MB/s\u001b[0m eta \u001b[36m0:00:00\u001b[0m00:01\u001b[0m00:01\u001b[0m\n",
      "\u001b[?25hRequirement already satisfied: boto3<2.0.0,>=1.28 in ./myenv/lib/python3.11/site-packages (from sdv==1.23) (1.40.12)\n",
      "Requirement already satisfied: botocore<2.0.0,>=1.31 in ./myenv/lib/python3.11/site-packages (from sdv==1.23) (1.40.12)\n",
      "Requirement already satisfied: cloudpickle>=2.1.0 in ./myenv/lib/python3.11/site-packages (from sdv==1.23) (3.1.1)\n",
      "Requirement already satisfied: graphviz>=0.13.2 in ./myenv/lib/python3.11/site-packages (from sdv==1.23) (0.21)\n",
      "Requirement already satisfied: pandas>=1.5.0 in ./myenv/lib/python3.11/site-packages (from sdv==1.23) (2.3.1)\n",
      "Requirement already satisfied: tqdm>=4.29 in ./myenv/lib/python3.11/site-packages (from sdv==1.23) (4.67.1)\n",
      "Requirement already satisfied: copulas>=0.12.1 in ./myenv/lib/python3.11/site-packages (from sdv==1.23) (0.12.3)\n",
      "Requirement already satisfied: ctgan>=0.11.0 in ./myenv/lib/python3.11/site-packages (from sdv==1.23) (0.11.0)\n",
      "Requirement already satisfied: deepecho>=0.7.0 in ./myenv/lib/python3.11/site-packages (from sdv==1.23) (0.7.0)\n",
      "Requirement already satisfied: rdt>=1.17.0 in ./myenv/lib/python3.11/site-packages (from sdv==1.23) (1.18.0)\n",
      "Requirement already satisfied: sdmetrics>=0.21.0 in ./myenv/lib/python3.11/site-packages (from sdv==1.23) (0.23.0)\n",
      "Requirement already satisfied: platformdirs>=4.0 in ./myenv/lib/python3.11/site-packages (from sdv==1.23) (4.3.8)\n",
      "Requirement already satisfied: pyyaml>=6.0.1 in ./myenv/lib/python3.11/site-packages (from sdv==1.23) (6.0.2)\n",
      "Requirement already satisfied: jmespath<2.0.0,>=0.7.1 in ./myenv/lib/python3.11/site-packages (from boto3<2.0.0,>=1.28->sdv==1.23) (1.0.1)\n",
      "Requirement already satisfied: s3transfer<0.14.0,>=0.13.0 in ./myenv/lib/python3.11/site-packages (from boto3<2.0.0,>=1.28->sdv==1.23) (0.13.1)\n",
      "Requirement already satisfied: python-dateutil<3.0.0,>=2.1 in ./myenv/lib/python3.11/site-packages (from botocore<2.0.0,>=1.31->sdv==1.23) (2.9.0.post0)\n",
      "Requirement already satisfied: urllib3!=2.2.0,<3,>=1.25.4 in ./myenv/lib/python3.11/site-packages (from botocore<2.0.0,>=1.31->sdv==1.23) (2.5.0)\n",
      "Requirement already satisfied: plotly>=5.10.0 in ./myenv/lib/python3.11/site-packages (from copulas>=0.12.1->sdv==1.23) (6.3.0)\n",
      "Requirement already satisfied: scipy>=1.9.2 in ./myenv/lib/python3.11/site-packages (from copulas>=0.12.1->sdv==1.23) (1.16.1)\n",
      "Requirement already satisfied: torch>=2.0.0 in ./myenv/lib/python3.11/site-packages (from ctgan>=0.11.0->sdv==1.23) (2.8.0)\n",
      "Requirement already satisfied: pytz>=2020.1 in ./myenv/lib/python3.11/site-packages (from pandas>=1.5.0->sdv==1.23) (2025.2)\n",
      "Requirement already satisfied: tzdata>=2022.7 in ./myenv/lib/python3.11/site-packages (from pandas>=1.5.0->sdv==1.23) (2025.2)\n",
      "Requirement already satisfied: scikit-learn>=1.1.3 in ./myenv/lib/python3.11/site-packages (from rdt>=1.17.0->sdv==1.23) (1.7.1)\n",
      "Requirement already satisfied: Faker>=17 in ./myenv/lib/python3.11/site-packages (from rdt>=1.17.0->sdv==1.23) (37.5.3)\n",
      "Requirement already satisfied: narwhals>=1.15.1 in ./myenv/lib/python3.11/site-packages (from plotly>=5.10.0->copulas>=0.12.1->sdv==1.23) (2.1.2)\n",
      "Requirement already satisfied: packaging in ./myenv/lib/python3.11/site-packages (from plotly>=5.10.0->copulas>=0.12.1->sdv==1.23) (25.0)\n",
      "Requirement already satisfied: six>=1.5 in ./myenv/lib/python3.11/site-packages (from python-dateutil<3.0.0,>=2.1->botocore<2.0.0,>=1.31->sdv==1.23) (1.17.0)\n",
      "Requirement already satisfied: joblib>=1.2.0 in ./myenv/lib/python3.11/site-packages (from scikit-learn>=1.1.3->rdt>=1.17.0->sdv==1.23) (1.5.1)\n",
      "Requirement already satisfied: threadpoolctl>=3.1.0 in ./myenv/lib/python3.11/site-packages (from scikit-learn>=1.1.3->rdt>=1.17.0->sdv==1.23) (3.6.0)\n",
      "Requirement already satisfied: filelock in ./myenv/lib/python3.11/site-packages (from torch>=2.0.0->ctgan>=0.11.0->sdv==1.23) (3.19.1)\n",
      "Requirement already satisfied: typing-extensions>=4.10.0 in ./myenv/lib/python3.11/site-packages (from torch>=2.0.0->ctgan>=0.11.0->sdv==1.23) (4.14.1)\n",
      "Requirement already satisfied: sympy>=1.13.3 in ./myenv/lib/python3.11/site-packages (from torch>=2.0.0->ctgan>=0.11.0->sdv==1.23) (1.14.0)\n",
      "Requirement already satisfied: networkx in ./myenv/lib/python3.11/site-packages (from torch>=2.0.0->ctgan>=0.11.0->sdv==1.23) (3.5)\n",
      "Requirement already satisfied: jinja2 in ./myenv/lib/python3.11/site-packages (from torch>=2.0.0->ctgan>=0.11.0->sdv==1.23) (3.1.6)\n",
      "Requirement already satisfied: fsspec in ./myenv/lib/python3.11/site-packages (from torch>=2.0.0->ctgan>=0.11.0->sdv==1.23) (2025.7.0)\n",
      "Requirement already satisfied: nvidia-cuda-nvrtc-cu12==12.8.93 in ./myenv/lib/python3.11/site-packages (from torch>=2.0.0->ctgan>=0.11.0->sdv==1.23) (12.8.93)\n",
      "Requirement already satisfied: nvidia-cuda-runtime-cu12==12.8.90 in ./myenv/lib/python3.11/site-packages (from torch>=2.0.0->ctgan>=0.11.0->sdv==1.23) (12.8.90)\n",
      "Requirement already satisfied: nvidia-cuda-cupti-cu12==12.8.90 in ./myenv/lib/python3.11/site-packages (from torch>=2.0.0->ctgan>=0.11.0->sdv==1.23) (12.8.90)\n",
      "Requirement already satisfied: nvidia-cudnn-cu12==9.10.2.21 in ./myenv/lib/python3.11/site-packages (from torch>=2.0.0->ctgan>=0.11.0->sdv==1.23) (9.10.2.21)\n",
      "Requirement already satisfied: nvidia-cublas-cu12==12.8.4.1 in ./myenv/lib/python3.11/site-packages (from torch>=2.0.0->ctgan>=0.11.0->sdv==1.23) (12.8.4.1)\n",
      "Requirement already satisfied: nvidia-cufft-cu12==11.3.3.83 in ./myenv/lib/python3.11/site-packages (from torch>=2.0.0->ctgan>=0.11.0->sdv==1.23) (11.3.3.83)\n",
      "Requirement already satisfied: nvidia-curand-cu12==10.3.9.90 in ./myenv/lib/python3.11/site-packages (from torch>=2.0.0->ctgan>=0.11.0->sdv==1.23) (10.3.9.90)\n",
      "Requirement already satisfied: nvidia-cusolver-cu12==11.7.3.90 in ./myenv/lib/python3.11/site-packages (from torch>=2.0.0->ctgan>=0.11.0->sdv==1.23) (11.7.3.90)\n",
      "Requirement already satisfied: nvidia-cusparse-cu12==12.5.8.93 in ./myenv/lib/python3.11/site-packages (from torch>=2.0.0->ctgan>=0.11.0->sdv==1.23) (12.5.8.93)\n",
      "Requirement already satisfied: nvidia-cusparselt-cu12==0.7.1 in ./myenv/lib/python3.11/site-packages (from torch>=2.0.0->ctgan>=0.11.0->sdv==1.23) (0.7.1)\n",
      "Requirement already satisfied: nvidia-nccl-cu12==2.27.3 in ./myenv/lib/python3.11/site-packages (from torch>=2.0.0->ctgan>=0.11.0->sdv==1.23) (2.27.3)\n",
      "Requirement already satisfied: nvidia-nvtx-cu12==12.8.90 in ./myenv/lib/python3.11/site-packages (from torch>=2.0.0->ctgan>=0.11.0->sdv==1.23) (12.8.90)\n",
      "Requirement already satisfied: nvidia-nvjitlink-cu12==12.8.93 in ./myenv/lib/python3.11/site-packages (from torch>=2.0.0->ctgan>=0.11.0->sdv==1.23) (12.8.93)\n",
      "Requirement already satisfied: nvidia-cufile-cu12==1.13.1.3 in ./myenv/lib/python3.11/site-packages (from torch>=2.0.0->ctgan>=0.11.0->sdv==1.23) (1.13.1.3)\n",
      "Requirement already satisfied: triton==3.4.0 in ./myenv/lib/python3.11/site-packages (from torch>=2.0.0->ctgan>=0.11.0->sdv==1.23) (3.4.0)\n",
      "Requirement already satisfied: setuptools>=40.8.0 in ./myenv/lib/python3.11/site-packages (from triton==3.4.0->torch>=2.0.0->ctgan>=0.11.0->sdv==1.23) (65.5.0)\n",
      "Requirement already satisfied: mpmath<1.4,>=1.1.0 in ./myenv/lib/python3.11/site-packages (from sympy>=1.13.3->torch>=2.0.0->ctgan>=0.11.0->sdv==1.23) (1.3.0)\n",
      "Requirement already satisfied: MarkupSafe>=2.0 in ./myenv/lib/python3.11/site-packages (from jinja2->torch>=2.0.0->ctgan>=0.11.0->sdv==1.23) (3.0.2)\n",
      "Installing collected packages: numpy\n",
      "  Attempting uninstall: numpy\n",
      "    Found existing installation: numpy 2.3.2\n",
      "    Uninstalling numpy-2.3.2:\n",
      "      Successfully uninstalled numpy-2.3.2\n",
      "Successfully installed numpy-1.26.0\n"
     ]
    }
   ],
   "source": [
    "## if you want to run the initial ctgan model\n",
    "!pip install --no-user \"sdv==1.23\" \"numpy==1.26.0\""
   ]
  },
  {
   "cell_type": "code",
   "execution_count": 1,
   "id": "8d3a3ab2-017b-4f65-ac83-08f10831505f",
   "metadata": {},
   "outputs": [
    {
     "name": "stderr",
     "output_type": "stream",
     "text": [
      "/dcs/large/u2164966/MSc_Dissertation/myenv/lib64/python3.12/site-packages/sdv/_utils.py:500: FutureWarning:\n",
      "\n",
      "The 'load' function will be deprecated in future versions of SDV. Please use 'utils.load_synthesizer' instead.\n",
      "\n"
     ]
    }
   ],
   "source": [
    "# loading ctgan\n",
    "from sdv.single_table import CTGANSynthesizer\n",
    "\n",
    "# Loading the model from the pickle file\n",
    "ctgan = CTGANSynthesizer.load(\n",
    "    filepath='models/ctgan.pkl'\n",
    ")"
   ]
  },
  {
   "cell_type": "code",
   "execution_count": 2,
   "id": "7f34b136-2d79-4bcf-ab57-f3f057d57c2d",
   "metadata": {},
   "outputs": [],
   "source": [
    "# importing metadata\n",
    "import pandas as pd\n",
    "from sdv.metadata import Metadata\n",
    "\n",
    "# Load from a saved JSON file\n",
    "metadata = Metadata.load_from_json('my_final_metadata_v2.json')\n",
    "metadata_dict = metadata.to_dict() if hasattr(metadata, \"to_dict\") else metadata"
   ]
  },
  {
   "cell_type": "code",
   "execution_count": 3,
   "id": "1e4bf1fd-326c-44c0-ba70-f3c037eddda0",
   "metadata": {},
   "outputs": [],
   "source": [
    "# loading data\n",
    "import pandas as pd\n",
    "df_filtered = pd.read_pickle(\"filtered_data/df_v2_filtered.pkl\")"
   ]
  },
  {
   "cell_type": "code",
   "execution_count": 4,
   "id": "5ee34cfc-395c-4c3d-ba84-9254ba025e20",
   "metadata": {},
   "outputs": [
    {
     "data": {
      "text/plain": [
       "1340347"
      ]
     },
     "execution_count": 4,
     "metadata": {},
     "output_type": "execute_result"
    }
   ],
   "source": [
    "len(df_filtered)"
   ]
  },
  {
   "cell_type": "code",
   "execution_count": 5,
   "id": "d01e72e2-c53f-452e-bde2-d0728cea9ba7",
   "metadata": {},
   "outputs": [
    {
     "name": "stderr",
     "output_type": "stream",
     "text": [
      "Sampling rows: : 1341000it [01:48, 12392.04it/s]                           \n"
     ]
    }
   ],
   "source": [
    "# Generating synthetic data\n",
    "synthetic_data = ctgan.sample(\n",
    "    num_rows= 1340347\n",
    ", # generating the same number of data points as the real dataset\n",
    "    batch_size=1_000\n",
    ")"
   ]
  },
  {
   "cell_type": "code",
   "execution_count": 8,
   "id": "f894dfb8-7877-4757-a261-5d1a2a98365c",
   "metadata": {},
   "outputs": [],
   "source": [
    "# Loading real data\n",
    "import sys\n",
    "import numpy.core.numeric as core_numeric\n",
    "import types\n",
    "\n",
    "# Create a dummy module named \"numpy._core.numeric\"\n",
    "shim = types.ModuleType(\"numpy._core.numeric\")\n",
    "shim.__dict__.update(core_numeric.__dict__)\n",
    "sys.modules[\"numpy._core.numeric\"] = shim\n",
    "\n",
    "import pickle\n",
    "with open('processed_data_v1.pkl', 'rb') as f:\n",
    "    df = pickle.load(f)"
   ]
  },
  {
   "cell_type": "code",
   "execution_count": 3,
   "id": "15f2aa9d-4ba1-4e86-8df8-18b9ec573b42",
   "metadata": {},
   "outputs": [],
   "source": [
    "# Removing unnecessary columns\n",
    "df = df.drop(['incident_count','datazone', 'dzone_code'], axis=1)"
   ]
  },
  {
   "cell_type": "code",
   "execution_count": 4,
   "id": "6b79e09f-c57a-4ca9-8839-025203b5774c",
   "metadata": {},
   "outputs": [],
   "source": [
    "# covert bool vars to cat\n",
    "bool_vars = ['scrs_crime_inc', 'inc_resourced']\n",
    "df[bool_vars] = df[bool_vars].astype('category')"
   ]
  },
  {
   "cell_type": "code",
   "execution_count": 5,
   "id": "fc6537ba-2ca6-4cb9-bd92-f1267d824ebe",
   "metadata": {},
   "outputs": [
    {
     "name": "stdout",
     "output_type": "stream",
     "text": [
      "earliest actual date: 2022-04-01 00:00:00, mapped date at seq 1: 2022-04-01 00:00:00\n",
      " latest actual date: 2025-03-31 00:00:00, mapped date at seq 1096: 2025-03-31 00:00:00\n"
     ]
    }
   ],
   "source": [
    "# converting date variable to a number in [startdate, enddate]\n",
    "import pandas as pd\n",
    "\n",
    "# make sure date_created is datetime\n",
    "df['date_created'] = pd.to_datetime(df['date_created'])\n",
    "\n",
    "# compute day offset from min date, then +1\n",
    "min_date = df['date_created'].min()  # 2022-04-01 00:00:00\n",
    "df['date_seq'] = (df['date_created'] - min_date).dt.days + 1\n",
    "\n",
    "# compute min/max of each\n",
    "min_date = df['date_created'].min()\n",
    "max_date = df['date_created'].max()\n",
    "min_seq  = df['date_seq'].min()\n",
    "max_seq  = df['date_seq'].max()\n",
    "\n",
    "# grab the corresponding dates from the mapped column\n",
    "mapped_min_date = df.loc[df['date_seq'] == min_seq, 'date_created'].iloc[0]\n",
    "mapped_max_date = df.loc[df['date_seq'] == max_seq, 'date_created'].iloc[0]\n",
    "\n",
    "# sanity‐check\n",
    "print(f\"earliest actual date: {min_date}, mapped date at seq {min_seq}: {mapped_min_date}\")\n",
    "print(f\" latest actual date: {max_date}, mapped date at seq {max_seq}: {mapped_max_date}\")"
   ]
  },
  {
   "cell_type": "code",
   "execution_count": 6,
   "id": "0dc2a3d3-5d09-45b4-94dd-902dd2a78301",
   "metadata": {},
   "outputs": [
    {
     "data": {
      "text/html": [
       "<div>\n",
       "<style scoped>\n",
       "    .dataframe tbody tr th:only-of-type {\n",
       "        vertical-align: middle;\n",
       "    }\n",
       "\n",
       "    .dataframe tbody tr th {\n",
       "        vertical-align: top;\n",
       "    }\n",
       "\n",
       "    .dataframe thead th {\n",
       "        text-align: right;\n",
       "    }\n",
       "</style>\n",
       "<table border=\"1\" class=\"dataframe\">\n",
       "  <thead>\n",
       "    <tr style=\"text-align: right;\">\n",
       "      <th></th>\n",
       "      <th>hour_created</th>\n",
       "      <th>max_final_priority</th>\n",
       "      <th>inc_resourced</th>\n",
       "      <th>scrs_crime_inc</th>\n",
       "      <th>multi_member_ward</th>\n",
       "      <th>service_code_description</th>\n",
       "      <th>date_seq</th>\n",
       "    </tr>\n",
       "  </thead>\n",
       "  <tbody>\n",
       "    <tr>\n",
       "      <th>0</th>\n",
       "      <td>7</td>\n",
       "      <td>PROMPT</td>\n",
       "      <td>False</td>\n",
       "      <td>False</td>\n",
       "      <td>Dennistoun</td>\n",
       "      <td>ROAD TRAFFIC COLLISION</td>\n",
       "      <td>498</td>\n",
       "    </tr>\n",
       "    <tr>\n",
       "      <th>1</th>\n",
       "      <td>20</td>\n",
       "      <td>PROMPT</td>\n",
       "      <td>True</td>\n",
       "      <td>False</td>\n",
       "      <td>Lochee</td>\n",
       "      <td>ASSIST MEMBER OF THE PUBLIC</td>\n",
       "      <td>322</td>\n",
       "    </tr>\n",
       "    <tr>\n",
       "      <th>2</th>\n",
       "      <td>0</td>\n",
       "      <td>STANDARD</td>\n",
       "      <td>False</td>\n",
       "      <td>True</td>\n",
       "      <td>Leith Walk</td>\n",
       "      <td>THEFT</td>\n",
       "      <td>889</td>\n",
       "    </tr>\n",
       "    <tr>\n",
       "      <th>3</th>\n",
       "      <td>14</td>\n",
       "      <td>PROMPT</td>\n",
       "      <td>True</td>\n",
       "      <td>False</td>\n",
       "      <td>Almond</td>\n",
       "      <td>EXTERNAL AGENCY REQUEST</td>\n",
       "      <td>886</td>\n",
       "    </tr>\n",
       "    <tr>\n",
       "      <th>4</th>\n",
       "      <td>19</td>\n",
       "      <td>PROMPT</td>\n",
       "      <td>True</td>\n",
       "      <td>False</td>\n",
       "      <td>Paisley North West</td>\n",
       "      <td>EXTERNAL AGENCY REQUEST</td>\n",
       "      <td>12</td>\n",
       "    </tr>\n",
       "  </tbody>\n",
       "</table>\n",
       "</div>"
      ],
      "text/plain": [
       "   hour_created max_final_priority inc_resourced scrs_crime_inc  \\\n",
       "0             7             PROMPT         False          False   \n",
       "1            20             PROMPT          True          False   \n",
       "2             0           STANDARD         False           True   \n",
       "3            14             PROMPT          True          False   \n",
       "4            19             PROMPT          True          False   \n",
       "\n",
       "    multi_member_ward     service_code_description  date_seq  \n",
       "0          Dennistoun       ROAD TRAFFIC COLLISION       498  \n",
       "1              Lochee  ASSIST MEMBER OF THE PUBLIC       322  \n",
       "2          Leith Walk                        THEFT       889  \n",
       "3              Almond      EXTERNAL AGENCY REQUEST       886  \n",
       "4  Paisley North West      EXTERNAL AGENCY REQUEST        12  "
      ]
     },
     "execution_count": 6,
     "metadata": {},
     "output_type": "execute_result"
    }
   ],
   "source": [
    "df = df.drop('date_created', axis=1)\n",
    "df.head()"
   ]
  },
  {
   "cell_type": "code",
   "execution_count": 7,
   "id": "47f4d639-2f8d-4879-847f-8d95fe108bd9",
   "metadata": {},
   "outputs": [],
   "source": [
    "# The aim is to filter data to get only incidents that are classified as THEFT\n",
    "df_cleaned = df.copy()\n",
    "dft = df_cleaned[df_cleaned['service_code_description'] == 'THEFT']"
   ]
  },
  {
   "cell_type": "code",
   "execution_count": 8,
   "id": "8fb46277-b517-49da-a760-642926f7796f",
   "metadata": {},
   "outputs": [
    {
     "name": "stderr",
     "output_type": "stream",
     "text": [
      "Sampling rows: : 183000it [00:05, 33068.46it/s]                          \n"
     ]
    }
   ],
   "source": [
    "# Loading synthetic data\n",
    "from sdv.single_table import CTGANSynthesizer\n",
    "\n",
    "# Loading the model from the pickle file\n",
    "ctgan = CTGANSynthesizer.load(\n",
    "    filepath='ctgan_theft.pkl'\n",
    ")\n",
    "\n",
    "# Generating synthetic data\n",
    "synthetic_data = ctgan.sample(\n",
    "    num_rows= 182229, # generating the same number of data points as the real dataset\n",
    "    batch_size=1_000\n",
    ")"
   ]
  },
  {
   "cell_type": "code",
   "execution_count": 9,
   "id": "281db4f4-d5bb-4907-9c5b-f9b04986a252",
   "metadata": {},
   "outputs": [],
   "source": [
    "# If you want to convert all object columns to category\n",
    "for col in dft.select_dtypes(include='object').columns:\n",
    "    dft[col] = dft[col].astype('category')"
   ]
  },
  {
   "cell_type": "code",
   "execution_count": 10,
   "id": "93066a1f-836a-4b3d-8748-f97881c5fe44",
   "metadata": {},
   "outputs": [],
   "source": [
    "# Loading metadata\n",
    "import json\n",
    "\n",
    "with open('my_final_metadata.json', 'r') as f:\n",
    "    metadata = json.load(f)"
   ]
  },
  {
   "cell_type": "markdown",
   "id": "56ab7a49-ce8a-4622-b8cf-e2bc32a161bb",
   "metadata": {
    "jp-MarkdownHeadingCollapsed": true
   },
   "source": [
    "## Diagnostic Metrics"
   ]
  },
  {
   "cell_type": "markdown",
   "id": "d1ad7608-88ad-489b-8ded-86d65d6e7a00",
   "metadata": {},
   "source": [
    "These metrics are not really informative. Data Structure measures whether the synthetic data captures the same table structure as the real data. We expect the synthetic data to have the same column names as the real data, and for those columns to have the same data storage type (ints, strings, etc.)."
   ]
  },
  {
   "cell_type": "code",
   "execution_count": 32,
   "id": "778a8232-c4c4-4c2a-8716-c2ddebb54423",
   "metadata": {},
   "outputs": [
    {
     "name": "stdout",
     "output_type": "stream",
     "text": [
      "Generating report ...\n",
      "\n",
      "(1/2) Evaluating Data Validity: |██████████| 7/7 [00:00<00:00, 72.99it/s]|\n",
      "Data Validity Score: 100.0%\n",
      "\n",
      "(2/2) Evaluating Data Structure: |██████████| 1/1 [00:00<00:00, 832.04it/s]|\n",
      "Data Structure Score: 16.67%\n",
      "\n",
      "Overall Score (Average): 58.33%\n",
      "\n",
      "Overall diagnostic score: 0.5833333333333334\n",
      "Property scores:          Property     Score\n",
      "0   Data Validity  1.000000\n",
      "1  Data Structure  0.166667\n",
      "Data Validity Details:\n",
      "                      Column             Metric  Score\n",
      "0              hour_created  BoundaryAdherence    1.0\n",
      "1        max_final_priority  CategoryAdherence    1.0\n",
      "2             inc_resourced  CategoryAdherence    1.0\n",
      "3            scrs_crime_inc  CategoryAdherence    1.0\n",
      "4         multi_member_ward  CategoryAdherence    1.0\n",
      "5  service_code_description  CategoryAdherence    1.0\n",
      "6                  date_seq  BoundaryAdherence    1.0\n",
      "Data Structure Details:\n",
      "            Metric     Score\n",
      "0  TableStructure  0.166667\n"
     ]
    }
   ],
   "source": [
    "from sdmetrics.reports.single_table import DiagnosticReport\n",
    "import warnings\n",
    "warnings.filterwarnings(\"ignore\", category=FutureWarning)\n",
    "\n",
    "# Generate the diagnostic report\n",
    "report = DiagnosticReport()\n",
    "report.generate(dft, synthetic_data, metadata['tables']['incidents'])\n",
    "\n",
    "# Get the overall diagnostic score (between 0 and 1)\n",
    "overall_score = report.get_score()\n",
    "print(f\"Overall diagnostic score: {overall_score}\")\n",
    "\n",
    "# Get the individual property scores\n",
    "properties = report.get_properties()\n",
    "print(\"Property scores:\", properties)\n",
    "\n",
    "# Get detailed scores for 'Data Validity'\n",
    "details_validity = report.get_details(property_name='Data Validity')\n",
    "print(\"Data Validity Details:\\n\", details_validity)\n",
    "\n",
    "# Get detailed scores for 'Data Structure'\n",
    "details_structure = report.get_details(property_name='Data Structure')\n",
    "print(\"Data Structure Details:\\n\", details_structure)"
   ]
  },
  {
   "cell_type": "markdown",
   "id": "c676694a-cd97-406e-b4d9-30f68b966e23",
   "metadata": {},
   "source": [
    "## Fidelity"
   ]
  },
  {
   "cell_type": "markdown",
   "id": "24a82a3e-1988-4893-8c64-1bd96d56e9ec",
   "metadata": {},
   "source": [
    "### Hellingers Distance"
   ]
  },
  {
   "cell_type": "code",
   "execution_count": 5,
   "id": "dc297622-95b5-4b36-85d4-c8bbbba4468c",
   "metadata": {},
   "outputs": [],
   "source": [
    "dft_copy = df_filtered.copy()\n",
    "synthetic_data_copy = synthetic_data.copy()"
   ]
  },
  {
   "cell_type": "code",
   "execution_count": 6,
   "id": "49c3ce30-19b0-406a-bf92-2d3e8e15c773",
   "metadata": {},
   "outputs": [],
   "source": [
    "# Changing datatype from object -> category\n",
    "object_cols = synthetic_data_copy.select_dtypes(include='object').columns\n",
    "synthetic_data_copy[object_cols] = synthetic_data_copy[object_cols].astype('category')"
   ]
  },
  {
   "cell_type": "code",
   "execution_count": 7,
   "id": "d2c34ff7-adaa-4c4e-b090-8454b69b94df",
   "metadata": {},
   "outputs": [],
   "source": [
    "## Hellingers Distance\n",
    "import numpy as np\n",
    "from collections import Counter\n",
    "\n",
    "def hellinger_categorical(a, b):\n",
    "    counter_a = Counter(a)\n",
    "    counter_b = Counter(b)\n",
    "    all_keys = set(counter_a) | set(counter_b)\n",
    "    total_a, total_b = len(a), len(b)\n",
    "    p = np.array([counter_a.get(k, 0)/total_a for k in all_keys])\n",
    "    q = np.array([counter_b.get(k, 0)/total_b for k in all_keys])\n",
    "    return np.linalg.norm(np.sqrt(p) - np.sqrt(q)) / np.sqrt(2)\n",
    "\n",
    "def hellinger_numerical(a, b, bins=10):\n",
    "    counts_a, edges = np.histogram(a, bins=bins, density=True)\n",
    "    counts_b, _ = np.histogram(b, bins=edges, density=True)\n",
    "    p = counts_a / counts_a.sum()\n",
    "    q = counts_b / counts_b.sum()\n",
    "    return np.linalg.norm(np.sqrt(p) - np.sqrt(q)) / np.sqrt(2)"
   ]
  },
  {
   "cell_type": "code",
   "execution_count": 8,
   "id": "80600e74-610a-4c72-a765-f20abbbed63f",
   "metadata": {},
   "outputs": [],
   "source": [
    "import numpy as np\n",
    "import pandas as pd\n",
    "import warnings\n",
    "\n",
    "warnings.filterwarnings('ignore')\n",
    "\n",
    "def hellinger(p, q):\n",
    "    # Normalize to probability distributions\n",
    "    p = np.asarray(p, dtype=np.float64)\n",
    "    q = np.asarray(q, dtype=np.float64)\n",
    "    p = p / p.sum()\n",
    "    q = q / q.sum()\n",
    "    return np.linalg.norm(np.sqrt(p) - np.sqrt(q)) / np.sqrt(2)\n",
    "\n",
    "def compare_columns(real: pd.DataFrame, synth: pd.DataFrame, bins=10):\n",
    "    distances = {}\n",
    "    for col in real.columns:\n",
    "        if real[col].dtype == 'object' or pd.api.types.is_categorical_dtype(real[col]):\n",
    "            # Categorical column\n",
    "            categories = list(set(real[col].unique()) | set(synth[col].unique()))\n",
    "            real_counts = real[col].value_counts(normalize=True).reindex(categories, fill_value=0)\n",
    "            synth_counts = synth[col].value_counts(normalize=True).reindex(categories, fill_value=0)\n",
    "            dist = hellinger(real_counts.values, synth_counts.values)\n",
    "        else:\n",
    "            # Numerical column\n",
    "            col_min = min(real[col].min(), synth[col].min())\n",
    "            col_max = max(real[col].max(), synth[col].max())\n",
    "            bin_edges = np.linspace(col_min, col_max, bins + 1)\n",
    "            real_hist, _ = np.histogram(real[col], bins=bin_edges)\n",
    "            synth_hist, _ = np.histogram(synth[col], bins=bin_edges)\n",
    "            dist = hellinger(real_hist, synth_hist)\n",
    "        distances[col] = dist\n",
    "    return distances\n",
    "    \n",
    "results = compare_columns(dft_copy, synthetic_data_copy, bins=10)"
   ]
  },
  {
   "cell_type": "code",
   "execution_count": 9,
   "id": "41c1579b-6617-4d77-9bee-4a569c7f7d53",
   "metadata": {},
   "outputs": [
    {
     "name": "stdout",
     "output_type": "stream",
     "text": [
      "hour_created:0.04357984868682331\n",
      "max_final_priority:0.05788409107954662\n",
      "inc_resourced:0.07091197094267492\n",
      "scrs_crime_inc:0.05928051968458384\n",
      "service_code_description:0.14541702808547163\n",
      "multi_member_ward:0.122585802791187\n",
      "date_seq:0.02572477787386984\n"
     ]
    }
   ],
   "source": [
    "for key,val in results.items():\n",
    "    print(f\"{key}:{val}\")"
   ]
  },
  {
   "cell_type": "code",
   "execution_count": 24,
   "id": "3dd5e35f-eff1-40fd-80e2-92fc71626f3e",
   "metadata": {},
   "outputs": [
    {
     "data": {
      "text/plain": [
       "349987"
      ]
     },
     "execution_count": 24,
     "metadata": {},
     "output_type": "execute_result"
    }
   ],
   "source": [
    "## Why multivariate hellingers distance is not feasible to caluclate\n",
    "cols = dft_copy.columns\n",
    "real_tuples = list(map(tuple, dft_copy[cols].astype(str).values))\n",
    "synth_tuples = list(map(tuple, synthetic_data_copy[cols].astype(str).values))\n",
    "# All possible bins encountered in either dataset\n",
    "all_bins = list(set(real_tuples) | set(synth_tuples))\n",
    "\n",
    "# number of column combination for evaluating the multivariate distribution\n",
    "len(all_bins)"
   ]
  },
  {
   "cell_type": "markdown",
   "id": "a6737094-2475-4bca-857c-dae80b8e5b5e",
   "metadata": {
    "jp-MarkdownHeadingCollapsed": true
   },
   "source": [
    "### TSTR"
   ]
  },
  {
   "cell_type": "code",
   "execution_count": 3,
   "id": "abdaef5b-33c5-4442-be3a-1dc40490e9d3",
   "metadata": {},
   "outputs": [],
   "source": [
    "# loading data\n",
    "import pandas as pd\n",
    "\n",
    "df_filtered = pd.read_pickle(\"filtered_data/df_v2_filtered.pkl\")"
   ]
  },
  {
   "cell_type": "code",
   "execution_count": 4,
   "id": "242c2c8b-5829-454b-a574-72f4d980168b",
   "metadata": {},
   "outputs": [],
   "source": [
    "from sklearn.model_selection import train_test_split\n",
    "\n",
    "# Split into 80% train and 20% test\n",
    "train_df, test_df = train_test_split(df_filtered, test_size=0.2, random_state=42)\n",
    "\n",
    "# Reset indices\n",
    "train_df = train_df.reset_index(drop=True)\n",
    "test_df = test_df.reset_index(drop=True)"
   ]
  },
  {
   "cell_type": "code",
   "execution_count": 5,
   "id": "b5fbe35a-5f72-49d4-b477-aee0cc4d5348",
   "metadata": {},
   "outputs": [
    {
     "name": "stdout",
     "output_type": "stream",
     "text": [
      "Train set size: 1072277 (80.0%)\n",
      "Test set size: 268070 (20.0%)\n"
     ]
    }
   ],
   "source": [
    "total = len(df_filtered)\n",
    "print(\"Train set size:\", len(train_df), f\"({len(train_df)/total:.1%})\")\n",
    "print(\"Test set size:\", len(test_df), f\"({len(test_df)/total:.1%})\")"
   ]
  },
  {
   "cell_type": "code",
   "execution_count": 6,
   "id": "f075cf89-af32-4f3a-bcc4-e2078a97a209",
   "metadata": {},
   "outputs": [],
   "source": [
    "from sdv.metadata import Metadata\n",
    "\n",
    "# 1. auto-detect metadata based in your data\n",
    "metadata = Metadata.detect_from_dataframes({\"incidents\":train_df})\n",
    "\n",
    "# 2. carefully inspect and update your metadata\n",
    "metadata.visualize()\n",
    "\n",
    "metadata.validate()\n",
    "\n",
    "# 3. when you're done, save it to a file for future use\n",
    "# metadata.save_to_json('my_final_metadata_tstr.json')"
   ]
  },
  {
   "cell_type": "code",
   "execution_count": null,
   "id": "3cbf5d3d-aacc-477f-a742-a781c4a8560a",
   "metadata": {},
   "outputs": [
    {
     "name": "stderr",
     "output_type": "stream",
     "text": [
      "/dcs/large/u2164966/MSc_Dissertation/myenv/lib64/python3.12/site-packages/sdv/single_table/base.py:128: UserWarning:\n",
      "\n",
      "We strongly recommend saving the metadata using 'save_to_json' for replicability in future SDV versions.\n",
      "\n",
      "/dcs/large/u2164966/MSc_Dissertation/myenv/lib64/python3.12/site-packages/sdv/single_table/ctgan.py:252: FutureWarning:\n",
      "\n",
      "Downcasting object dtype arrays on .fillna, .ffill, .bfill is deprecated and will change in a future version. Call result.infer_objects(copy=False) instead. To opt-in to the future behavior, set `pd.set_option('future.no_silent_downcasting', True)`\n",
      "\n"
     ]
    }
   ],
   "source": [
    "from sdv.single_table import CTGANSynthesizer\n",
    "ctgan = CTGANSynthesizer(\n",
    "    metadata,\n",
    "    epochs=800,\n",
    "    batch_size=1024,\n",
    "    pac=8,\n",
    "    embedding_dim=128,\n",
    "    generator_dim=(256, 256),\n",
    "    discriminator_dim=(256, 256),\n",
    "    generator_lr=2e-4,\n",
    "    discriminator_lr=2e-4,\n",
    "    cuda=True,\n",
    "    verbose=True\n",
    ")\n",
    "ctgan.fit(train_df)   "
   ]
  },
  {
   "cell_type": "code",
   "execution_count": null,
   "id": "50ddb561-c5d2-4088-99b0-3dda2dd2cb7e",
   "metadata": {},
   "outputs": [],
   "source": [
    "syn_df = ctgan.sample(len(train_df))"
   ]
  },
  {
   "cell_type": "code",
   "execution_count": null,
   "id": "90c2bf81-4e26-4d90-a226-5934c58ad55c",
   "metadata": {},
   "outputs": [],
   "source": [
    "# Saving the model to a pickle file\n",
    "ctgan.save(\n",
    "    filepath='models/ctgan_theft_v8_800epochs_tsrt.pkl'\n",
    ")"
   ]
  },
  {
   "cell_type": "code",
   "execution_count": null,
   "id": "82479b1c-3233-4e98-b638-6b5b8e700f49",
   "metadata": {},
   "outputs": [],
   "source": [
    "target_col = 'inc_resourced'                       # ❸ rename to your real target\n",
    "categorical_cols = [\n",
    "    col for col in syn_df.columns\n",
    "    if (syn_df[col].dtype == 'object' or syn_df[col].dtype.name == 'category')\n",
    "       and col != target_col\n",
    "]\n",
    "\n",
    "# Ensure every categorical column is pandas \"category\" dtype in **both** sets\n",
    "for col in categorical_cols:\n",
    "    combined = pd.concat([syn_df[col], test_df[col]], axis=0)\n",
    "    unified  = pd.Categorical(combined)\n",
    "    syn_df[col]  = unified[:len(syn_df)].astype('category')\n",
    "    test_df[col] = unified[len(syn_df):].astype('category')"
   ]
  },
  {
   "cell_type": "code",
   "execution_count": null,
   "id": "4df7739a-3b0d-4c3a-a47e-c2cf3e46d7b2",
   "metadata": {},
   "outputs": [],
   "source": [
    "from lightgbm import LGBMClassifier\n",
    "from sklearn.metrics import (\n",
    "    accuracy_score, roc_auc_score, f1_score,\n",
    "    classification_report, confusion_matrix\n",
    ")\n",
    "\n",
    "X_syn   = syn_df.drop(columns=[target_col])\n",
    "y_syn   = syn_df[target_col]\n",
    "\n",
    "X_test  = test_df.drop(columns=[target_col])\n",
    "y_test  = test_df[target_col]\n",
    "\n",
    "lgbm = LGBMClassifier(\n",
    "    objective='bianary',\n",
    "    n_estimators=500,\n",
    "    learning_rate=0.05,\n",
    "    num_leaves=64,\n",
    "    random_state=42\n",
    ")"
   ]
  },
  {
   "cell_type": "code",
   "execution_count": null,
   "id": "072cf9ee-5667-4ee3-9026-6baa5bd19d9d",
   "metadata": {
    "scrolled": true
   },
   "outputs": [],
   "source": [
    "lgbm.fit(\n",
    "    X_syn, y_syn,\n",
    "    categorical_feature=categorical_cols\n",
    ")"
   ]
  },
  {
   "cell_type": "code",
   "execution_count": null,
   "id": "aa87df4a-67e7-4b69-9ed7-c3aff68c3edd",
   "metadata": {},
   "outputs": [],
   "source": [
    "y_pred       = lgbm.predict(X_test)\n",
    "y_pred_proba = lgbm.predict_proba(X_test)[:, 1]\n",
    "\n",
    "print(\"=== TSTR evaluation (train: synthetic, test: real) ===\")\n",
    "print(\"Accuracy :\", accuracy_score(y_test, y_pred))\n",
    "print(\"ROC-AUC  :\", roc_auc_score(y_test, y_pred_proba))\n",
    "print(\"F1-score :\", f1_score(y_test, y_pred))\n",
    "print(\"\\nConfusion matrix:\\n\", confusion_matrix(y_test, y_pred))\n",
    "print(\"\\nDetailed report:\\n\", classification_report(y_test, y_pred))"
   ]
  },
  {
   "cell_type": "markdown",
   "id": "0feeb39b-cb26-4c1d-ace1-a8e2ea2be3a8",
   "metadata": {},
   "source": [
    "## Utility"
   ]
  },
  {
   "cell_type": "code",
   "execution_count": 10,
   "id": "5b55af94-7114-426d-b537-97bb305c9d7d",
   "metadata": {},
   "outputs": [],
   "source": [
    "# Creating copies of dfs\n",
    "# dft_copy = dft.copy()\n",
    "synthetic_data_copy = synthetic_data.copy()\n",
    "\n",
    "dft_copy[\"is_real\"]          = 1        # positive class\n",
    "synthetic_data_copy[\"is_real\"] = 0        # negative class\n",
    "\n",
    "full = pd.concat([dft_copy, synthetic_data_copy], ignore_index=True)"
   ]
  },
  {
   "cell_type": "code",
   "execution_count": 11,
   "id": "c8d021e9-3ac8-4831-95db-8445c1c75711",
   "metadata": {},
   "outputs": [
    {
     "name": "stdout",
     "output_type": "stream",
     "text": [
      "[LightGBM] [Warning] Categorical features with more bins than the configured maximum bin number found.\n",
      "[LightGBM] [Warning] For categorical features, max_bin and max_bin_by_feature may be ignored with a large number of categories.\n",
      "[LightGBM] [Info] Number of positive: 938243, number of negative: 938242\n",
      "[LightGBM] [Info] Auto-choosing row-wise multi-threading, the overhead of testing was 0.043881 seconds.\n",
      "You can set `force_row_wise=true` to remove the overhead.\n",
      "And if memory is not enough, you can set `force_col_wise=true`.\n",
      "[LightGBM] [Info] Total Bins 707\n",
      "[LightGBM] [Info] Number of data points in the train set: 1876485, number of used features: 7\n",
      "[LightGBM] [Info] [binary:BoostFromScore]: pavg=0.500000 -> initscore=0.000001\n",
      "[LightGBM] [Info] Start training from score 0.000001\n",
      "             count      mean       std       min       25%       50%  \\\n",
      "is_real                                                                \n",
      "0        1340347.0  0.398503  0.185454  0.003240  0.261745  0.401588   \n",
      "1        1340347.0  0.601428  0.165322  0.012881  0.490141  0.609553   \n",
      "\n",
      "              75%       max  \n",
      "is_real                      \n",
      "0        0.532627  0.959671  \n",
      "1        0.724830  0.987797  \n"
     ]
    }
   ],
   "source": [
    "import pandas as pd\n",
    "import lightgbm as lgb\n",
    "from sklearn.model_selection import train_test_split\n",
    "\n",
    "# Assuming 'full' is your combined DataFrame from the prompt\n",
    "\n",
    "# Define features (X) and target (y)\n",
    "X = full.drop('is_real', axis=1)\n",
    "y = full['is_real']\n",
    "\n",
    "# Convert object columns to the 'category' dtype for LightGBM\n",
    "for col in X.select_dtypes(include='object').columns:\n",
    "    X[col] = X[col].astype('category')\n",
    "\n",
    "# Split data for training and testing the classifier\n",
    "X_train, X_test, y_train, y_test = train_test_split(X, y, test_size=0.3, random_state=42, stratify=y)\n",
    "\n",
    "# Initialize and train the LightGBM classifier\n",
    "lgbm = lgb.LGBMClassifier(objective='binary', random_state=42)\n",
    "lgbm.fit(X_train, y_train)\n",
    "\n",
    "# Get propensity scores for the entire dataset\n",
    "# The [:, 1] selects the probability of the positive class (is_real=1)\n",
    "full['p_score'] = lgbm.predict_proba(X)[:, 1]\n",
    "\n",
    "# Display the scores for real vs. synthetic data\n",
    "print(full.groupby('is_real')['p_score'].describe())"
   ]
  },
  {
   "cell_type": "code",
   "execution_count": 12,
   "id": "e6e0beea-f29e-4cbd-9478-f7fa01c8b0fb",
   "metadata": {},
   "outputs": [
    {
     "data": {
      "image/png": "[encoded data removed]",
      "text/plain": [
       "<Figure size 640x480 with 1 Axes>"
      ]
     },
     "metadata": {},
     "output_type": "display_data"
    }
   ],
   "source": [
    "import seaborn as sns\n",
    "import matplotlib.pyplot as plt\n",
    "\n",
    "# Separate the scores for real and synthetic data\n",
    "real_scores = full[full['is_real'] == 1]['p_score']\n",
    "synthetic_scores = full[full['is_real'] == 0]['p_score']\n",
    "\n",
    "# Plot the distributions\n",
    "sns.histplot(real_scores, color=\"blue\", label='Real Data', stat='density', alpha=0.6)\n",
    "sns.histplot(synthetic_scores, color=\"red\", label='Synthetic Data', stat='density', alpha=0.6)\n",
    "\n",
    "plt.legend()\n",
    "plt.title('Distribution of Propensity Scores')\n",
    "plt.xlabel('Propensity Score (P(is_real=1))')\n",
    "plt.show()"
   ]
  },
  {
   "cell_type": "markdown",
   "id": "9a5d87be-b63e-427d-b6ed-67ef46fefd38",
   "metadata": {},
   "source": [
    "### Other Metrics"
   ]
  },
  {
   "cell_type": "code",
   "execution_count": 14,
   "id": "ca55cb04-87b5-4fd8-8796-77157a4f6773",
   "metadata": {
    "scrolled": true
   },
   "outputs": [
    {
     "name": "stdout",
     "output_type": "stream",
     "text": [
      "✅  MMD²  = 0.005615   (lower → closer)\n",
      "✅  Jensen–Shannon divergence  (mean over columns)  = 0.010413\n",
      "Generating report ...\n",
      "\n",
      "(1/2) Evaluating Column Shapes: |██████████| 7/7 [00:02<00:00,  2.42it/s]|\n",
      "Column Shapes Score: 92.22%\n",
      "\n",
      "(2/2) Evaluating Column Pair Trends: |██████████| 21/21 [00:02<00:00,  9.35it/s]|\n",
      "Column Pair Trends Score: 85.25%\n",
      "\n",
      "Overall Score (Average): 88.73%\n",
      "\n",
      "Overall quality score: 0.8873498324321412\n",
      "✅  SDMetrics QualityReport overall score = 0.887\n"
     ]
    }
   ],
   "source": [
    "# -----------------------------------------------------------------------\n",
    "# 0.  Imports\n",
    "# -----------------------------------------------------------------------\n",
    "import numpy as np\n",
    "import pandas as pd\n",
    "\n",
    "from sklearn.preprocessing import OrdinalEncoder, MinMaxScaler\n",
    "from sklearn.metrics.pairwise import pairwise_kernels, pairwise_distances         # ← canonical path :contentReference[oaicite:0]{index=0}\n",
    "\n",
    "from scipy.spatial.distance import jensenshannon\n",
    "\n",
    "# SDMetrics 0.12+ : QualityReport lives in the single-table sub-module\n",
    "from sdmetrics.reports.single_table import QualityReport   # ← per official docs :contentReference[oaicite:1]{index=1}\n",
    "\n",
    "# -----------------------------------------------------------------------\n",
    "# 1.  Helper: Maximum Mean Discrepancy  (Gaussian kernel, median heuristic)\n",
    "# -----------------------------------------------------------------------\n",
    "def _mmd2_gaussian(X, Y, subsample=None):\n",
    "    \"\"\"\n",
    "    Unbiased estimate of MMD² between X and Y with an RBF kernel.\n",
    "    \"\"\"\n",
    "    rng = np.random.default_rng(42)\n",
    "    if subsample and (len(X) > subsample):\n",
    "        X = X[rng.choice(len(X), subsample, replace=False)]\n",
    "    if subsample and (len(Y) > subsample):\n",
    "        Y = Y[rng.choice(len(Y), subsample, replace=False)]\n",
    "\n",
    "    Z = np.vstack([X, Y])\n",
    "\n",
    "    # 1⃣  Use pairwise_distances for Euclidean matrix\n",
    "    dists = pairwise_distances(Z, metric='euclidean')\n",
    "\n",
    "    # 2⃣  Median heuristic for γ\n",
    "    gamma = 1.0 / (2.0 * np.median(dists[dists > 0]) ** 2)\n",
    "\n",
    "    # 3⃣  RBF kernels with that γ\n",
    "    Kxx = pairwise_kernels(X, X, metric='rbf', gamma=gamma)\n",
    "    Kyy = pairwise_kernels(Y, Y, metric='rbf', gamma=gamma)\n",
    "    Kxy = pairwise_kernels(X, Y, metric='rbf', gamma=gamma)\n",
    "\n",
    "    return Kxx.mean() + Kyy.mean() - 2 * Kxy.mean()\n",
    "\n",
    "# -----------------------------------------------------------------------\n",
    "# 2.  Prepare numeric matrix for MMD (encode categoricals, scale 0-1)\n",
    "# -----------------------------------------------------------------------\n",
    "def _prep_for_mmd(df, cat_cols):\n",
    "    num_cols = [c for c in df.columns if c not in cat_cols]\n",
    "    enc = OrdinalEncoder(handle_unknown='use_encoded_value', unknown_value=-1)\n",
    "    df_enc = df.copy()\n",
    "\n",
    "    if cat_cols:\n",
    "        df_enc[cat_cols] = enc.fit_transform(df[cat_cols])\n",
    "\n",
    "    scaler = MinMaxScaler()\n",
    "    df_enc[num_cols + cat_cols] = scaler.fit_transform(df_enc[num_cols + cat_cols])\n",
    "    return df_enc[num_cols + cat_cols].to_numpy()\n",
    "\n",
    "# ------- identify categorical columns consistently in both tables -------\n",
    "cat_cols = [\n",
    "    c for c in df_filtered.columns\n",
    "    if df_filtered[c].dtype == 'object' or str(df_filtered[c].dtype).startswith('category')\n",
    "]\n",
    "\n",
    "X_real  = _prep_for_mmd(df_filtered, cat_cols)\n",
    "X_synth = _prep_for_mmd(synthetic_data, cat_cols)\n",
    "\n",
    "mmd2 = _mmd2_gaussian(X_real, X_synth, subsample=20000)   # tweak subsample if memory tight\n",
    "print(f\"✅  MMD²  = {mmd2:.6f}   (lower → closer)\")\n",
    "\n",
    "# -----------------------------------------------------------------------\n",
    "# 3.  Jensen–Shannon divergence – per column, then average\n",
    "# -----------------------------------------------------------------------\n",
    "def _js_col(real_col, synth_col, bins=30):\n",
    "    if pd.api.types.is_numeric_dtype(real_col):\n",
    "        hist_r, bin_edges = np.histogram(real_col, bins=bins, density=True)\n",
    "        hist_s, _         = np.histogram(synth_col, bins=bin_edges, density=True)\n",
    "    else:                                   # categorical\n",
    "        cats = pd.Series(list(set(real_col) | set(synth_col)))\n",
    "        hist_r = real_col.value_counts(normalize=True).reindex(cats, fill_value=0).values\n",
    "        hist_s = synth_col.value_counts(normalize=True).reindex(cats, fill_value=0).values\n",
    "    return jensenshannon(hist_r, hist_s, base=2) ** 2      # JS distance → divergence\n",
    "\n",
    "js_scores = {\n",
    "    col: _js_col(df_filtered[col], synthetic_data[col])\n",
    "    for col in df_filtered.columns\n",
    "}\n",
    "print(f\"✅  Jensen–Shannon divergence  (mean over columns)  = {np.mean(list(js_scores.values())):.6f}\")\n",
    "# Optional: inspect per-column divergences\n",
    "# pd.Series(js_scores).sort_values(ascending=False).head()\n",
    "\n",
    "# -----------------------------------------------------------------------\n",
    "# 4.  KSComplement / TVComplement via SDMetrics QualityReport\n",
    "# -----------------------------------------------------------------------\n",
    "qr = QualityReport()\n",
    "from sdv.metadata import SingleTableMetadata\n",
    "from sdmetrics.reports.single_table import QualityReport\n",
    "\n",
    "# 1️⃣  Auto-detect metadata from the real DataFrame\n",
    "auto_meta = SingleTableMetadata()\n",
    "auto_meta.detect_from_dataframe(df_filtered)   # df_filtered is your real table\n",
    "metadata_dict = auto_meta.to_dict()            # <-- has top-level 'columns'\n",
    "\n",
    "# 2️⃣  Run the report\n",
    "qr = QualityReport()\n",
    "qr.generate(\n",
    "    real_data=df_filtered,\n",
    "    synthetic_data=synthetic_data,\n",
    "    metadata=metadata_dict\n",
    ")\n",
    "print(\"Overall quality score:\", qr.get_score())\n",
    "quality_score = qr.get_score()\n",
    "print(f\"✅  SDMetrics QualityReport overall score = {quality_score:.3f}\")\n",
    "\n",
    "# Detailed per-column shape scores (includes KSComplement & TVComplement)\n",
    "# shape_details = qr.get_details(property_name='Column Shapes')\n",
    "# print(shape_details[['Column', 'Metric', 'Score']].head())"
   ]
  },
  {
   "cell_type": "markdown",
   "id": "42b396c8-9f4a-49d7-9597-dec2044591b4",
   "metadata": {},
   "source": [
    "## Privacy"
   ]
  },
  {
   "cell_type": "code",
   "execution_count": 40,
   "id": "2a04324f-42c8-4a15-a78d-3701e1977d6f",
   "metadata": {
    "collapsed": true,
    "jupyter": {
     "outputs_hidden": true
    },
    "scrolled": true
   },
   "outputs": [
    {
     "ename": "KeyError",
     "evalue": "'location'",
     "output_type": "error",
     "traceback": [
      "\u001b[31m---------------------------------------------------------------------------\u001b[39m",
      "\u001b[31mKeyError\u001b[39m                                  Traceback (most recent call last)",
      "\u001b[36mCell\u001b[39m\u001b[36m \u001b[39m\u001b[32mIn[40]\u001b[39m\u001b[32m, line 14\u001b[39m\n\u001b[32m      5\u001b[39m metadata_dict = auto_meta.to_dict()            \u001b[38;5;66;03m# <-- has top-level 'columns'\u001b[39;00m\n\u001b[32m      7\u001b[39m dcr_score = DCRBaselineProtection.compute(\n\u001b[32m      8\u001b[39m     real_data      = df_filtered,\n\u001b[32m      9\u001b[39m     synthetic_data = synthetic_data,\n\u001b[32m     10\u001b[39m     metadata       = metadata_dict,      \u001b[38;5;66;03m# single-table 'columns' schema\u001b[39;00m\n\u001b[32m     11\u001b[39m     num_rows_subsample=\u001b[32m20_000\u001b[39m\n\u001b[32m     12\u001b[39m )\n\u001b[32m---> \u001b[39m\u001b[32m14\u001b[39m cap_score = \u001b[43mCategoricalCAP\u001b[49m\u001b[43m.\u001b[49m\u001b[43mcompute\u001b[49m\u001b[43m(\u001b[49m\n\u001b[32m     15\u001b[39m \u001b[43m    \u001b[49m\u001b[43mreal_data\u001b[49m\u001b[43m        \u001b[49m\u001b[43m=\u001b[49m\u001b[43m \u001b[49m\u001b[43mdf_filtered\u001b[49m\u001b[43m,\u001b[49m\n\u001b[32m     16\u001b[39m \u001b[43m    \u001b[49m\u001b[43msynthetic_data\u001b[49m\u001b[43m   \u001b[49m\u001b[43m=\u001b[49m\u001b[43m \u001b[49m\u001b[43msynthetic_data\u001b[49m\u001b[43m,\u001b[49m\n\u001b[32m     17\u001b[39m \u001b[43m    \u001b[49m\u001b[43mkey_fields\u001b[49m\u001b[43m       \u001b[49m\u001b[43m=\u001b[49m\u001b[43m \u001b[49m\u001b[43m[\u001b[49m\u001b[33;43m'\u001b[39;49m\u001b[33;43mhour_created\u001b[39;49m\u001b[33;43m'\u001b[39;49m\u001b[43m,\u001b[49m\u001b[43m \u001b[49m\u001b[33;43m'\u001b[39;49m\u001b[33;43mlocation\u001b[39;49m\u001b[33;43m'\u001b[39;49m\u001b[43m]\u001b[49m\u001b[43m,\u001b[49m\u001b[43m   \u001b[49m\u001b[38;5;66;43;03m# what attacker already knows\u001b[39;49;00m\n\u001b[32m     18\u001b[39m \u001b[43m    \u001b[49m\u001b[43msensitive_fields\u001b[49m\u001b[43m \u001b[49m\u001b[43m=\u001b[49m\u001b[43m \u001b[49m\u001b[43m[\u001b[49m\u001b[33;43m'\u001b[39;49m\u001b[33;43mmax_final_priority\u001b[39;49m\u001b[33;43m'\u001b[39;49m\u001b[43m]\u001b[49m\u001b[43m          \u001b[49m\u001b[38;5;66;43;03m# what attacker wants\u001b[39;49;00m\n\u001b[32m     19\u001b[39m \u001b[43m)\u001b[49m\n\u001b[32m     21\u001b[39m \u001b[38;5;28mprint\u001b[39m(\u001b[33m\"\u001b[39m\u001b[33mDCR baseline protection :\u001b[39m\u001b[33m\"\u001b[39m, \u001b[38;5;28mround\u001b[39m(dcr_score, \u001b[32m3\u001b[39m))\n\u001b[32m     22\u001b[39m \u001b[38;5;28mprint\u001b[39m(\u001b[33m\"\u001b[39m\u001b[33mCategorical CAP privacy :\u001b[39m\u001b[33m\"\u001b[39m, \u001b[38;5;28mround\u001b[39m(cap_score, \u001b[32m3\u001b[39m))\n",
      "\u001b[36mFile \u001b[39m\u001b[32m/dcs/large/u2164966/MSc_Dissertation/myenv/lib64/python3.12/site-packages/sdmetrics/single_table/privacy/cap.py:152\u001b[39m, in \u001b[36mCategoricalCAP.compute\u001b[39m\u001b[34m(cls, real_data, synthetic_data, metadata, key_fields, sensitive_fields, model_kwargs)\u001b[39m\n\u001b[32m    118\u001b[39m \u001b[38;5;250m\u001b[39m\u001b[33;03m\"\"\"Compute this metric.\u001b[39;00m\n\u001b[32m    119\u001b[39m \n\u001b[32m    120\u001b[39m \u001b[33;03mThis fits an adversial attacker model on the synthetic data and\u001b[39;00m\n\u001b[32m   (...)\u001b[39m\u001b[32m    149\u001b[39m \u001b[33;03m        Scores obtained by the attackers when evaluated on the real data.\u001b[39;00m\n\u001b[32m    150\u001b[39m \u001b[33;03m\"\"\"\u001b[39;00m\n\u001b[32m    151\u001b[39m warnings.warn(DEPRECATION_MSG, \u001b[38;5;167;01mDeprecationWarning\u001b[39;00m)\n\u001b[32m--> \u001b[39m\u001b[32m152\u001b[39m \u001b[38;5;28;01mreturn\u001b[39;00m \u001b[38;5;28;43mcls\u001b[39;49m\u001b[43m.\u001b[49m\u001b[43m_compute\u001b[49m\u001b[43m(\u001b[49m\n\u001b[32m    153\u001b[39m \u001b[43m    \u001b[49m\u001b[43mreal_data\u001b[49m\u001b[43m=\u001b[49m\u001b[43mreal_data\u001b[49m\u001b[43m,\u001b[49m\n\u001b[32m    154\u001b[39m \u001b[43m    \u001b[49m\u001b[43msynthetic_data\u001b[49m\u001b[43m=\u001b[49m\u001b[43msynthetic_data\u001b[49m\u001b[43m,\u001b[49m\n\u001b[32m    155\u001b[39m \u001b[43m    \u001b[49m\u001b[43mmetadata\u001b[49m\u001b[43m=\u001b[49m\u001b[43mmetadata\u001b[49m\u001b[43m,\u001b[49m\n\u001b[32m    156\u001b[39m \u001b[43m    \u001b[49m\u001b[43mkey_fields\u001b[49m\u001b[43m=\u001b[49m\u001b[43mkey_fields\u001b[49m\u001b[43m,\u001b[49m\n\u001b[32m    157\u001b[39m \u001b[43m    \u001b[49m\u001b[43msensitive_fields\u001b[49m\u001b[43m=\u001b[49m\u001b[43msensitive_fields\u001b[49m\u001b[43m,\u001b[49m\n\u001b[32m    158\u001b[39m \u001b[43m    \u001b[49m\u001b[43mmodel_kwargs\u001b[49m\u001b[43m=\u001b[49m\u001b[43mmodel_kwargs\u001b[49m\u001b[43m,\u001b[49m\n\u001b[32m    159\u001b[39m \u001b[43m\u001b[49m\u001b[43m)\u001b[49m\n",
      "\u001b[36mFile \u001b[39m\u001b[32m/dcs/large/u2164966/MSc_Dissertation/myenv/lib64/python3.12/site-packages/sdmetrics/single_table/privacy/cap.py:99\u001b[39m, in \u001b[36mCategoricalCAP._compute\u001b[39m\u001b[34m(cls, real_data, synthetic_data, metadata, key_fields, sensitive_fields, model_kwargs)\u001b[39m\n\u001b[32m     89\u001b[39m \u001b[38;5;129m@classmethod\u001b[39m\n\u001b[32m     90\u001b[39m \u001b[38;5;28;01mdef\u001b[39;00m\u001b[38;5;250m \u001b[39m\u001b[34m_compute\u001b[39m(\n\u001b[32m     91\u001b[39m     \u001b[38;5;28mcls\u001b[39m,\n\u001b[32m   (...)\u001b[39m\u001b[32m     97\u001b[39m     model_kwargs=\u001b[38;5;28;01mNone\u001b[39;00m,\n\u001b[32m     98\u001b[39m ):\n\u001b[32m---> \u001b[39m\u001b[32m99\u001b[39m     \u001b[38;5;28;01mreturn\u001b[39;00m \u001b[38;5;28;43msuper\u001b[39;49m\u001b[43m(\u001b[49m\u001b[43m)\u001b[49m\u001b[43m.\u001b[49m\u001b[43mcompute\u001b[49m\u001b[43m(\u001b[49m\n\u001b[32m    100\u001b[39m \u001b[43m        \u001b[49m\u001b[43mreal_data\u001b[49m\u001b[43m=\u001b[49m\u001b[43mreal_data\u001b[49m\u001b[43m,\u001b[49m\n\u001b[32m    101\u001b[39m \u001b[43m        \u001b[49m\u001b[43msynthetic_data\u001b[49m\u001b[43m=\u001b[49m\u001b[43msynthetic_data\u001b[49m\u001b[43m,\u001b[49m\n\u001b[32m    102\u001b[39m \u001b[43m        \u001b[49m\u001b[43mmetadata\u001b[49m\u001b[43m=\u001b[49m\u001b[43mmetadata\u001b[49m\u001b[43m,\u001b[49m\n\u001b[32m    103\u001b[39m \u001b[43m        \u001b[49m\u001b[43mkey_fields\u001b[49m\u001b[43m=\u001b[49m\u001b[43mkey_fields\u001b[49m\u001b[43m,\u001b[49m\n\u001b[32m    104\u001b[39m \u001b[43m        \u001b[49m\u001b[43msensitive_fields\u001b[49m\u001b[43m=\u001b[49m\u001b[43msensitive_fields\u001b[49m\u001b[43m,\u001b[49m\n\u001b[32m    105\u001b[39m \u001b[43m        \u001b[49m\u001b[43mmodel_kwargs\u001b[49m\u001b[43m=\u001b[49m\u001b[43mmodel_kwargs\u001b[49m\u001b[43m,\u001b[49m\n\u001b[32m    106\u001b[39m \u001b[43m    \u001b[49m\u001b[43m)\u001b[49m\n",
      "\u001b[36mFile \u001b[39m\u001b[32m/dcs/large/u2164966/MSc_Dissertation/myenv/lib64/python3.12/site-packages/sdmetrics/single_table/privacy/base.py:135\u001b[39m, in \u001b[36mCategoricalPrivacyMetric.compute\u001b[39m\u001b[34m(cls, real_data, synthetic_data, metadata, key_fields, sensitive_fields, model_kwargs)\u001b[39m\n\u001b[32m    130\u001b[39m key_fields, sensitive_fields, metadata = \u001b[38;5;28mcls\u001b[39m._validate_inputs(\n\u001b[32m    131\u001b[39m     real_data, synthetic_data, metadata, key_fields, sensitive_fields\n\u001b[32m    132\u001b[39m )\n\u001b[32m    134\u001b[39m \u001b[38;5;28;01mfor\u001b[39;00m col \u001b[38;5;129;01min\u001b[39;00m key_fields + sensitive_fields:\n\u001b[32m--> \u001b[39m\u001b[32m135\u001b[39m     data_type = \u001b[43mget_columns_from_metadata\u001b[49m\u001b[43m(\u001b[49m\u001b[43mmetadata\u001b[49m\u001b[43m)\u001b[49m\u001b[43m[\u001b[49m\u001b[43mcol\u001b[49m\u001b[43m]\u001b[49m\n\u001b[32m    136\u001b[39m     \u001b[38;5;28;01mif\u001b[39;00m (\n\u001b[32m    137\u001b[39m         data_type != \u001b[38;5;28mcls\u001b[39m._DTYPES_TO_TYPES[\u001b[33m'\u001b[39m\u001b[33mi\u001b[39m\u001b[33m'\u001b[39m]\n\u001b[32m    138\u001b[39m         \u001b[38;5;129;01mand\u001b[39;00m data_type != \u001b[38;5;28mcls\u001b[39m._DTYPES_TO_TYPES[\u001b[33m'\u001b[39m\u001b[33mO\u001b[39m\u001b[33m'\u001b[39m]\n\u001b[32m    139\u001b[39m         \u001b[38;5;129;01mand\u001b[39;00m data_type != \u001b[38;5;28mcls\u001b[39m._DTYPES_TO_TYPES[\u001b[33m'\u001b[39m\u001b[33mb\u001b[39m\u001b[33m'\u001b[39m]\n\u001b[32m    140\u001b[39m     ):  \u001b[38;5;66;03m# check data type\u001b[39;00m\n\u001b[32m    141\u001b[39m         \u001b[38;5;28;01mraise\u001b[39;00m \u001b[38;5;167;01mTypeError\u001b[39;00m(\u001b[33mf\u001b[39m\u001b[33m'\u001b[39m\u001b[33mColumn \u001b[39m\u001b[38;5;132;01m{\u001b[39;00mcol\u001b[38;5;132;01m}\u001b[39;00m\u001b[33m has invalid data type \u001b[39m\u001b[38;5;132;01m{\u001b[39;00mdata_type\u001b[38;5;132;01m}\u001b[39;00m\u001b[33m'\u001b[39m)\n",
      "\u001b[31mKeyError\u001b[39m: 'location'"
     ]
    }
   ],
   "source": [
    "from sdmetrics.single_table import DCRBaselineProtection, CategoricalCAP\n",
    "\n",
    "auto_meta = SingleTableMetadata()\n",
    "auto_meta.detect_from_dataframe(df_filtered)   # df_filtered is your real table\n",
    "metadata_dict = auto_meta.to_dict()            # <-- has top-level 'columns'\n",
    "\n",
    "dcr_score = DCRBaselineProtection.compute(\n",
    "    real_data      = df_filtered,\n",
    "    synthetic_data = synthetic_data,\n",
    "    metadata       = metadata_dict,      # single-table 'columns' schema\n",
    "    num_rows_subsample=20_000\n",
    ")\n",
    "\n",
    "cap_score = CategoricalCAP.compute(\n",
    "    real_data        = df_filtered,\n",
    "    synthetic_data   = synthetic_data,\n",
    "    key_fields       = ['hour_created', 'location'],   # what attacker already knows\n",
    "    sensitive_fields = ['max_final_priority']          # what attacker wants\n",
    ")\n",
    "\n",
    "print(\"DCR baseline protection :\", round(dcr_score, 3))\n",
    "print(\"Categorical CAP privacy :\", round(cap_score, 3))"
   ]
  },
  {
   "cell_type": "code",
   "execution_count": 24,
   "id": "0ed1c1c9-883f-4abb-b7f6-c37821ffcb50",
   "metadata": {},
   "outputs": [
    {
     "data": {
      "text/plain": [
       "{'score': 0.06220058723535775,\n",
       " 'median_DCR_to_real_data': {'synthetic_data': 0.006105006105006105,\n",
       "  'random_data_baseline': 0.09815029690806089}}"
      ]
     },
     "execution_count": 24,
     "metadata": {},
     "output_type": "execute_result"
    }
   ],
   "source": [
    "from sdmetrics.single_table import DCRBaselineProtection\n",
    "\n",
    "table_name = \"incidents\"\n",
    "meta_dict = metadata_dict[\"tables\"][table_name]\n",
    "\n",
    "score = DCRBaselineProtection.compute_breakdown(\n",
    "    real_data=df_filtered,\n",
    "    synthetic_data=synthetic_data,\n",
    "    metadata=meta_dict\n",
    ")\n",
    "\n",
    "score"
   ]
  },
  {
   "cell_type": "code",
   "execution_count": 17,
   "id": "37b843ff-fccf-482a-b033-61957617771f",
   "metadata": {},
   "outputs": [
    {
     "data": {
      "text/plain": [
       "{'score': np.float64(0.6918309265310778),\n",
       " 'median_DCR_to_real_data': {'synthetic_data': np.float64(0.1430326059196368),\n",
       "  'random_data_baseline': np.float64(0.20674727550810013)}}"
      ]
     },
     "execution_count": 17,
     "metadata": {},
     "output_type": "execute_result"
    }
   ],
   "source": [
    "# privacy score for initial ctgan on complete data\n",
    "\n",
    "from sdmetrics.single_table import DCRBaselineProtection\n",
    "from sdv.metadata import SingleTableMetadata\n",
    "\n",
    "table_name = \"incidents\"\n",
    "auto_meta = SingleTableMetadata()\n",
    "auto_meta.detect_from_dataframe(df_filtered)\n",
    "metadata_dict = auto_meta.to_dict()\n",
    "\n",
    "score = DCRBaselineProtection.compute_breakdown(\n",
    "    real_data=df_filtered,\n",
    "    synthetic_data=synthetic_data,\n",
    "    metadata=metadata_dict,\n",
    "    num_rows_subsample=20000,    # Subsample to 20,000 rows for computation speed\n",
    "    num_iterations=5             # Run 5 iterations and average for stability\n",
    ")\n",
    "\n",
    "score"
   ]
  },
  {
   "cell_type": "code",
   "execution_count": 7,
   "id": "a4f402ff-a6df-4dcd-a6fe-cfc08a921316",
   "metadata": {},
   "outputs": [
    {
     "name": "stdout",
     "output_type": "stream",
     "text": [
      "Privacy score computation time for 200,000 rows: 55118.80 seconds\n"
     ]
    }
   ],
   "source": [
    "import time\n",
    "from sdmetrics.single_table import DCRBaselineProtection\n",
    "from sdv.metadata import SingleTableMetadata\n",
    "\n",
    "start_time = time.time()\n",
    "\n",
    "auto_meta = SingleTableMetadata()\n",
    "auto_meta.detect_from_dataframe(df_filtered)\n",
    "metadata_dict = auto_meta.to_dict()\n",
    "\n",
    "score = DCRBaselineProtection.compute_breakdown(\n",
    "    real_data=df_filtered,\n",
    "    synthetic_data=synthetic_data,\n",
    "    metadata=metadata_dict,\n",
    "    num_rows_subsample=100000,\n",
    "    num_iterations=3\n",
    ")\n",
    "\n",
    "end_time = time.time()\n",
    "elapsed = end_time - start_time\n",
    "print(f\"Privacy score computation time for 200,000 rows: {elapsed:.2f} seconds\")\n"
   ]
  },
  {
   "cell_type": "code",
   "execution_count": 8,
   "id": "b194b608-249f-4759-901f-a48b088fae0b",
   "metadata": {},
   "outputs": [
    {
     "data": {
      "text/plain": [
       "{'score': np.float64(0.22463869741066333),\n",
       " 'median_DCR_to_real_data': {'synthetic_data': np.float64(0.03931812508252545),\n",
       "  'random_data_baseline': np.float64(0.17502839913962331)}}"
      ]
     },
     "execution_count": 8,
     "metadata": {},
     "output_type": "execute_result"
    }
   ],
   "source": [
    "score"
   ]
  },
  {
   "cell_type": "code",
   "execution_count": null,
   "id": "9ed13004-d3a9-4aeb-a51c-d1be898959df",
   "metadata": {},
   "outputs": [],
   "source": []
  }
 ],
 "metadata": {
  "kernelspec": {
   "display_name": "Python 3 (ipykernel)",
   "language": "python",
   "name": "python3"
  },
  "language_info": {
   "codemirror_mode": {
    "name": "ipython",
    "version": 3
   },
   "file_extension": ".py",
   "mimetype": "text/x-python",
   "name": "python",
   "nbconvert_exporter": "python",
   "pygments_lexer": "ipython3",
   "version": "3.12.11"
  }
 },
 "nbformat": 4,
 "nbformat_minor": 5
}
