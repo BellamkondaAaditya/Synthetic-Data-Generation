{
 "cells": [
  {
   "cell_type": "markdown",
   "id": "02b123cb-35b4-456d-a055-6468166012e4",
   "metadata": {},
   "source": [
    "## CART implementation"
   ]
  },
  {
   "cell_type": "code",
   "execution_count": 25,
   "id": "1aa260e9-41f7-41fc-b26a-7227e97631af",
   "metadata": {},
   "outputs": [],
   "source": [
    "import pandas as pd\n",
    "df = pd.read_feather(\"raw_incident_data_v2.feather\")\n",
    "df_filtered = df.copy()\n",
    "df_filtered = df_filtered.drop('mm_ward_code', axis=1)"
   ]
  },
  {
   "cell_type": "code",
   "execution_count": 26,
   "id": "32b88507-8e1a-4a8d-9887-a318e2ed72eb",
   "metadata": {},
   "outputs": [],
   "source": [
    "# Loading the lookup file\n",
    "lookup = pd.read_csv('DataZone2011lookup_2024-12-16.csv', encoding='latin1')"
   ]
  },
  {
   "cell_type": "markdown",
   "id": "046ca27f-da6a-4215-add1-5fb9ca19a4e7",
   "metadata": {
    "jp-MarkdownHeadingCollapsed": true
   },
   "source": [
    "### Preprocessing"
   ]
  },
  {
   "cell_type": "code",
   "execution_count": 28,
   "id": "ff2c02e0-72e0-45af-9511-0e5355a826a2",
   "metadata": {
    "scrolled": true
   },
   "outputs": [
    {
     "data": {
      "text/html": [
       "<div>\n",
       "<style scoped>\n",
       "    .dataframe tbody tr th:only-of-type {\n",
       "        vertical-align: middle;\n",
       "    }\n",
       "\n",
       "    .dataframe tbody tr th {\n",
       "        vertical-align: top;\n",
       "    }\n",
       "\n",
       "    .dataframe thead th {\n",
       "        text-align: right;\n",
       "    }\n",
       "</style>\n",
       "<table border=\"1\" class=\"dataframe\">\n",
       "  <thead>\n",
       "    <tr style=\"text-align: right;\">\n",
       "      <th></th>\n",
       "      <th>incident_count</th>\n",
       "      <th>date_created</th>\n",
       "      <th>hour_created</th>\n",
       "      <th>max_final_priority</th>\n",
       "      <th>inc_resourced</th>\n",
       "      <th>scrs_crime_inc</th>\n",
       "      <th>datazone</th>\n",
       "      <th>dzone_code</th>\n",
       "      <th>service_code_description</th>\n",
       "      <th>multi_member_ward</th>\n",
       "    </tr>\n",
       "  </thead>\n",
       "  <tbody>\n",
       "    <tr>\n",
       "      <th>0</th>\n",
       "      <td>2</td>\n",
       "      <td>2023-05-24</td>\n",
       "      <td>15</td>\n",
       "      <td>STANDARD</td>\n",
       "      <td>False</td>\n",
       "      <td>True</td>\n",
       "      <td>Northfield and Piershill - 01</td>\n",
       "      <td>S01008743</td>\n",
       "      <td>THEFT</td>\n",
       "      <td>Craigentinny/Duddingston</td>\n",
       "    </tr>\n",
       "    <tr>\n",
       "      <th>1</th>\n",
       "      <td>2</td>\n",
       "      <td>2023-08-11</td>\n",
       "      <td>7</td>\n",
       "      <td>PROMPT</td>\n",
       "      <td>False</td>\n",
       "      <td>False</td>\n",
       "      <td>Carntyne West and Haghill - 03</td>\n",
       "      <td>S01010244</td>\n",
       "      <td>ROAD TRAFFIC COLLISION</td>\n",
       "      <td>Calton</td>\n",
       "    </tr>\n",
       "    <tr>\n",
       "      <th>2</th>\n",
       "      <td>2</td>\n",
       "      <td>2023-02-16</td>\n",
       "      <td>20</td>\n",
       "      <td>PROMPT</td>\n",
       "      <td>True</td>\n",
       "      <td>False</td>\n",
       "      <td>Charleston - 04</td>\n",
       "      <td>S01007848</td>\n",
       "      <td>ASSIST MEMBER OF THE PUBLIC</td>\n",
       "      <td>Lochee</td>\n",
       "    </tr>\n",
       "    <tr>\n",
       "      <th>3</th>\n",
       "      <td>1</td>\n",
       "      <td>2023-02-16</td>\n",
       "      <td>21</td>\n",
       "      <td>PROMPT</td>\n",
       "      <td>True</td>\n",
       "      <td>False</td>\n",
       "      <td>Fort William North - 04</td>\n",
       "      <td>S01010513</td>\n",
       "      <td>ASSIST MEMBER OF THE PUBLIC</td>\n",
       "      <td>Caol and Mallaig</td>\n",
       "    </tr>\n",
       "    <tr>\n",
       "      <th>4</th>\n",
       "      <td>1</td>\n",
       "      <td>2023-02-16</td>\n",
       "      <td>21</td>\n",
       "      <td>IMMEDIATE</td>\n",
       "      <td>True</td>\n",
       "      <td>False</td>\n",
       "      <td>City Centre - 05</td>\n",
       "      <td>S01007705</td>\n",
       "      <td>ASSIST MEMBER OF THE PUBLIC</td>\n",
       "      <td>Maryfield</td>\n",
       "    </tr>\n",
       "  </tbody>\n",
       "</table>\n",
       "</div>"
      ],
      "text/plain": [
       "   incident_count date_created  hour_created max_final_priority  \\\n",
       "0               2   2023-05-24            15           STANDARD   \n",
       "1               2   2023-08-11             7             PROMPT   \n",
       "2               2   2023-02-16            20             PROMPT   \n",
       "3               1   2023-02-16            21             PROMPT   \n",
       "4               1   2023-02-16            21          IMMEDIATE   \n",
       "\n",
       "   inc_resourced  scrs_crime_inc                        datazone dzone_code  \\\n",
       "0          False            True   Northfield and Piershill - 01  S01008743   \n",
       "1          False           False  Carntyne West and Haghill - 03  S01010244   \n",
       "2           True           False                 Charleston - 04  S01007848   \n",
       "3           True           False         Fort William North - 04  S01010513   \n",
       "4           True           False                City Centre - 05  S01007705   \n",
       "\n",
       "      service_code_description         multi_member_ward  \n",
       "0                        THEFT  Craigentinny/Duddingston  \n",
       "1       ROAD TRAFFIC COLLISION                    Calton  \n",
       "2  ASSIST MEMBER OF THE PUBLIC                    Lochee  \n",
       "3  ASSIST MEMBER OF THE PUBLIC          Caol and Mallaig  \n",
       "4  ASSIST MEMBER OF THE PUBLIC                 Maryfield  "
      ]
     },
     "execution_count": 28,
     "metadata": {},
     "output_type": "execute_result"
    }
   ],
   "source": [
    "df_filtered.head()"
   ]
  },
  {
   "cell_type": "code",
   "execution_count": 29,
   "id": "f6e90926-7847-4caf-96e2-7eec6a0d02bd",
   "metadata": {},
   "outputs": [
    {
     "data": {
      "text/plain": [
       "incident_count               int32\n",
       "date_created                object\n",
       "hour_created                 int32\n",
       "max_final_priority          object\n",
       "inc_resourced                 bool\n",
       "scrs_crime_inc                bool\n",
       "datazone                    object\n",
       "dzone_code                  object\n",
       "service_code_description    object\n",
       "multi_member_ward           object\n",
       "dtype: object"
      ]
     },
     "execution_count": 29,
     "metadata": {},
     "output_type": "execute_result"
    }
   ],
   "source": [
    "df_filtered.dtypes"
   ]
  },
  {
   "cell_type": "code",
   "execution_count": 30,
   "id": "dd3eed3d-aa54-4662-aba5-8b85b7569c67",
   "metadata": {},
   "outputs": [
    {
     "name": "stderr",
     "output_type": "stream",
     "text": [
      "/tmp/dcs-tmp.u2164966/ipykernel_117647/2146405816.py:3: FutureWarning: Setting an item of incompatible dtype is deprecated and will raise in a future error of pandas. Value '[True, False, False, False, False, ..., True, True, True, True, True]\n",
      "Length: 1340347\n",
      "Categories (2, bool): [False, True]' has dtype incompatible with bool, please explicitly cast to a compatible dtype first.\n",
      "  df_filtered.loc[:, bool_vars] = df_filtered[bool_vars].astype('category')\n",
      "/tmp/dcs-tmp.u2164966/ipykernel_117647/2146405816.py:3: FutureWarning: Setting an item of incompatible dtype is deprecated and will raise in a future error of pandas. Value '[False, False, True, True, True, ..., False, True, False, False, False]\n",
      "Length: 1340347\n",
      "Categories (2, bool): [False, True]' has dtype incompatible with bool, please explicitly cast to a compatible dtype first.\n",
      "  df_filtered.loc[:, bool_vars] = df_filtered[bool_vars].astype('category')\n"
     ]
    }
   ],
   "source": [
    "# covert bool vars to cat\n",
    "bool_vars = ['scrs_crime_inc', 'inc_resourced']\n",
    "df_filtered.loc[:, bool_vars] = df_filtered[bool_vars].astype('category')"
   ]
  },
  {
   "cell_type": "code",
   "execution_count": 31,
   "id": "c93fa845-ff9d-4866-ba4e-1426a744e1c9",
   "metadata": {},
   "outputs": [
    {
     "data": {
      "text/plain": [
       "incident_count                 int32\n",
       "date_created                  object\n",
       "hour_created                   int32\n",
       "max_final_priority            object\n",
       "inc_resourced               category\n",
       "scrs_crime_inc              category\n",
       "datazone                      object\n",
       "dzone_code                    object\n",
       "service_code_description      object\n",
       "multi_member_ward             object\n",
       "dtype: object"
      ]
     },
     "execution_count": 31,
     "metadata": {},
     "output_type": "execute_result"
    }
   ],
   "source": [
    "df_filtered.dtypes"
   ]
  },
  {
   "cell_type": "code",
   "execution_count": 32,
   "id": "4923dd72-05c4-4340-8734-c0aa712ce3e0",
   "metadata": {},
   "outputs": [
    {
     "name": "stdout",
     "output_type": "stream",
     "text": [
      "earliest actual date: 2022-04-01 00:00:00, mapped date at seq 1: 2022-04-01 00:00:00\n",
      " latest actual date: 2024-06-28 00:00:00, mapped date at seq 820: 2024-06-28 00:00:00\n"
     ]
    }
   ],
   "source": [
    "# converting date variable to a number in [startdate, enddate]\n",
    "import pandas as pd\n",
    "\n",
    "# make sure date_created is datetime\n",
    "df_filtered['date_created'] = pd.to_datetime(df_filtered['date_created'])\n",
    "\n",
    "# compute day offset from min date, then +1\n",
    "min_date = df_filtered['date_created'].min()  # 2022-04-01 00:00:00\n",
    "df_filtered['date_seq'] = (df_filtered['date_created'] - min_date).dt.days + 1\n",
    "\n",
    "# compute min/max of each\n",
    "min_date = df_filtered['date_created'].min()\n",
    "max_date = df_filtered['date_created'].max()\n",
    "min_seq  = df_filtered['date_seq'].min()\n",
    "max_seq  = df_filtered['date_seq'].max()\n",
    "\n",
    "# grab the corresponding dates from the mapped column\n",
    "mapped_min_date = df_filtered.loc[df_filtered['date_seq'] == min_seq, 'date_created'].iloc[0]\n",
    "mapped_max_date = df_filtered.loc[df_filtered['date_seq'] == max_seq, 'date_created'].iloc[0]\n",
    "\n",
    "# sanity‐check\n",
    "print(f\"earliest actual date: {min_date}, mapped date at seq {min_seq}: {mapped_min_date}\")\n",
    "print(f\" latest actual date: {max_date}, mapped date at seq {max_seq}: {mapped_max_date}\")"
   ]
  },
  {
   "cell_type": "code",
   "execution_count": 33,
   "id": "c33d508f-f6f1-4a89-9413-5715201089a0",
   "metadata": {},
   "outputs": [
    {
     "data": {
      "text/html": [
       "<div>\n",
       "<style scoped>\n",
       "    .dataframe tbody tr th:only-of-type {\n",
       "        vertical-align: middle;\n",
       "    }\n",
       "\n",
       "    .dataframe tbody tr th {\n",
       "        vertical-align: top;\n",
       "    }\n",
       "\n",
       "    .dataframe thead th {\n",
       "        text-align: right;\n",
       "    }\n",
       "</style>\n",
       "<table border=\"1\" class=\"dataframe\">\n",
       "  <thead>\n",
       "    <tr style=\"text-align: right;\">\n",
       "      <th></th>\n",
       "      <th>incident_count</th>\n",
       "      <th>hour_created</th>\n",
       "      <th>max_final_priority</th>\n",
       "      <th>inc_resourced</th>\n",
       "      <th>scrs_crime_inc</th>\n",
       "      <th>datazone</th>\n",
       "      <th>dzone_code</th>\n",
       "      <th>service_code_description</th>\n",
       "      <th>multi_member_ward</th>\n",
       "      <th>date_seq</th>\n",
       "    </tr>\n",
       "  </thead>\n",
       "  <tbody>\n",
       "    <tr>\n",
       "      <th>0</th>\n",
       "      <td>2</td>\n",
       "      <td>15</td>\n",
       "      <td>STANDARD</td>\n",
       "      <td>False</td>\n",
       "      <td>True</td>\n",
       "      <td>Northfield and Piershill - 01</td>\n",
       "      <td>S01008743</td>\n",
       "      <td>THEFT</td>\n",
       "      <td>Craigentinny/Duddingston</td>\n",
       "      <td>419</td>\n",
       "    </tr>\n",
       "    <tr>\n",
       "      <th>1</th>\n",
       "      <td>2</td>\n",
       "      <td>7</td>\n",
       "      <td>PROMPT</td>\n",
       "      <td>False</td>\n",
       "      <td>False</td>\n",
       "      <td>Carntyne West and Haghill - 03</td>\n",
       "      <td>S01010244</td>\n",
       "      <td>ROAD TRAFFIC COLLISION</td>\n",
       "      <td>Calton</td>\n",
       "      <td>498</td>\n",
       "    </tr>\n",
       "    <tr>\n",
       "      <th>2</th>\n",
       "      <td>2</td>\n",
       "      <td>20</td>\n",
       "      <td>PROMPT</td>\n",
       "      <td>True</td>\n",
       "      <td>False</td>\n",
       "      <td>Charleston - 04</td>\n",
       "      <td>S01007848</td>\n",
       "      <td>ASSIST MEMBER OF THE PUBLIC</td>\n",
       "      <td>Lochee</td>\n",
       "      <td>322</td>\n",
       "    </tr>\n",
       "    <tr>\n",
       "      <th>3</th>\n",
       "      <td>1</td>\n",
       "      <td>21</td>\n",
       "      <td>PROMPT</td>\n",
       "      <td>True</td>\n",
       "      <td>False</td>\n",
       "      <td>Fort William North - 04</td>\n",
       "      <td>S01010513</td>\n",
       "      <td>ASSIST MEMBER OF THE PUBLIC</td>\n",
       "      <td>Caol and Mallaig</td>\n",
       "      <td>322</td>\n",
       "    </tr>\n",
       "    <tr>\n",
       "      <th>4</th>\n",
       "      <td>1</td>\n",
       "      <td>21</td>\n",
       "      <td>IMMEDIATE</td>\n",
       "      <td>True</td>\n",
       "      <td>False</td>\n",
       "      <td>City Centre - 05</td>\n",
       "      <td>S01007705</td>\n",
       "      <td>ASSIST MEMBER OF THE PUBLIC</td>\n",
       "      <td>Maryfield</td>\n",
       "      <td>322</td>\n",
       "    </tr>\n",
       "  </tbody>\n",
       "</table>\n",
       "</div>"
      ],
      "text/plain": [
       "   incident_count  hour_created max_final_priority inc_resourced  \\\n",
       "0               2            15           STANDARD         False   \n",
       "1               2             7             PROMPT         False   \n",
       "2               2            20             PROMPT          True   \n",
       "3               1            21             PROMPT          True   \n",
       "4               1            21          IMMEDIATE          True   \n",
       "\n",
       "  scrs_crime_inc                        datazone dzone_code  \\\n",
       "0           True   Northfield and Piershill - 01  S01008743   \n",
       "1          False  Carntyne West and Haghill - 03  S01010244   \n",
       "2          False                 Charleston - 04  S01007848   \n",
       "3          False         Fort William North - 04  S01010513   \n",
       "4          False                City Centre - 05  S01007705   \n",
       "\n",
       "      service_code_description         multi_member_ward  date_seq  \n",
       "0                        THEFT  Craigentinny/Duddingston       419  \n",
       "1       ROAD TRAFFIC COLLISION                    Calton       498  \n",
       "2  ASSIST MEMBER OF THE PUBLIC                    Lochee       322  \n",
       "3  ASSIST MEMBER OF THE PUBLIC          Caol and Mallaig       322  \n",
       "4  ASSIST MEMBER OF THE PUBLIC                 Maryfield       322  "
      ]
     },
     "execution_count": 33,
     "metadata": {},
     "output_type": "execute_result"
    }
   ],
   "source": [
    "df_filtered = df_filtered.drop('date_created', axis=1)\n",
    "df_filtered.head()"
   ]
  },
  {
   "cell_type": "code",
   "execution_count": 34,
   "id": "34ee908a-5703-45cf-87e2-22814b981b88",
   "metadata": {},
   "outputs": [
    {
     "data": {
      "text/plain": [
       "incident_count                 int32\n",
       "hour_created                   int32\n",
       "max_final_priority            object\n",
       "inc_resourced               category\n",
       "scrs_crime_inc              category\n",
       "datazone                      object\n",
       "dzone_code                    object\n",
       "service_code_description      object\n",
       "multi_member_ward             object\n",
       "date_seq                       int64\n",
       "dtype: object"
      ]
     },
     "execution_count": 34,
     "metadata": {},
     "output_type": "execute_result"
    }
   ],
   "source": [
    "df_filtered.dtypes"
   ]
  },
  {
   "cell_type": "code",
   "execution_count": 35,
   "id": "851f4689-6cd2-4393-8832-28de4ad70831",
   "metadata": {},
   "outputs": [],
   "source": [
    "import unicodedata\n",
    "\n",
    "# Function to normalize multi_member_ward values\n",
    "def normalize_ward_name(name):\n",
    "    if pd.isnull(name):\n",
    "        return name\n",
    "    name = unicodedata.normalize(\"NFKD\", name).encode(\"ascii\", \"ignore\").decode(\"utf-8\")\n",
    "    name = name.replace(\"&\", \"and\").replace(\"/\", \",\").replace(\"'\", \"\").strip()\n",
    "    name = ' '.join(name.split())  # remove extra internal spaces\n",
    "    return name.lower()  # optional: lowercase for consistency\n",
    "\n",
    "# Apply to real dataset before training\n",
    "df_filtered[\"multi_member_ward\"] = df_filtered[\"multi_member_ward\"].map(normalize_ward_name)\n",
    "lookup[\"MMWard_Name\"] = lookup[\"MMWard_Name\"].map(normalize_ward_name)"
   ]
  },
  {
   "cell_type": "code",
   "execution_count": 36,
   "id": "868153f6-8a2a-4d1a-8e50-a3c72b7f4123",
   "metadata": {},
   "outputs": [
    {
     "name": "stdout",
     "output_type": "stream",
     "text": [
      "353\n"
     ]
    }
   ],
   "source": [
    "print(len(df_filtered[\"multi_member_ward\"].dropna().unique()))"
   ]
  },
  {
   "cell_type": "code",
   "execution_count": 37,
   "id": "464f82ad-d305-4a2b-bdca-ed74990ef6ea",
   "metadata": {},
   "outputs": [
    {
     "data": {
      "text/plain": [
       "array(['lower deeside', 'airyhall,broomhill,garthdee',\n",
       "       'hazlehead,queens cross,countesswells',\n",
       "       'kingswells,sheddocksley,summerhill', 'midstocket,rosemount',\n",
       "       'torry,ferryhill', 'george st,harbour', 'kincorth,nigg,cove',\n",
       "       'hilton,woodside,stockethill', 'tillydrone,seaton,old aberdeen',\n",
       "       'northfield,mastrick north', 'dyce,bucksburn,danestone',\n",
       "       'bridge of don', 'aboyne, upper deeside and donside',\n",
       "       'banchory and mid deeside', 'mearns',\n",
       "       'stonehaven and lower deeside', 'north kincardine',\n",
       "       'westhill and district', 'huntly, strathbogie and howe of alford',\n",
       "       'west garioch', 'inverurie and district', 'east garioch',\n",
       "       'mid formartine', 'ellon and district', 'central buchan',\n",
       "       'turriff and district', 'banff and district', 'troup',\n",
       "       'peterhead south and cruden', 'peterhead north and rattray',\n",
       "       'fraserburgh and district', 'monifieth and sidlaw',\n",
       "       'carnoustie and district', 'arbroath west, letham and friockheim',\n",
       "       'arbroath east and lunan', 'montrose and district',\n",
       "       'brechin and edzell', 'forfar and district', 'kirriemuir and dean',\n",
       "       'oban south and the isles', 'oban north and lorn', 'mid argyll',\n",
       "       'kintyre and the islands', 'south kintyre', 'isle of bute',\n",
       "       'cowal', 'dunoon', 'lomond north', 'helensburgh central',\n",
       "       'helensburgh and lomond south', 'clackmannanshire west',\n",
       "       'clackmannanshire north', 'clackmannanshire central',\n",
       "       'clackmannanshire east', 'clackmannanshire south',\n",
       "       'stranraer and the rhins', 'mid galloway and wigtown west',\n",
       "       'dee and glenkens', 'castle douglas and crocketford', 'abbey',\n",
       "       'mid and upper nithsdale', 'annandale north', 'lochar',\n",
       "       'north west dumfries', 'annandale south', 'nith',\n",
       "       'annandale east and eskdale', 'west end', 'coldside', 'maryfield',\n",
       "       'east end', 'the ferry', 'north east', 'strathmartine', 'lochee',\n",
       "       'doon valley', 'cumnock and new cumnock', 'ballochmyle',\n",
       "       'irvine valley', 'annick', 'kilmarnock east and hurlford',\n",
       "       'kilmarnock south', 'kilmarnock west and crosshouse',\n",
       "       'kilmarnock north', 'milngavie', 'bearsden north',\n",
       "       'bearsden south', 'bishopbriggs north and campsie',\n",
       "       'bishopbriggs south', 'lenzie and kirkintilloch south',\n",
       "       'kirkintilloch east and north and twechar',\n",
       "       'tranent, wallyford and macmerry', 'musselburgh',\n",
       "       'preston, seton and gosford', 'haddington and lammermuir',\n",
       "       'north berwick coastal', 'dunbar and east linton',\n",
       "       'newton mearns north and neilston',\n",
       "       'barrhead, liboside and uplawmoor',\n",
       "       'newton mearns south and eaglesham',\n",
       "       'clarkston, netherlee and williamwood',\n",
       "       'giffnock and thornliebank', 'pentland hills',\n",
       "       'colinton,fairmilehead', 'fountainbridge,craiglockhart',\n",
       "       'sighthill,gorgie', 'morningside', 'liberton,gilmerton',\n",
       "       'southside,newington', 'city centre', 'craigentinny,duddingston',\n",
       "       'leith walk', 'portobello,craigmillar', 'leith', 'forth',\n",
       "       'inverleith', 'corstorphine,murrayfield', 'almond',\n",
       "       'drum brae,gyle', 'barraigh agus bhatarsaigh',\n",
       "       'uibhist a deas, eirisgeigh agus beinn na faoghla',\n",
       "       'uibhist a tuath', 'na hearadh', 'sgire nan loch',\n",
       "       'sgir uige agus carlabhagh', 'an taobh siar agus nis',\n",
       "       'loch a tuath', 'steornabhagh a tuath', 'steornabhagh a deas',\n",
       "       'sgire an rubha', 'denny and banknock', 'bonnybridge and larbert',\n",
       "       'carse, kinnaird and tryst', 'grangemouth', 'falkirk north',\n",
       "       'falkirk south', 'upper braes', 'lower braes',\n",
       "       'boness and blackness', 'west fife and coastal villages',\n",
       "       'dunfermline north', 'rosyth', 'dunfermline central',\n",
       "       'dunfermline south', 'inverkeithing and dalgety bay',\n",
       "       'cowdenbeath', 'lochgelly, cardenden and benarty',\n",
       "       'burntisland, kinghorn and western kirkcaldy', 'kirkcaldy central',\n",
       "       'kirkcaldy east', 'kirkcaldy north',\n",
       "       'buckhaven, methil and wemyss villages',\n",
       "       'glenrothes west and kinglassie',\n",
       "       'glenrothes central and thornton',\n",
       "       'glenrothes north, leslie and markinch',\n",
       "       'leven, kennoway and largo', 'howe of fife and tay coast', 'cupar',\n",
       "       'east neuk and landward', 'st andrews', 'tay bridgehead',\n",
       "       'greater pollok', 'newlands,auldburn', 'cardonald', 'govan',\n",
       "       'pollokshields', 'southside central', 'langside', 'linn', 'calton',\n",
       "       'shettleston', 'baillieston', 'east centre',\n",
       "       'springburn,robroyston', 'canal', 'dennistoun',\n",
       "       'anderston,city,yorkhill', 'hillhead', 'maryhill',\n",
       "       'partick east,kelvindale', 'victoria park',\n",
       "       'garscadden,scotstounhill', 'drumchapel,anniesland',\n",
       "       'fort william and ardnamurchan', 'caol and mallaig',\n",
       "       'badenoch and strathspey', 'nairn and cawdor', 'inverness south',\n",
       "       'culloden and ardersier', 'inverness millburn',\n",
       "       'inverness ness-side', 'inverness central', 'inverness west',\n",
       "       'aird and loch ness', 'wester ross, strathpeffer and lochalsh',\n",
       "       'eilean a cheo', 'dingwall and seaforth', 'cromarty firth',\n",
       "       'tain and easter ross', 'black isle',\n",
       "       'north, west and central sutherland',\n",
       "       'east sutherland and edderton', 'wick and east caithness',\n",
       "       'thurso and northwest caithness', 'inverclyde east',\n",
       "       'inverclyde central', 'inverclyde south west', 'inverclyde west',\n",
       "       'inverclyde south', 'inverclyde north', 'inverclyde east central',\n",
       "       'penicuik', 'midlothian south', 'midlothian west', 'bonnyrigg',\n",
       "       'midlothian east', 'dalkeith', 'speyside glenlivet',\n",
       "       'keith and cullen', 'buckie', 'fochabers lhanbryde',\n",
       "       'elgin city north', 'elgin city south', 'heldon and laich',\n",
       "       'forres', 'arran', 'irvine south', 'irvine east', 'kilwinning',\n",
       "       'irvine west', 'saltcoats and stevenston', 'ardrossan',\n",
       "       'garnock valley', 'north coast', 'wishaw',\n",
       "       'motherwell south east and ravenscraig', 'murdostoun', 'fortissat',\n",
       "       'airdrie south', 'motherwell north', 'mossend and holytown',\n",
       "       'motherwell west', 'bellshill', 'thorniewood', 'coatbridge west',\n",
       "       'coatbridge south', 'coatbridge north', 'airdrie central',\n",
       "       'airdrie north', 'gartcosh, glenboig and moodiesburn',\n",
       "       'stepps, chryston and muirhead', 'cumbernauld south',\n",
       "       'cumbernauld north', 'cumbernauld east', 'kilsyth',\n",
       "       'stromness and south isles', 'west mainland',\n",
       "       'kirkwall west and orphir',\n",
       "       'east mainland, south ronaldsay and burray', 'kirkwall east',\n",
       "       'north isles', 'kinross-shire', 'strathallan', 'strathearn',\n",
       "       'almond and earn', 'strathtay', 'perth city south',\n",
       "       'perth city centre', 'perth city north', 'strathmore',\n",
       "       'carse of gowrie', 'blairgowrie and glens', 'highland',\n",
       "       'johnstone north, kilbarchan, howwood and lochwinnoch',\n",
       "       'johnstone south and elderslie', 'paisley southeast',\n",
       "       'bishopton, bridge of weir and langbank', 'erskine and inchinnan',\n",
       "       'houston, crosslee and linwood', 'paisley northwest',\n",
       "       'paisley southwest', 'paisley east and central',\n",
       "       'paisley northeast and ralston', 'renfrew south and gallowhill',\n",
       "       'renfrew north and braehead', 'tweeddale west', 'tweeddale east',\n",
       "       'leaderdale and melrose', 'galashiels and district',\n",
       "       'mid berwickshire', 'east berwickshire', 'kelso and district',\n",
       "       'jedburgh and district', 'selkirkshire', 'hawick and hermitage',\n",
       "       'hawick and denholm', 'shetland south', 'lerwick south',\n",
       "       'lerwick north and bressay', 'shetland central', 'shetland north',\n",
       "       'shetland west', 'girvan and south carrick',\n",
       "       'maybole, north carrick and coylton', 'ayr west', 'ayr east',\n",
       "       'ayr north', 'prestwick', 'kyle', 'troon', 'clydesdale east',\n",
       "       'clydesdale north', 'clydesdale west', 'clydesdale south',\n",
       "       'larkhall', 'avondale and stonehouse', 'hamilton south',\n",
       "       'hamilton north and east', 'hamilton west and earnock', 'blantyre',\n",
       "       'bothwell and uddingston', 'cambuslang east', 'cambuslang west',\n",
       "       'rutherglen central and north', 'rutherglen south',\n",
       "       'east kilbride south', 'east kilbride central north',\n",
       "       'east kilbride east', 'east kilbride west',\n",
       "       'east kilbride central south', 'forth and endrick',\n",
       "       'stirling west', 'bannockburn', 'stirling east', 'stirling north',\n",
       "       'dunblane and bridge of allan', 'trossachs and teith',\n",
       "       'clydebank waterfront', 'clydebank central', 'kilpatrick',\n",
       "       'dumbarton', 'leven', 'lomond', 'fauldhouse and the breich valley',\n",
       "       'livingston south', 'east livingston and east calder',\n",
       "       'livingston north', 'whitburn and blackburn',\n",
       "       'armadale and blackridge', 'bathgate', 'linlithgow',\n",
       "       'broxburn, uphall and winchburgh'], dtype=object)"
      ]
     },
     "execution_count": 37,
     "metadata": {},
     "output_type": "execute_result"
    }
   ],
   "source": [
    "lookup['MMWard_Name'].unique()"
   ]
  },
  {
   "cell_type": "code",
   "execution_count": 38,
   "id": "f19ffa20-8c7a-4352-a905-54e86e533a08",
   "metadata": {},
   "outputs": [
    {
     "name": "stdout",
     "output_type": "stream",
     "text": [
      "set()\n"
     ]
    }
   ],
   "source": [
    "# Checking difference between the lookup and df multi_ward_member names\n",
    "df_set = set(df_filtered[\"multi_member_ward\"])\n",
    "lookup_set = set(lookup['MMWard_Name'])\n",
    "\n",
    "print(lookup_set-df_set) # this might be a location where a theft was not recorded in the recent years"
   ]
  },
  {
   "cell_type": "markdown",
   "id": "658f4404-1c43-428d-938d-fc31d8f4c1f4",
   "metadata": {},
   "source": [
    "### Modelling"
   ]
  },
  {
   "cell_type": "code",
   "execution_count": 43,
   "id": "117c579c-2bb1-4e19-a9ec-b62a04f0532c",
   "metadata": {},
   "outputs": [],
   "source": [
    "# Removing unnecessary columns\n",
    "df_filtered = df_filtered.drop(['incident_count','datazone', 'dzone_code'], axis=1)"
   ]
  },
  {
   "cell_type": "code",
   "execution_count": 44,
   "id": "9c0ce992-8ee1-4aaa-aec8-d65c00a90be9",
   "metadata": {},
   "outputs": [],
   "source": [
    "import numpy as np\n",
    "cat_cols = df_filtered.select_dtypes(include='object').columns\n",
    "num_cols = df_filtered.select_dtypes(include=np.number).columns"
   ]
  },
  {
   "cell_type": "code",
   "execution_count": 47,
   "id": "d3fc03e7-437a-419e-b285-0e7eb7ca5d6b",
   "metadata": {},
   "outputs": [],
   "source": [
    "probs = df_filtered['multi_member_ward'].value_counts(normalize=True)\n",
    "values = probs.index.tolist()"
   ]
  },
  {
   "cell_type": "code",
   "execution_count": 50,
   "id": "a69b263c-2eed-4293-8f76-aec838c41ab8",
   "metadata": {},
   "outputs": [],
   "source": [
    "synthetic = pd.DataFrame()\n",
    "\n",
    "for col in cat_cols:\n",
    "    probs = df[col].value_counts(normalize=True)\n",
    "    values = probs.index.tolist()\n",
    "    weights = probs.values\n",
    "\n",
    "    synthetic[col] = np.random.choice(values, size=len(df), p=weights)"
   ]
  },
  {
   "cell_type": "code",
   "execution_count": 52,
   "id": "5e1a1d3d-13b7-4392-8355-17b08b2579f7",
   "metadata": {},
   "outputs": [
    {
     "ename": "KeyError",
     "evalue": "'date_seq'",
     "output_type": "error",
     "traceback": [
      "\u001b[31m---------------------------------------------------------------------------\u001b[39m",
      "\u001b[31mKeyError\u001b[39m                                  Traceback (most recent call last)",
      "\u001b[36mFile \u001b[39m\u001b[32m/dcs/large/u2164966/MSc_Dissertation/myenv/lib64/python3.12/site-packages/pandas/core/indexes/base.py:3812\u001b[39m, in \u001b[36mIndex.get_loc\u001b[39m\u001b[34m(self, key)\u001b[39m\n\u001b[32m   3811\u001b[39m \u001b[38;5;28;01mtry\u001b[39;00m:\n\u001b[32m-> \u001b[39m\u001b[32m3812\u001b[39m     \u001b[38;5;28;01mreturn\u001b[39;00m \u001b[38;5;28;43mself\u001b[39;49m\u001b[43m.\u001b[49m\u001b[43m_engine\u001b[49m\u001b[43m.\u001b[49m\u001b[43mget_loc\u001b[49m\u001b[43m(\u001b[49m\u001b[43mcasted_key\u001b[49m\u001b[43m)\u001b[49m\n\u001b[32m   3813\u001b[39m \u001b[38;5;28;01mexcept\u001b[39;00m \u001b[38;5;167;01mKeyError\u001b[39;00m \u001b[38;5;28;01mas\u001b[39;00m err:\n",
      "\u001b[36mFile \u001b[39m\u001b[32mpandas/_libs/index.pyx:167\u001b[39m, in \u001b[36mpandas._libs.index.IndexEngine.get_loc\u001b[39m\u001b[34m()\u001b[39m\n",
      "\u001b[36mFile \u001b[39m\u001b[32mpandas/_libs/index.pyx:196\u001b[39m, in \u001b[36mpandas._libs.index.IndexEngine.get_loc\u001b[39m\u001b[34m()\u001b[39m\n",
      "\u001b[36mFile \u001b[39m\u001b[32mpandas/_libs/hashtable_class_helper.pxi:7088\u001b[39m, in \u001b[36mpandas._libs.hashtable.PyObjectHashTable.get_item\u001b[39m\u001b[34m()\u001b[39m\n",
      "\u001b[36mFile \u001b[39m\u001b[32mpandas/_libs/hashtable_class_helper.pxi:7096\u001b[39m, in \u001b[36mpandas._libs.hashtable.PyObjectHashTable.get_item\u001b[39m\u001b[34m()\u001b[39m\n",
      "\u001b[31mKeyError\u001b[39m: 'date_seq'",
      "\nThe above exception was the direct cause of the following exception:\n",
      "\u001b[31mKeyError\u001b[39m                                  Traceback (most recent call last)",
      "\u001b[36mCell\u001b[39m\u001b[36m \u001b[39m\u001b[32mIn[52]\u001b[39m\u001b[32m, line 2\u001b[39m\n\u001b[32m      1\u001b[39m \u001b[38;5;28;01mfor\u001b[39;00m col \u001b[38;5;129;01min\u001b[39;00m num_cols:\n\u001b[32m----> \u001b[39m\u001b[32m2\u001b[39m     sampled = \u001b[43mdf\u001b[49m\u001b[43m[\u001b[49m\u001b[43mcol\u001b[49m\u001b[43m]\u001b[49m.sample(n=\u001b[38;5;28mlen\u001b[39m(df), replace=\u001b[38;5;28;01mTrue\u001b[39;00m).values\n\u001b[32m      3\u001b[39m     noise = np.random.normal(loc=\u001b[32m0\u001b[39m, scale=df[col].std() * \u001b[32m0.01\u001b[39m, size=\u001b[38;5;28mlen\u001b[39m(df))\n\u001b[32m      4\u001b[39m     synthetic[col] = sampled + noise\n",
      "\u001b[36mFile \u001b[39m\u001b[32m/dcs/large/u2164966/MSc_Dissertation/myenv/lib64/python3.12/site-packages/pandas/core/frame.py:4107\u001b[39m, in \u001b[36mDataFrame.__getitem__\u001b[39m\u001b[34m(self, key)\u001b[39m\n\u001b[32m   4105\u001b[39m \u001b[38;5;28;01mif\u001b[39;00m \u001b[38;5;28mself\u001b[39m.columns.nlevels > \u001b[32m1\u001b[39m:\n\u001b[32m   4106\u001b[39m     \u001b[38;5;28;01mreturn\u001b[39;00m \u001b[38;5;28mself\u001b[39m._getitem_multilevel(key)\n\u001b[32m-> \u001b[39m\u001b[32m4107\u001b[39m indexer = \u001b[38;5;28;43mself\u001b[39;49m\u001b[43m.\u001b[49m\u001b[43mcolumns\u001b[49m\u001b[43m.\u001b[49m\u001b[43mget_loc\u001b[49m\u001b[43m(\u001b[49m\u001b[43mkey\u001b[49m\u001b[43m)\u001b[49m\n\u001b[32m   4108\u001b[39m \u001b[38;5;28;01mif\u001b[39;00m is_integer(indexer):\n\u001b[32m   4109\u001b[39m     indexer = [indexer]\n",
      "\u001b[36mFile \u001b[39m\u001b[32m/dcs/large/u2164966/MSc_Dissertation/myenv/lib64/python3.12/site-packages/pandas/core/indexes/base.py:3819\u001b[39m, in \u001b[36mIndex.get_loc\u001b[39m\u001b[34m(self, key)\u001b[39m\n\u001b[32m   3814\u001b[39m     \u001b[38;5;28;01mif\u001b[39;00m \u001b[38;5;28misinstance\u001b[39m(casted_key, \u001b[38;5;28mslice\u001b[39m) \u001b[38;5;129;01mor\u001b[39;00m (\n\u001b[32m   3815\u001b[39m         \u001b[38;5;28misinstance\u001b[39m(casted_key, abc.Iterable)\n\u001b[32m   3816\u001b[39m         \u001b[38;5;129;01mand\u001b[39;00m \u001b[38;5;28many\u001b[39m(\u001b[38;5;28misinstance\u001b[39m(x, \u001b[38;5;28mslice\u001b[39m) \u001b[38;5;28;01mfor\u001b[39;00m x \u001b[38;5;129;01min\u001b[39;00m casted_key)\n\u001b[32m   3817\u001b[39m     ):\n\u001b[32m   3818\u001b[39m         \u001b[38;5;28;01mraise\u001b[39;00m InvalidIndexError(key)\n\u001b[32m-> \u001b[39m\u001b[32m3819\u001b[39m     \u001b[38;5;28;01mraise\u001b[39;00m \u001b[38;5;167;01mKeyError\u001b[39;00m(key) \u001b[38;5;28;01mfrom\u001b[39;00m\u001b[38;5;250m \u001b[39m\u001b[34;01merr\u001b[39;00m\n\u001b[32m   3820\u001b[39m \u001b[38;5;28;01mexcept\u001b[39;00m \u001b[38;5;167;01mTypeError\u001b[39;00m:\n\u001b[32m   3821\u001b[39m     \u001b[38;5;66;03m# If we have a listlike key, _check_indexing_error will raise\u001b[39;00m\n\u001b[32m   3822\u001b[39m     \u001b[38;5;66;03m#  InvalidIndexError. Otherwise we fall through and re-raise\u001b[39;00m\n\u001b[32m   3823\u001b[39m     \u001b[38;5;66;03m#  the TypeError.\u001b[39;00m\n\u001b[32m   3824\u001b[39m     \u001b[38;5;28mself\u001b[39m._check_indexing_error(key)\n",
      "\u001b[31mKeyError\u001b[39m: 'date_seq'"
     ]
    }
   ],
   "source": []
  },
  {
   "cell_type": "code",
   "execution_count": null,
   "id": "6efc5381-de05-4503-b095-4eb8ad5664ab",
   "metadata": {},
   "outputs": [],
   "source": []
  }
 ],
 "metadata": {
  "kernelspec": {
   "display_name": "Python 3 (ipykernel)",
   "language": "python",
   "name": "python3"
  },
  "language_info": {
   "codemirror_mode": {
    "name": "ipython",
    "version": 3
   },
   "file_extension": ".py",
   "mimetype": "text/x-python",
   "name": "python",
   "nbconvert_exporter": "python",
   "pygments_lexer": "ipython3",
   "version": "3.12.11"
  }
 },
 "nbformat": 4,
 "nbformat_minor": 5
}
