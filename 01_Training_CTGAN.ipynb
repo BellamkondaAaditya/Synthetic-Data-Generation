{
 "cells": [
  {
   "cell_type": "code",
   "execution_count": 2,
   "id": "6fe09dc8-953b-4962-bb7f-6298fbe519f3",
   "metadata": {
    "scrolled": true
   },
   "outputs": [
    {
     "name": "stdout",
     "output_type": "stream",
     "text": [
      "Collecting sdv\n",
      "  Using cached sdv-1.26.0-py3-none-any.whl.metadata (14 kB)\n",
      "Requirement already satisfied: boto3<2.0.0,>=1.28 in ./myenv/lib64/python3.12/site-packages (from sdv) (1.38.46)\n",
      "Requirement already satisfied: botocore<2.0.0,>=1.31 in ./myenv/lib64/python3.12/site-packages (from sdv) (1.38.46)\n",
      "Requirement already satisfied: cloudpickle>=2.1.0 in ./myenv/lib64/python3.12/site-packages (from sdv) (3.1.1)\n",
      "Requirement already satisfied: graphviz>=0.13.2 in ./myenv/lib64/python3.12/site-packages (from sdv) (0.21)\n",
      "Requirement already satisfied: numpy>=1.26.0 in ./myenv/lib64/python3.12/site-packages (from sdv) (2.3.2)\n",
      "Requirement already satisfied: pandas>=2.1.1 in ./myenv/lib64/python3.12/site-packages (from sdv) (2.3.1)\n",
      "Requirement already satisfied: tqdm>=4.29 in ./myenv/lib64/python3.12/site-packages (from sdv) (4.67.1)\n",
      "Requirement already satisfied: copulas>=0.12.1 in ./myenv/lib64/python3.12/site-packages (from sdv) (0.12.3)\n",
      "Requirement already satisfied: ctgan>=0.11.0 in ./myenv/lib64/python3.12/site-packages (from sdv) (0.11.0)\n",
      "Requirement already satisfied: deepecho>=0.7.0 in ./myenv/lib64/python3.12/site-packages (from sdv) (0.7.0)\n",
      "Requirement already satisfied: rdt>=1.17.0 in ./myenv/lib64/python3.12/site-packages (from sdv) (1.17.1)\n",
      "Requirement already satisfied: sdmetrics>=0.21.0 in ./myenv/lib64/python3.12/site-packages (from sdv) (0.22.0)\n",
      "Requirement already satisfied: platformdirs>=4.0 in ./myenv/lib64/python3.12/site-packages (from sdv) (4.3.8)\n",
      "Requirement already satisfied: pyyaml>=6.0.1 in ./myenv/lib64/python3.12/site-packages (from sdv) (6.0.2)\n",
      "Requirement already satisfied: jmespath<2.0.0,>=0.7.1 in ./myenv/lib64/python3.12/site-packages (from boto3<2.0.0,>=1.28->sdv) (1.0.1)\n",
      "Requirement already satisfied: s3transfer<0.14.0,>=0.13.0 in ./myenv/lib64/python3.12/site-packages (from boto3<2.0.0,>=1.28->sdv) (0.13.0)\n",
      "Requirement already satisfied: python-dateutil<3.0.0,>=2.1 in ./myenv/lib64/python3.12/site-packages (from botocore<2.0.0,>=1.31->sdv) (2.9.0.post0)\n",
      "Requirement already satisfied: urllib3!=2.2.0,<3,>=1.25.4 in ./myenv/lib64/python3.12/site-packages (from botocore<2.0.0,>=1.31->sdv) (2.5.0)\n",
      "Requirement already satisfied: six>=1.5 in ./myenv/lib64/python3.12/site-packages (from python-dateutil<3.0.0,>=2.1->botocore<2.0.0,>=1.31->sdv) (1.17.0)\n",
      "Requirement already satisfied: plotly>=5.10.0 in ./myenv/lib64/python3.12/site-packages (from copulas>=0.12.1->sdv) (6.2.0)\n",
      "Requirement already satisfied: scipy>=1.12.0 in ./myenv/lib64/python3.12/site-packages (from copulas>=0.12.1->sdv) (1.16.0)\n",
      "Requirement already satisfied: torch>=2.2.0 in ./myenv/lib64/python3.12/site-packages (from ctgan>=0.11.0->sdv) (2.7.1)\n",
      "Requirement already satisfied: pytz>=2020.1 in ./myenv/lib64/python3.12/site-packages (from pandas>=2.1.1->sdv) (2025.2)\n",
      "Requirement already satisfied: tzdata>=2022.7 in ./myenv/lib64/python3.12/site-packages (from pandas>=2.1.1->sdv) (2025.2)\n",
      "Requirement already satisfied: narwhals>=1.15.1 in ./myenv/lib64/python3.12/site-packages (from plotly>=5.10.0->copulas>=0.12.1->sdv) (1.44.0)\n",
      "Requirement already satisfied: packaging in ./myenv/lib64/python3.12/site-packages (from plotly>=5.10.0->copulas>=0.12.1->sdv) (25.0)\n",
      "Requirement already satisfied: scikit-learn>=1.3.1 in ./myenv/lib64/python3.12/site-packages (from rdt>=1.17.0->sdv) (1.4.2)\n",
      "Requirement already satisfied: Faker>=17 in ./myenv/lib64/python3.12/site-packages (from rdt>=1.17.0->sdv) (37.4.0)\n",
      "Requirement already satisfied: joblib>=1.2.0 in ./myenv/lib64/python3.12/site-packages (from scikit-learn>=1.3.1->rdt>=1.17.0->sdv) (1.5.1)\n",
      "Requirement already satisfied: threadpoolctl>=2.0.0 in ./myenv/lib64/python3.12/site-packages (from scikit-learn>=1.3.1->rdt>=1.17.0->sdv) (3.6.0)\n",
      "Requirement already satisfied: filelock in ./myenv/lib64/python3.12/site-packages (from torch>=2.2.0->ctgan>=0.11.0->sdv) (3.18.0)\n",
      "Requirement already satisfied: typing-extensions>=4.10.0 in ./myenv/lib64/python3.12/site-packages (from torch>=2.2.0->ctgan>=0.11.0->sdv) (4.14.0)\n",
      "Requirement already satisfied: setuptools in ./myenv/lib64/python3.12/site-packages (from torch>=2.2.0->ctgan>=0.11.0->sdv) (80.9.0)\n",
      "Requirement already satisfied: sympy>=1.13.3 in ./myenv/lib64/python3.12/site-packages (from torch>=2.2.0->ctgan>=0.11.0->sdv) (1.14.0)\n",
      "Requirement already satisfied: networkx in ./myenv/lib64/python3.12/site-packages (from torch>=2.2.0->ctgan>=0.11.0->sdv) (3.5)\n",
      "Requirement already satisfied: jinja2 in ./myenv/lib64/python3.12/site-packages (from torch>=2.2.0->ctgan>=0.11.0->sdv) (3.1.6)\n",
      "Requirement already satisfied: fsspec in ./myenv/lib64/python3.12/site-packages (from torch>=2.2.0->ctgan>=0.11.0->sdv) (2025.5.1)\n",
      "Requirement already satisfied: nvidia-cuda-nvrtc-cu12==12.6.77 in ./myenv/lib64/python3.12/site-packages (from torch>=2.2.0->ctgan>=0.11.0->sdv) (12.6.77)\n",
      "Requirement already satisfied: nvidia-cuda-runtime-cu12==12.6.77 in ./myenv/lib64/python3.12/site-packages (from torch>=2.2.0->ctgan>=0.11.0->sdv) (12.6.77)\n",
      "Requirement already satisfied: nvidia-cuda-cupti-cu12==12.6.80 in ./myenv/lib64/python3.12/site-packages (from torch>=2.2.0->ctgan>=0.11.0->sdv) (12.6.80)\n",
      "Requirement already satisfied: nvidia-cudnn-cu12==9.5.1.17 in ./myenv/lib64/python3.12/site-packages (from torch>=2.2.0->ctgan>=0.11.0->sdv) (9.5.1.17)\n",
      "Requirement already satisfied: nvidia-cublas-cu12==12.6.4.1 in ./myenv/lib64/python3.12/site-packages (from torch>=2.2.0->ctgan>=0.11.0->sdv) (12.6.4.1)\n",
      "Requirement already satisfied: nvidia-cufft-cu12==11.3.0.4 in ./myenv/lib64/python3.12/site-packages (from torch>=2.2.0->ctgan>=0.11.0->sdv) (11.3.0.4)\n",
      "Requirement already satisfied: nvidia-curand-cu12==10.3.7.77 in ./myenv/lib64/python3.12/site-packages (from torch>=2.2.0->ctgan>=0.11.0->sdv) (10.3.7.77)\n",
      "Requirement already satisfied: nvidia-cusolver-cu12==11.7.1.2 in ./myenv/lib64/python3.12/site-packages (from torch>=2.2.0->ctgan>=0.11.0->sdv) (11.7.1.2)\n",
      "Requirement already satisfied: nvidia-cusparse-cu12==12.5.4.2 in ./myenv/lib64/python3.12/site-packages (from torch>=2.2.0->ctgan>=0.11.0->sdv) (12.5.4.2)\n",
      "Requirement already satisfied: nvidia-cusparselt-cu12==0.6.3 in ./myenv/lib64/python3.12/site-packages (from torch>=2.2.0->ctgan>=0.11.0->sdv) (0.6.3)\n",
      "Requirement already satisfied: nvidia-nccl-cu12==2.26.2 in ./myenv/lib64/python3.12/site-packages (from torch>=2.2.0->ctgan>=0.11.0->sdv) (2.26.2)\n",
      "Requirement already satisfied: nvidia-nvtx-cu12==12.6.77 in ./myenv/lib64/python3.12/site-packages (from torch>=2.2.0->ctgan>=0.11.0->sdv) (12.6.77)\n",
      "Requirement already satisfied: nvidia-nvjitlink-cu12==12.6.85 in ./myenv/lib64/python3.12/site-packages (from torch>=2.2.0->ctgan>=0.11.0->sdv) (12.6.85)\n",
      "Requirement already satisfied: nvidia-cufile-cu12==1.11.1.6 in ./myenv/lib64/python3.12/site-packages (from torch>=2.2.0->ctgan>=0.11.0->sdv) (1.11.1.6)\n",
      "Requirement already satisfied: triton==3.3.1 in ./myenv/lib64/python3.12/site-packages (from torch>=2.2.0->ctgan>=0.11.0->sdv) (3.3.1)\n",
      "Requirement already satisfied: mpmath<1.4,>=1.1.0 in ./myenv/lib64/python3.12/site-packages (from sympy>=1.13.3->torch>=2.2.0->ctgan>=0.11.0->sdv) (1.3.0)\n",
      "Requirement already satisfied: MarkupSafe>=2.0 in ./myenv/lib64/python3.12/site-packages (from jinja2->torch>=2.2.0->ctgan>=0.11.0->sdv) (3.0.2)\n",
      "Using cached sdv-1.26.0-py3-none-any.whl (185 kB)\n",
      "Installing collected packages: sdv\n",
      "Successfully installed sdv-1.26.0\n",
      "Note: you may need to restart the kernel to use updated packages.\n"
     ]
    }
   ],
   "source": [
    "pip install --no-user sdv"
   ]
  },
  {
   "cell_type": "code",
   "execution_count": 1,
   "id": "74f865a7-a704-484b-84d1-c609820adaa6",
   "metadata": {},
   "outputs": [
    {
     "ename": "ModuleNotFoundError",
     "evalue": "No module named 'numpy._core.numeric'",
     "output_type": "error",
     "traceback": [
      "\u001b[0;31m---------------------------------------------------------------------------\u001b[0m",
      "\u001b[0;31mModuleNotFoundError\u001b[0m                       Traceback (most recent call last)",
      "File \u001b[0;32m/dcs/large/u2164966/MSc_Dissertation/myenv/lib64/python3.9/site-packages/pandas/io/pickle.py:202\u001b[0m, in \u001b[0;36mread_pickle\u001b[0;34m(filepath_or_buffer, compression, storage_options)\u001b[0m\n\u001b[1;32m    201\u001b[0m         warnings\u001b[38;5;241m.\u001b[39msimplefilter(\u001b[38;5;124m\"\u001b[39m\u001b[38;5;124mignore\u001b[39m\u001b[38;5;124m\"\u001b[39m, \u001b[38;5;167;01mWarning\u001b[39;00m)\n\u001b[0;32m--> 202\u001b[0m         \u001b[38;5;28;01mreturn\u001b[39;00m \u001b[43mpickle\u001b[49m\u001b[38;5;241;43m.\u001b[39;49m\u001b[43mload\u001b[49m\u001b[43m(\u001b[49m\u001b[43mhandles\u001b[49m\u001b[38;5;241;43m.\u001b[39;49m\u001b[43mhandle\u001b[49m\u001b[43m)\u001b[49m\n\u001b[1;32m    203\u001b[0m \u001b[38;5;28;01mexcept\u001b[39;00m excs_to_catch:\n\u001b[1;32m    204\u001b[0m     \u001b[38;5;66;03m# e.g.\u001b[39;00m\n\u001b[1;32m    205\u001b[0m     \u001b[38;5;66;03m#  \"No module named 'pandas.core.sparse.series'\"\u001b[39;00m\n\u001b[1;32m    206\u001b[0m     \u001b[38;5;66;03m#  \"Can't get attribute '__nat_unpickle' on <module 'pandas._libs.tslib\"\u001b[39;00m\n",
      "\u001b[0;31mModuleNotFoundError\u001b[0m: No module named 'numpy._core.numeric'",
      "\nDuring handling of the above exception, another exception occurred:\n",
      "\u001b[0;31mModuleNotFoundError\u001b[0m                       Traceback (most recent call last)",
      "Cell \u001b[0;32mIn[1], line 5\u001b[0m\n\u001b[1;32m      3\u001b[0m \u001b[38;5;28;01mimport\u001b[39;00m\u001b[38;5;250m \u001b[39m\u001b[38;5;21;01mnumpy\u001b[39;00m\u001b[38;5;250m \u001b[39m\u001b[38;5;28;01mas\u001b[39;00m\u001b[38;5;250m \u001b[39m\u001b[38;5;21;01mnp\u001b[39;00m\n\u001b[1;32m      4\u001b[0m \u001b[38;5;28;01mimport\u001b[39;00m\u001b[38;5;250m \u001b[39m\u001b[38;5;21;01msdv\u001b[39;00m\n\u001b[0;32m----> 5\u001b[0m df_filtered \u001b[38;5;241m=\u001b[39m \u001b[43mpd\u001b[49m\u001b[38;5;241;43m.\u001b[39;49m\u001b[43mread_pickle\u001b[49m\u001b[43m(\u001b[49m\u001b[38;5;124;43m\"\u001b[39;49m\u001b[38;5;124;43mfiltered_data/df_v2_filtered.pkl\u001b[39;49m\u001b[38;5;124;43m\"\u001b[39;49m\u001b[43m)\u001b[49m\n",
      "File \u001b[0;32m/dcs/large/u2164966/MSc_Dissertation/myenv/lib64/python3.9/site-packages/pandas/io/pickle.py:207\u001b[0m, in \u001b[0;36mread_pickle\u001b[0;34m(filepath_or_buffer, compression, storage_options)\u001b[0m\n\u001b[1;32m    202\u001b[0m             \u001b[38;5;28;01mreturn\u001b[39;00m pickle\u001b[38;5;241m.\u001b[39mload(handles\u001b[38;5;241m.\u001b[39mhandle)\n\u001b[1;32m    203\u001b[0m     \u001b[38;5;28;01mexcept\u001b[39;00m excs_to_catch:\n\u001b[1;32m    204\u001b[0m         \u001b[38;5;66;03m# e.g.\u001b[39;00m\n\u001b[1;32m    205\u001b[0m         \u001b[38;5;66;03m#  \"No module named 'pandas.core.sparse.series'\"\u001b[39;00m\n\u001b[1;32m    206\u001b[0m         \u001b[38;5;66;03m#  \"Can't get attribute '__nat_unpickle' on <module 'pandas._libs.tslib\"\u001b[39;00m\n\u001b[0;32m--> 207\u001b[0m         \u001b[38;5;28;01mreturn\u001b[39;00m \u001b[43mpc\u001b[49m\u001b[38;5;241;43m.\u001b[39;49m\u001b[43mload\u001b[49m\u001b[43m(\u001b[49m\u001b[43mhandles\u001b[49m\u001b[38;5;241;43m.\u001b[39;49m\u001b[43mhandle\u001b[49m\u001b[43m,\u001b[49m\u001b[43m \u001b[49m\u001b[43mencoding\u001b[49m\u001b[38;5;241;43m=\u001b[39;49m\u001b[38;5;28;43;01mNone\u001b[39;49;00m\u001b[43m)\u001b[49m\n\u001b[1;32m    208\u001b[0m \u001b[38;5;28;01mexcept\u001b[39;00m \u001b[38;5;167;01mUnicodeDecodeError\u001b[39;00m:\n\u001b[1;32m    209\u001b[0m     \u001b[38;5;66;03m# e.g. can occur for files written in py27; see GH#28645 and GH#31988\u001b[39;00m\n\u001b[1;32m    210\u001b[0m     \u001b[38;5;28;01mreturn\u001b[39;00m pc\u001b[38;5;241m.\u001b[39mload(handles\u001b[38;5;241m.\u001b[39mhandle, encoding\u001b[38;5;241m=\u001b[39m\u001b[38;5;124m\"\u001b[39m\u001b[38;5;124mlatin-1\u001b[39m\u001b[38;5;124m\"\u001b[39m)\n",
      "File \u001b[0;32m/dcs/large/u2164966/MSc_Dissertation/myenv/lib64/python3.9/site-packages/pandas/compat/pickle_compat.py:231\u001b[0m, in \u001b[0;36mload\u001b[0;34m(fh, encoding, is_verbose)\u001b[0m\n\u001b[1;32m    228\u001b[0m     \u001b[38;5;66;03m# \"Unpickler\" has no attribute \"is_verbose\"  [attr-defined]\u001b[39;00m\n\u001b[1;32m    229\u001b[0m     up\u001b[38;5;241m.\u001b[39mis_verbose \u001b[38;5;241m=\u001b[39m is_verbose  \u001b[38;5;66;03m# type: ignore[attr-defined]\u001b[39;00m\n\u001b[0;32m--> 231\u001b[0m     \u001b[38;5;28;01mreturn\u001b[39;00m \u001b[43mup\u001b[49m\u001b[38;5;241;43m.\u001b[39;49m\u001b[43mload\u001b[49m\u001b[43m(\u001b[49m\u001b[43m)\u001b[49m\n\u001b[1;32m    232\u001b[0m \u001b[38;5;28;01mexcept\u001b[39;00m (\u001b[38;5;167;01mValueError\u001b[39;00m, \u001b[38;5;167;01mTypeError\u001b[39;00m):\n\u001b[1;32m    233\u001b[0m     \u001b[38;5;28;01mraise\u001b[39;00m\n",
      "File \u001b[0;32m/usr/lib64/python3.9/pickle.py:1212\u001b[0m, in \u001b[0;36m_Unpickler.load\u001b[0;34m(self)\u001b[0m\n\u001b[1;32m   1210\u001b[0m             \u001b[38;5;28;01mraise\u001b[39;00m \u001b[38;5;167;01mEOFError\u001b[39;00m\n\u001b[1;32m   1211\u001b[0m         \u001b[38;5;28;01massert\u001b[39;00m \u001b[38;5;28misinstance\u001b[39m(key, bytes_types)\n\u001b[0;32m-> 1212\u001b[0m         \u001b[43mdispatch\u001b[49m\u001b[43m[\u001b[49m\u001b[43mkey\u001b[49m\u001b[43m[\u001b[49m\u001b[38;5;241;43m0\u001b[39;49m\u001b[43m]\u001b[49m\u001b[43m]\u001b[49m\u001b[43m(\u001b[49m\u001b[38;5;28;43mself\u001b[39;49m\u001b[43m)\u001b[49m\n\u001b[1;32m   1213\u001b[0m \u001b[38;5;28;01mexcept\u001b[39;00m _Stop \u001b[38;5;28;01mas\u001b[39;00m stopinst:\n\u001b[1;32m   1214\u001b[0m     \u001b[38;5;28;01mreturn\u001b[39;00m stopinst\u001b[38;5;241m.\u001b[39mvalue\n",
      "File \u001b[0;32m/usr/lib64/python3.9/pickle.py:1537\u001b[0m, in \u001b[0;36m_Unpickler.load_stack_global\u001b[0;34m(self)\u001b[0m\n\u001b[1;32m   1535\u001b[0m \u001b[38;5;28;01mif\u001b[39;00m \u001b[38;5;28mtype\u001b[39m(name) \u001b[38;5;129;01mis\u001b[39;00m \u001b[38;5;129;01mnot\u001b[39;00m \u001b[38;5;28mstr\u001b[39m \u001b[38;5;129;01mor\u001b[39;00m \u001b[38;5;28mtype\u001b[39m(module) \u001b[38;5;129;01mis\u001b[39;00m \u001b[38;5;129;01mnot\u001b[39;00m \u001b[38;5;28mstr\u001b[39m:\n\u001b[1;32m   1536\u001b[0m     \u001b[38;5;28;01mraise\u001b[39;00m UnpicklingError(\u001b[38;5;124m\"\u001b[39m\u001b[38;5;124mSTACK_GLOBAL requires str\u001b[39m\u001b[38;5;124m\"\u001b[39m)\n\u001b[0;32m-> 1537\u001b[0m \u001b[38;5;28mself\u001b[39m\u001b[38;5;241m.\u001b[39mappend(\u001b[38;5;28;43mself\u001b[39;49m\u001b[38;5;241;43m.\u001b[39;49m\u001b[43mfind_class\u001b[49m\u001b[43m(\u001b[49m\u001b[43mmodule\u001b[49m\u001b[43m,\u001b[49m\u001b[43m \u001b[49m\u001b[43mname\u001b[49m\u001b[43m)\u001b[49m)\n",
      "File \u001b[0;32m/dcs/large/u2164966/MSc_Dissertation/myenv/lib64/python3.9/site-packages/pandas/compat/pickle_compat.py:162\u001b[0m, in \u001b[0;36mUnpickler.find_class\u001b[0;34m(self, module, name)\u001b[0m\n\u001b[1;32m    160\u001b[0m key \u001b[38;5;241m=\u001b[39m (module, name)\n\u001b[1;32m    161\u001b[0m module, name \u001b[38;5;241m=\u001b[39m _class_locations_map\u001b[38;5;241m.\u001b[39mget(key, key)\n\u001b[0;32m--> 162\u001b[0m \u001b[38;5;28;01mreturn\u001b[39;00m \u001b[38;5;28;43msuper\u001b[39;49m\u001b[43m(\u001b[49m\u001b[43m)\u001b[49m\u001b[38;5;241;43m.\u001b[39;49m\u001b[43mfind_class\u001b[49m\u001b[43m(\u001b[49m\u001b[43mmodule\u001b[49m\u001b[43m,\u001b[49m\u001b[43m \u001b[49m\u001b[43mname\u001b[49m\u001b[43m)\u001b[49m\n",
      "File \u001b[0;32m/usr/lib64/python3.9/pickle.py:1579\u001b[0m, in \u001b[0;36m_Unpickler.find_class\u001b[0;34m(self, module, name)\u001b[0m\n\u001b[1;32m   1577\u001b[0m     \u001b[38;5;28;01melif\u001b[39;00m module \u001b[38;5;129;01min\u001b[39;00m _compat_pickle\u001b[38;5;241m.\u001b[39mIMPORT_MAPPING:\n\u001b[1;32m   1578\u001b[0m         module \u001b[38;5;241m=\u001b[39m _compat_pickle\u001b[38;5;241m.\u001b[39mIMPORT_MAPPING[module]\n\u001b[0;32m-> 1579\u001b[0m \u001b[38;5;28;43m__import__\u001b[39;49m\u001b[43m(\u001b[49m\u001b[43mmodule\u001b[49m\u001b[43m,\u001b[49m\u001b[43m \u001b[49m\u001b[43mlevel\u001b[49m\u001b[38;5;241;43m=\u001b[39;49m\u001b[38;5;241;43m0\u001b[39;49m\u001b[43m)\u001b[49m\n\u001b[1;32m   1580\u001b[0m \u001b[38;5;28;01mif\u001b[39;00m \u001b[38;5;28mself\u001b[39m\u001b[38;5;241m.\u001b[39mproto \u001b[38;5;241m>\u001b[39m\u001b[38;5;241m=\u001b[39m \u001b[38;5;241m4\u001b[39m:\n\u001b[1;32m   1581\u001b[0m     \u001b[38;5;28;01mreturn\u001b[39;00m _getattribute(sys\u001b[38;5;241m.\u001b[39mmodules[module], name)[\u001b[38;5;241m0\u001b[39m]\n",
      "\u001b[0;31mModuleNotFoundError\u001b[0m: No module named 'numpy._core.numeric'"
     ]
    }
   ],
   "source": [
    "# loading data\n",
    "import pandas as pd\n",
    "import numpy as np\n",
    "import sdv\n",
    "df_filtered = pd.read_pickle(\"filtered_data/df_v2_filtered.pkl\")"
   ]
  },
  {
   "cell_type": "code",
   "execution_count": null,
   "id": "4eab2d26",
   "metadata": {},
   "outputs": [],
   "source": [
    "df_filtered['se']"
   ]
  },
  {
   "cell_type": "code",
   "execution_count": 2,
   "id": "360ac284-f823-48ff-a1c6-b4cf25b2572f",
   "metadata": {},
   "outputs": [],
   "source": [
    "from sdv.metadata import Metadata\n",
    "cat_cols  = [\"max_final_priority\", \"service_code_description\", 'scrs_crime_inc', 'inc_resourced', 'multi_member_ward']\n",
    "df_filtered[cat_cols] = df_filtered[cat_cols].astype('object')"
   ]
  },
  {
   "cell_type": "code",
   "execution_count": 4,
   "id": "463c2107-0638-4d46-8cbc-156a69ac0ca4",
   "metadata": {},
   "outputs": [
    {
     "data": {
      "text/plain": [
       "hour_created                 int32\n",
       "max_final_priority          object\n",
       "inc_resourced               object\n",
       "scrs_crime_inc              object\n",
       "service_code_description    object\n",
       "multi_member_ward           object\n",
       "date_seq                     int64\n",
       "dtype: object"
      ]
     },
     "execution_count": 4,
     "metadata": {},
     "output_type": "execute_result"
    }
   ],
   "source": [
    "df_filtered.dtypes"
   ]
  },
  {
   "cell_type": "code",
   "execution_count": null,
   "id": "30156753-bfa5-466c-91cf-c272e03bc9d3",
   "metadata": {},
   "outputs": [],
   "source": [
    "# 1. auto-detect metadata based in your data\n",
    "metadata = Metadata.detect_from_dataframes({\"incidents\":df_filtered})\n",
    "\n",
    "# 2. carefully inspect and update your metadata\n",
    "metadata.visualize()\n",
    "\n",
    "metadata.validate()\n",
    "\n",
    "# 3. save it to a file for future use\n",
    "# metadata.save_to_json('metadata/metadata_theft.json')"
   ]
  },
  {
   "cell_type": "code",
   "execution_count": null,
   "id": "35abc09d-539a-4375-8049-2122fbbeeff4",
   "metadata": {},
   "outputs": [],
   "source": [
    "metadata"
   ]
  },
  {
   "cell_type": "code",
   "execution_count": 8,
   "id": "248e524f-308e-4f6f-aea2-8b0ed4b07dcc",
   "metadata": {},
   "outputs": [
    {
     "name": "stderr",
     "output_type": "stream",
     "text": [
      "/dcs/large/u2164966/MSc_Dissertation/myenv/lib64/python3.12/site-packages/sdv/single_table/base.py:133: UserWarning:\n",
      "\n",
      "We strongly recommend saving the metadata using 'save_to_json' for replicability in future SDV versions.\n",
      "\n"
     ]
    }
   ],
   "source": [
    "from sdv.single_table import CTGANSynthesizer\n",
    "ctgan = CTGANSynthesizer(\n",
    "    metadata,\n",
    "    epochs=200,\n",
    "    batch_size=1024,\n",
    "    pac=8,\n",
    "    embedding_dim=128,\n",
    "    generator_dim=(256, 256),\n",
    "    discriminator_dim=(256, 256),\n",
    "    generator_lr=2e-4,\n",
    "    discriminator_lr=2e-4,\n",
    "    cuda=True,\n",
    "    verbose=True\n",
    ")"
   ]
  },
  {
   "cell_type": "code",
   "execution_count": 9,
   "id": "8ad8cb3d-686e-4128-ba55-b52a30689cde",
   "metadata": {},
   "outputs": [
    {
     "name": "stderr",
     "output_type": "stream",
     "text": [
      "/dcs/large/u2164966/MSc_Dissertation/myenv/lib64/python3.12/site-packages/sdv/single_table/ctgan.py:252: FutureWarning:\n",
      "\n",
      "Downcasting object dtype arrays on .fillna, .ffill, .bfill is deprecated and will change in a future version. Call result.infer_objects(copy=False) instead. To opt-in to the future behavior, set `pd.set_option('future.no_silent_downcasting', True)`\n",
      "\n",
      "Gen. (0.05) | Discrim. (-0.05): 100%|██████████| 200/200 [1:52:26<00:00, 33.73s/it] \n"
     ]
    }
   ],
   "source": [
    "ctgan.fit(\n",
    "    data=df_filtered,\n",
    ")"
   ]
  },
  {
   "cell_type": "code",
   "execution_count": 10,
   "id": "2225426d-9b21-43ab-be00-4211878c88f0",
   "metadata": {},
   "outputs": [
    {
     "data": {
      "application/vnd.plotly.v1+json": {
       "config": {
        "plotlyServerURL": "https://plot.ly"
       },
       "data": [
        {
         "hovertemplate": "variable=Generator Loss<br>Epoch=%{x}<br>value=%{y}<extra></extra>",
         "legendgroup": "Generator Loss",
         "line": {
          "color": "#000036",
          "dash": "solid"
         },
         "marker": {
          "symbol": "circle"
         },
         "mode": "lines",
         "name": "Generator Loss",
         "orientation": "v",
         "showlegend": true,
         "type": "scatter",
         "x": {
          "bdata": "AAABAAIAAwAEAAUABgAHAAgACQAKAAsADAANAA4ADwAQABEAEgATABQAFQAWABcAGAAZABoAGwAcAB0AHgAfACAAIQAiACMAJAAlACYAJwAoACkAKgArACwALQAuAC8AMAAxADIAMwA0ADUANgA3ADgAOQA6ADsAPAA9AD4APwBAAEEAQgBDAEQARQBGAEcASABJAEoASwBMAE0ATgBPAFAAUQBSAFMAVABVAFYAVwBYAFkAWgBbAFwAXQBeAF8AYABhAGIAYwBkAGUAZgBnAGgAaQBqAGsAbABtAG4AbwBwAHEAcgBzAHQAdQB2AHcAeAB5AHoAewB8AH0AfgB/AIAAgQCCAIMAhACFAIYAhwCIAIkAigCLAIwAjQCOAI8AkACRAJIAkwCUAJUAlgCXAJgAmQCaAJsAnACdAJ4AnwCgAKEAogCjAKQApQCmAKcAqACpAKoAqwCsAK0ArgCvALAAsQCyALMAtAC1ALYAtwC4ALkAugC7ALwAvQC+AL8AwADBAMIAwwDEAMUAxgDHAA==",
          "dtype": "i2"
         },
         "xaxis": "x",
         "y": {
          "bdata": "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",
          "dtype": "f8"
         },
         "yaxis": "y"
        },
        {
         "hovertemplate": "variable=Discriminator Loss<br>Epoch=%{x}<br>value=%{y}<extra></extra>",
         "legendgroup": "Discriminator Loss",
         "line": {
          "color": "#01E0C9",
          "dash": "solid"
         },
         "marker": {
          "symbol": "circle"
         },
         "mode": "lines",
         "name": "Discriminator Loss",
         "orientation": "v",
         "showlegend": true,
         "type": "scatter",
         "x": {
          "bdata": "AAABAAIAAwAEAAUABgAHAAgACQAKAAsADAANAA4ADwAQABEAEgATABQAFQAWABcAGAAZABoAGwAcAB0AHgAfACAAIQAiACMAJAAlACYAJwAoACkAKgArACwALQAuAC8AMAAxADIAMwA0ADUANgA3ADgAOQA6ADsAPAA9AD4APwBAAEEAQgBDAEQARQBGAEcASABJAEoASwBMAE0ATgBPAFAAUQBSAFMAVABVAFYAVwBYAFkAWgBbAFwAXQBeAF8AYABhAGIAYwBkAGUAZgBnAGgAaQBqAGsAbABtAG4AbwBwAHEAcgBzAHQAdQB2AHcAeAB5AHoAewB8AH0AfgB/AIAAgQCCAIMAhACFAIYAhwCIAIkAigCLAIwAjQCOAI8AkACRAJIAkwCUAJUAlgCXAJgAmQCaAJsAnACdAJ4AnwCgAKEAogCjAKQApQCmAKcAqACpAKoAqwCsAK0ArgCvALAAsQCyALMAtAC1ALYAtwC4ALkAugC7ALwAvQC+AL8AwADBAMIAwwDEAMUAxgDHAA==",
          "dtype": "i2"
         },
         "xaxis": "x",
         "y": {
          "bdata": "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",
          "dtype": "f8"
         },
         "yaxis": "y"
        }
       ],
       "layout": {
        "font": {
         "size": 18
        },
        "legend": {
         "orientation": "v",
         "title": {
          "text": ""
         },
         "tracegroupgap": 0
        },
        "margin": {
         "t": 60
        },
        "plot_bgcolor": "#F5F5F8",
        "template": {
         "data": {
          "bar": [
           {
            "error_x": {
             "color": "#2a3f5f"
            },
            "error_y": {
             "color": "#2a3f5f"
            },
            "marker": {
             "line": {
              "color": "white",
              "width": 0.5
             },
             "pattern": {
              "fillmode": "overlay",
              "size": 10,
              "solidity": 0.2
             }
            },
            "type": "bar"
           }
          ],
          "barpolar": [
           {
            "marker": {
             "line": {
              "color": "white",
              "width": 0.5
             },
             "pattern": {
              "fillmode": "overlay",
              "size": 10,
              "solidity": 0.2
             }
            },
            "type": "barpolar"
           }
          ],
          "carpet": [
           {
            "aaxis": {
             "endlinecolor": "#2a3f5f",
             "gridcolor": "#C8D4E3",
             "linecolor": "#C8D4E3",
             "minorgridcolor": "#C8D4E3",
             "startlinecolor": "#2a3f5f"
            },
            "baxis": {
             "endlinecolor": "#2a3f5f",
             "gridcolor": "#C8D4E3",
             "linecolor": "#C8D4E3",
             "minorgridcolor": "#C8D4E3",
             "startlinecolor": "#2a3f5f"
            },
            "type": "carpet"
           }
          ],
          "choropleth": [
           {
            "colorbar": {
             "outlinewidth": 0,
             "ticks": ""
            },
            "type": "choropleth"
           }
          ],
          "contour": [
           {
            "colorbar": {
             "outlinewidth": 0,
             "ticks": ""
            },
            "colorscale": [
             [
              0,
              "#0d0887"
             ],
             [
              0.1111111111111111,
              "#46039f"
             ],
             [
              0.2222222222222222,
              "#7201a8"
             ],
             [
              0.3333333333333333,
              "#9c179e"
             ],
             [
              0.4444444444444444,
              "#bd3786"
             ],
             [
              0.5555555555555556,
              "#d8576b"
             ],
             [
              0.6666666666666666,
              "#ed7953"
             ],
             [
              0.7777777777777778,
              "#fb9f3a"
             ],
             [
              0.8888888888888888,
              "#fdca26"
             ],
             [
              1,
              "#f0f921"
             ]
            ],
            "type": "contour"
           }
          ],
          "contourcarpet": [
           {
            "colorbar": {
             "outlinewidth": 0,
             "ticks": ""
            },
            "type": "contourcarpet"
           }
          ],
          "heatmap": [
           {
            "colorbar": {
             "outlinewidth": 0,
             "ticks": ""
            },
            "colorscale": [
             [
              0,
              "#0d0887"
             ],
             [
              0.1111111111111111,
              "#46039f"
             ],
             [
              0.2222222222222222,
              "#7201a8"
             ],
             [
              0.3333333333333333,
              "#9c179e"
             ],
             [
              0.4444444444444444,
              "#bd3786"
             ],
             [
              0.5555555555555556,
              "#d8576b"
             ],
             [
              0.6666666666666666,
              "#ed7953"
             ],
             [
              0.7777777777777778,
              "#fb9f3a"
             ],
             [
              0.8888888888888888,
              "#fdca26"
             ],
             [
              1,
              "#f0f921"
             ]
            ],
            "type": "heatmap"
           }
          ],
          "histogram": [
           {
            "marker": {
             "pattern": {
              "fillmode": "overlay",
              "size": 10,
              "solidity": 0.2
             }
            },
            "type": "histogram"
           }
          ],
          "histogram2d": [
           {
            "colorbar": {
             "outlinewidth": 0,
             "ticks": ""
            },
            "colorscale": [
             [
              0,
              "#0d0887"
             ],
             [
              0.1111111111111111,
              "#46039f"
             ],
             [
              0.2222222222222222,
              "#7201a8"
             ],
             [
              0.3333333333333333,
              "#9c179e"
             ],
             [
              0.4444444444444444,
              "#bd3786"
             ],
             [
              0.5555555555555556,
              "#d8576b"
             ],
             [
              0.6666666666666666,
              "#ed7953"
             ],
             [
              0.7777777777777778,
              "#fb9f3a"
             ],
             [
              0.8888888888888888,
              "#fdca26"
             ],
             [
              1,
              "#f0f921"
             ]
            ],
            "type": "histogram2d"
           }
          ],
          "histogram2dcontour": [
           {
            "colorbar": {
             "outlinewidth": 0,
             "ticks": ""
            },
            "colorscale": [
             [
              0,
              "#0d0887"
             ],
             [
              0.1111111111111111,
              "#46039f"
             ],
             [
              0.2222222222222222,
              "#7201a8"
             ],
             [
              0.3333333333333333,
              "#9c179e"
             ],
             [
              0.4444444444444444,
              "#bd3786"
             ],
             [
              0.5555555555555556,
              "#d8576b"
             ],
             [
              0.6666666666666666,
              "#ed7953"
             ],
             [
              0.7777777777777778,
              "#fb9f3a"
             ],
             [
              0.8888888888888888,
              "#fdca26"
             ],
             [
              1,
              "#f0f921"
             ]
            ],
            "type": "histogram2dcontour"
           }
          ],
          "mesh3d": [
           {
            "colorbar": {
             "outlinewidth": 0,
             "ticks": ""
            },
            "type": "mesh3d"
           }
          ],
          "parcoords": [
           {
            "line": {
             "colorbar": {
              "outlinewidth": 0,
              "ticks": ""
             }
            },
            "type": "parcoords"
           }
          ],
          "pie": [
           {
            "automargin": true,
            "type": "pie"
           }
          ],
          "scatter": [
           {
            "fillpattern": {
             "fillmode": "overlay",
             "size": 10,
             "solidity": 0.2
            },
            "type": "scatter"
           }
          ],
          "scatter3d": [
           {
            "line": {
             "colorbar": {
              "outlinewidth": 0,
              "ticks": ""
             }
            },
            "marker": {
             "colorbar": {
              "outlinewidth": 0,
              "ticks": ""
             }
            },
            "type": "scatter3d"
           }
          ],
          "scattercarpet": [
           {
            "marker": {
             "colorbar": {
              "outlinewidth": 0,
              "ticks": ""
             }
            },
            "type": "scattercarpet"
           }
          ],
          "scattergeo": [
           {
            "marker": {
             "colorbar": {
              "outlinewidth": 0,
              "ticks": ""
             }
            },
            "type": "scattergeo"
           }
          ],
          "scattergl": [
           {
            "marker": {
             "colorbar": {
              "outlinewidth": 0,
              "ticks": ""
             }
            },
            "type": "scattergl"
           }
          ],
          "scattermap": [
           {
            "marker": {
             "colorbar": {
              "outlinewidth": 0,
              "ticks": ""
             }
            },
            "type": "scattermap"
           }
          ],
          "scattermapbox": [
           {
            "marker": {
             "colorbar": {
              "outlinewidth": 0,
              "ticks": ""
             }
            },
            "type": "scattermapbox"
           }
          ],
          "scatterpolar": [
           {
            "marker": {
             "colorbar": {
              "outlinewidth": 0,
              "ticks": ""
             }
            },
            "type": "scatterpolar"
           }
          ],
          "scatterpolargl": [
           {
            "marker": {
             "colorbar": {
              "outlinewidth": 0,
              "ticks": ""
             }
            },
            "type": "scatterpolargl"
           }
          ],
          "scatterternary": [
           {
            "marker": {
             "colorbar": {
              "outlinewidth": 0,
              "ticks": ""
             }
            },
            "type": "scatterternary"
           }
          ],
          "surface": [
           {
            "colorbar": {
             "outlinewidth": 0,
             "ticks": ""
            },
            "colorscale": [
             [
              0,
              "#0d0887"
             ],
             [
              0.1111111111111111,
              "#46039f"
             ],
             [
              0.2222222222222222,
              "#7201a8"
             ],
             [
              0.3333333333333333,
              "#9c179e"
             ],
             [
              0.4444444444444444,
              "#bd3786"
             ],
             [
              0.5555555555555556,
              "#d8576b"
             ],
             [
              0.6666666666666666,
              "#ed7953"
             ],
             [
              0.7777777777777778,
              "#fb9f3a"
             ],
             [
              0.8888888888888888,
              "#fdca26"
             ],
             [
              1,
              "#f0f921"
             ]
            ],
            "type": "surface"
           }
          ],
          "table": [
           {
            "cells": {
             "fill": {
              "color": "#EBF0F8"
             },
             "line": {
              "color": "white"
             }
            },
            "header": {
             "fill": {
              "color": "#C8D4E3"
             },
             "line": {
              "color": "white"
             }
            },
            "type": "table"
           }
          ]
         },
         "layout": {
          "annotationdefaults": {
           "arrowcolor": "#2a3f5f",
           "arrowhead": 0,
           "arrowwidth": 1
          },
          "autotypenumbers": "strict",
          "coloraxis": {
           "colorbar": {
            "outlinewidth": 0,
            "ticks": ""
           }
          },
          "colorscale": {
           "diverging": [
            [
             0,
             "#8e0152"
            ],
            [
             0.1,
             "#c51b7d"
            ],
            [
             0.2,
             "#de77ae"
            ],
            [
             0.3,
             "#f1b6da"
            ],
            [
             0.4,
             "#fde0ef"
            ],
            [
             0.5,
             "#f7f7f7"
            ],
            [
             0.6,
             "#e6f5d0"
            ],
            [
             0.7,
             "#b8e186"
            ],
            [
             0.8,
             "#7fbc41"
            ],
            [
             0.9,
             "#4d9221"
            ],
            [
             1,
             "#276419"
            ]
           ],
           "sequential": [
            [
             0,
             "#0d0887"
            ],
            [
             0.1111111111111111,
             "#46039f"
            ],
            [
             0.2222222222222222,
             "#7201a8"
            ],
            [
             0.3333333333333333,
             "#9c179e"
            ],
            [
             0.4444444444444444,
             "#bd3786"
            ],
            [
             0.5555555555555556,
             "#d8576b"
            ],
            [
             0.6666666666666666,
             "#ed7953"
            ],
            [
             0.7777777777777778,
             "#fb9f3a"
            ],
            [
             0.8888888888888888,
             "#fdca26"
            ],
            [
             1,
             "#f0f921"
            ]
           ],
           "sequentialminus": [
            [
             0,
             "#0d0887"
            ],
            [
             0.1111111111111111,
             "#46039f"
            ],
            [
             0.2222222222222222,
             "#7201a8"
            ],
            [
             0.3333333333333333,
             "#9c179e"
            ],
            [
             0.4444444444444444,
             "#bd3786"
            ],
            [
             0.5555555555555556,
             "#d8576b"
            ],
            [
             0.6666666666666666,
             "#ed7953"
            ],
            [
             0.7777777777777778,
             "#fb9f3a"
            ],
            [
             0.8888888888888888,
             "#fdca26"
            ],
            [
             1,
             "#f0f921"
            ]
           ]
          },
          "colorway": [
           "#636efa",
           "#EF553B",
           "#00cc96",
           "#ab63fa",
           "#FFA15A",
           "#19d3f3",
           "#FF6692",
           "#B6E880",
           "#FF97FF",
           "#FECB52"
          ],
          "font": {
           "color": "#2a3f5f"
          },
          "geo": {
           "bgcolor": "white",
           "lakecolor": "white",
           "landcolor": "white",
           "showlakes": true,
           "showland": true,
           "subunitcolor": "#C8D4E3"
          },
          "hoverlabel": {
           "align": "left"
          },
          "hovermode": "closest",
          "mapbox": {
           "style": "light"
          },
          "paper_bgcolor": "white",
          "plot_bgcolor": "white",
          "polar": {
           "angularaxis": {
            "gridcolor": "#EBF0F8",
            "linecolor": "#EBF0F8",
            "ticks": ""
           },
           "bgcolor": "white",
           "radialaxis": {
            "gridcolor": "#EBF0F8",
            "linecolor": "#EBF0F8",
            "ticks": ""
           }
          },
          "scene": {
           "xaxis": {
            "backgroundcolor": "white",
            "gridcolor": "#DFE8F3",
            "gridwidth": 2,
            "linecolor": "#EBF0F8",
            "showbackground": true,
            "ticks": "",
            "zerolinecolor": "#EBF0F8"
           },
           "yaxis": {
            "backgroundcolor": "white",
            "gridcolor": "#DFE8F3",
            "gridwidth": 2,
            "linecolor": "#EBF0F8",
            "showbackground": true,
            "ticks": "",
            "zerolinecolor": "#EBF0F8"
           },
           "zaxis": {
            "backgroundcolor": "white",
            "gridcolor": "#DFE8F3",
            "gridwidth": 2,
            "linecolor": "#EBF0F8",
            "showbackground": true,
            "ticks": "",
            "zerolinecolor": "#EBF0F8"
           }
          },
          "shapedefaults": {
           "line": {
            "color": "#2a3f5f"
           }
          },
          "ternary": {
           "aaxis": {
            "gridcolor": "#DFE8F3",
            "linecolor": "#A2B1C6",
            "ticks": ""
           },
           "baxis": {
            "gridcolor": "#DFE8F3",
            "linecolor": "#A2B1C6",
            "ticks": ""
           },
           "bgcolor": "white",
           "caxis": {
            "gridcolor": "#DFE8F3",
            "linecolor": "#A2B1C6",
            "ticks": ""
           }
          },
          "title": {
           "x": 0.05
          },
          "xaxis": {
           "automargin": true,
           "gridcolor": "#EBF0F8",
           "linecolor": "#EBF0F8",
           "ticks": "",
           "title": {
            "standoff": 15
           },
           "zerolinecolor": "#EBF0F8",
           "zerolinewidth": 2
          },
          "yaxis": {
           "automargin": true,
           "gridcolor": "#EBF0F8",
           "linecolor": "#EBF0F8",
           "ticks": "",
           "title": {
            "standoff": 15
           },
           "zerolinecolor": "#EBF0F8",
           "zerolinewidth": 2
          }
         }
        },
        "title": {
         "text": "CTGAN loss function"
        },
        "xaxis": {
         "anchor": "y",
         "domain": [
          0,
          1
         ],
         "title": {
          "text": "Epoch"
         }
        },
        "yaxis": {
         "anchor": "x",
         "domain": [
          0,
          1
         ],
         "title": {
          "text": "Loss"
         }
        }
       }
      },
      "image/png": "[encoded data removed]"
     },
     "metadata": {},
     "output_type": "display_data"
    }
   ],
   "source": [
    "# Visualising the loss functions\n",
    "fig = ctgan.get_loss_values_plot()\n",
    "fig.show()"
   ]
  },
  {
   "cell_type": "code",
   "execution_count": 11,
   "id": "2332acbc-60a2-417b-bf64-0617aa858316",
   "metadata": {},
   "outputs": [],
   "source": [
    "# Saving the model to a pickle file\n",
    "ctgan.save(\n",
    "    filepath='models/ctgan.pkl'\n",
    ")"
   ]
  },
  {
   "cell_type": "code",
   "execution_count": null,
   "id": "a6722e8f-83f7-43cd-aadb-28fc65b912da",
   "metadata": {},
   "outputs": [],
   "source": []
  }
 ],
 "metadata": {
  "kernelspec": {
   "display_name": "myenv",
   "language": "python",
   "name": "python3"
  },
  "language_info": {
   "codemirror_mode": {
    "name": "ipython",
    "version": 3
   },
   "file_extension": ".py",
   "mimetype": "text/x-python",
   "name": "python",
   "nbconvert_exporter": "python",
   "pygments_lexer": "ipython3",
   "version": "3.9.21"
  }
 },
 "nbformat": 4,
 "nbformat_minor": 5
}
